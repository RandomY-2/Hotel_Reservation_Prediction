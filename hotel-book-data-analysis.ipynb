{
 "cells": [
  {
   "cell_type": "markdown",
   "metadata": {
    "papermill": {
     "duration": 0.053653,
     "end_time": "2020-11-13T06:55:26.466772",
     "exception": false,
     "start_time": "2020-11-13T06:55:26.413119",
     "status": "completed"
    },
    "tags": []
   },
   "source": [
    "# Introduction\n",
    "\n",
    "Hello everyone! This is my data analysis on the Hotel Booking dataset, and this is the first time that I will try to analyze the data and define my own question and solve it. I am very excited! Now, let's us first take a look at our data."
   ]
  },
  {
   "cell_type": "code",
   "execution_count": 1,
   "metadata": {
    "_cell_guid": "b1076dfc-b9ad-4769-8c92-a6c4dae69d19",
    "_uuid": "8f2839f25d086af736a60e9eeb907d3b93b6e0e5",
    "execution": {
     "iopub.execute_input": "2020-11-13T06:55:26.585193Z",
     "iopub.status.busy": "2020-11-13T06:55:26.582608Z",
     "iopub.status.idle": "2020-11-13T06:55:29.075795Z",
     "shell.execute_reply": "2020-11-13T06:55:29.075042Z"
    },
    "papermill": {
     "duration": 2.557747,
     "end_time": "2020-11-13T06:55:29.075928",
     "exception": false,
     "start_time": "2020-11-13T06:55:26.518181",
     "status": "completed"
    },
    "tags": []
   },
   "outputs": [
    {
     "name": "stdout",
     "output_type": "stream",
     "text": [
      "/kaggle/input/hotel-booking-demand/hotel_bookings.csv\n"
     ]
    }
   ],
   "source": [
    "# This Python 3 environment comes with many helpful analytics libraries installed\n",
    "# It is defined by the kaggle/python Docker image: https://github.com/kaggle/docker-python\n",
    "# For example, here's several helpful packages to load\n",
    "\n",
    "import numpy as np\n",
    "import pandas as pd\n",
    "\n",
    "from sklearn.compose import ColumnTransformer\n",
    "from sklearn.pipeline import Pipeline\n",
    "from sklearn.impute import SimpleImputer\n",
    "from sklearn.preprocessing import LabelEncoder, OneHotEncoder\n",
    "from sklearn.model_selection import train_test_split\n",
    "from sklearn.metrics import mean_squared_error\n",
    "import math\n",
    "import seaborn as sns\n",
    "import matplotlib.pyplot as plt\n",
    "%matplotlib inline\n",
    "from sklearn.model_selection import GridSearchCV\n",
    "import plotly.express as px\n",
    "from sklearn.model_selection import train_test_split, KFold, cross_validate, cross_val_score\n",
    "\n",
    "# Input data files are available in the read-only \"../input/\" directory\n",
    "# For example, running this (by clicking run or pressing Shift+Enter) will list all files under the input directory\n",
    "\n",
    "import os\n",
    "for dirname, _, filenames in os.walk('/kaggle/input'):\n",
    "    for filename in filenames:\n",
    "        print(os.path.join(dirname, filename))\n",
    "\n",
    "# You can write up to 20GB to the current directory (/kaggle/working/) that gets preserved as output when you create a version using \"Save & Run All\" \n",
    "# You can also write temporary files to /kaggle/temp/, but they won't be saved outside of the current session"
   ]
  },
  {
   "cell_type": "code",
   "execution_count": 2,
   "metadata": {
    "_cell_guid": "79c7e3d0-c299-4dcb-8224-4455121ee9b0",
    "_uuid": "d629ff2d2480ee46fbb7e2d37f6b5fab8052498a",
    "execution": {
     "iopub.execute_input": "2020-11-13T06:55:29.185457Z",
     "iopub.status.busy": "2020-11-13T06:55:29.184706Z",
     "iopub.status.idle": "2020-11-13T06:55:29.745761Z",
     "shell.execute_reply": "2020-11-13T06:55:29.744966Z"
    },
    "papermill": {
     "duration": 0.618087,
     "end_time": "2020-11-13T06:55:29.745892",
     "exception": false,
     "start_time": "2020-11-13T06:55:29.127805",
     "status": "completed"
    },
    "tags": []
   },
   "outputs": [],
   "source": [
    "full_data = pd.read_csv(\"/kaggle/input/hotel-booking-demand/hotel_bookings.csv\")"
   ]
  },
  {
   "cell_type": "code",
   "execution_count": 3,
   "metadata": {
    "execution": {
     "iopub.execute_input": "2020-11-13T06:55:29.856980Z",
     "iopub.status.busy": "2020-11-13T06:55:29.855832Z",
     "iopub.status.idle": "2020-11-13T06:55:29.861127Z",
     "shell.execute_reply": "2020-11-13T06:55:29.860366Z"
    },
    "papermill": {
     "duration": 0.064089,
     "end_time": "2020-11-13T06:55:29.861254",
     "exception": false,
     "start_time": "2020-11-13T06:55:29.797165",
     "status": "completed"
    },
    "tags": []
   },
   "outputs": [
    {
     "data": {
      "text/plain": [
       "(119390, 32)"
      ]
     },
     "execution_count": 3,
     "metadata": {},
     "output_type": "execute_result"
    }
   ],
   "source": [
    "full_data.shape"
   ]
  },
  {
   "cell_type": "code",
   "execution_count": 4,
   "metadata": {
    "execution": {
     "iopub.execute_input": "2020-11-13T06:55:29.996448Z",
     "iopub.status.busy": "2020-11-13T06:55:29.990348Z",
     "iopub.status.idle": "2020-11-13T06:55:30.014163Z",
     "shell.execute_reply": "2020-11-13T06:55:30.013545Z"
    },
    "papermill": {
     "duration": 0.101259,
     "end_time": "2020-11-13T06:55:30.014305",
     "exception": false,
     "start_time": "2020-11-13T06:55:29.913046",
     "status": "completed"
    },
    "tags": []
   },
   "outputs": [
    {
     "data": {
      "text/html": [
       "<div>\n",
       "<style scoped>\n",
       "    .dataframe tbody tr th:only-of-type {\n",
       "        vertical-align: middle;\n",
       "    }\n",
       "\n",
       "    .dataframe tbody tr th {\n",
       "        vertical-align: top;\n",
       "    }\n",
       "\n",
       "    .dataframe thead th {\n",
       "        text-align: right;\n",
       "    }\n",
       "</style>\n",
       "<table border=\"1\" class=\"dataframe\">\n",
       "  <thead>\n",
       "    <tr style=\"text-align: right;\">\n",
       "      <th></th>\n",
       "      <th>hotel</th>\n",
       "      <th>is_canceled</th>\n",
       "      <th>lead_time</th>\n",
       "      <th>arrival_date_year</th>\n",
       "      <th>arrival_date_month</th>\n",
       "      <th>arrival_date_week_number</th>\n",
       "      <th>arrival_date_day_of_month</th>\n",
       "      <th>stays_in_weekend_nights</th>\n",
       "      <th>stays_in_week_nights</th>\n",
       "      <th>adults</th>\n",
       "      <th>...</th>\n",
       "      <th>deposit_type</th>\n",
       "      <th>agent</th>\n",
       "      <th>company</th>\n",
       "      <th>days_in_waiting_list</th>\n",
       "      <th>customer_type</th>\n",
       "      <th>adr</th>\n",
       "      <th>required_car_parking_spaces</th>\n",
       "      <th>total_of_special_requests</th>\n",
       "      <th>reservation_status</th>\n",
       "      <th>reservation_status_date</th>\n",
       "    </tr>\n",
       "  </thead>\n",
       "  <tbody>\n",
       "    <tr>\n",
       "      <th>0</th>\n",
       "      <td>Resort Hotel</td>\n",
       "      <td>0</td>\n",
       "      <td>342</td>\n",
       "      <td>2015</td>\n",
       "      <td>July</td>\n",
       "      <td>27</td>\n",
       "      <td>1</td>\n",
       "      <td>0</td>\n",
       "      <td>0</td>\n",
       "      <td>2</td>\n",
       "      <td>...</td>\n",
       "      <td>No Deposit</td>\n",
       "      <td>NaN</td>\n",
       "      <td>NaN</td>\n",
       "      <td>0</td>\n",
       "      <td>Transient</td>\n",
       "      <td>0.0</td>\n",
       "      <td>0</td>\n",
       "      <td>0</td>\n",
       "      <td>Check-Out</td>\n",
       "      <td>2015-07-01</td>\n",
       "    </tr>\n",
       "    <tr>\n",
       "      <th>1</th>\n",
       "      <td>Resort Hotel</td>\n",
       "      <td>0</td>\n",
       "      <td>737</td>\n",
       "      <td>2015</td>\n",
       "      <td>July</td>\n",
       "      <td>27</td>\n",
       "      <td>1</td>\n",
       "      <td>0</td>\n",
       "      <td>0</td>\n",
       "      <td>2</td>\n",
       "      <td>...</td>\n",
       "      <td>No Deposit</td>\n",
       "      <td>NaN</td>\n",
       "      <td>NaN</td>\n",
       "      <td>0</td>\n",
       "      <td>Transient</td>\n",
       "      <td>0.0</td>\n",
       "      <td>0</td>\n",
       "      <td>0</td>\n",
       "      <td>Check-Out</td>\n",
       "      <td>2015-07-01</td>\n",
       "    </tr>\n",
       "    <tr>\n",
       "      <th>2</th>\n",
       "      <td>Resort Hotel</td>\n",
       "      <td>0</td>\n",
       "      <td>7</td>\n",
       "      <td>2015</td>\n",
       "      <td>July</td>\n",
       "      <td>27</td>\n",
       "      <td>1</td>\n",
       "      <td>0</td>\n",
       "      <td>1</td>\n",
       "      <td>1</td>\n",
       "      <td>...</td>\n",
       "      <td>No Deposit</td>\n",
       "      <td>NaN</td>\n",
       "      <td>NaN</td>\n",
       "      <td>0</td>\n",
       "      <td>Transient</td>\n",
       "      <td>75.0</td>\n",
       "      <td>0</td>\n",
       "      <td>0</td>\n",
       "      <td>Check-Out</td>\n",
       "      <td>2015-07-02</td>\n",
       "    </tr>\n",
       "    <tr>\n",
       "      <th>3</th>\n",
       "      <td>Resort Hotel</td>\n",
       "      <td>0</td>\n",
       "      <td>13</td>\n",
       "      <td>2015</td>\n",
       "      <td>July</td>\n",
       "      <td>27</td>\n",
       "      <td>1</td>\n",
       "      <td>0</td>\n",
       "      <td>1</td>\n",
       "      <td>1</td>\n",
       "      <td>...</td>\n",
       "      <td>No Deposit</td>\n",
       "      <td>304.0</td>\n",
       "      <td>NaN</td>\n",
       "      <td>0</td>\n",
       "      <td>Transient</td>\n",
       "      <td>75.0</td>\n",
       "      <td>0</td>\n",
       "      <td>0</td>\n",
       "      <td>Check-Out</td>\n",
       "      <td>2015-07-02</td>\n",
       "    </tr>\n",
       "    <tr>\n",
       "      <th>4</th>\n",
       "      <td>Resort Hotel</td>\n",
       "      <td>0</td>\n",
       "      <td>14</td>\n",
       "      <td>2015</td>\n",
       "      <td>July</td>\n",
       "      <td>27</td>\n",
       "      <td>1</td>\n",
       "      <td>0</td>\n",
       "      <td>2</td>\n",
       "      <td>2</td>\n",
       "      <td>...</td>\n",
       "      <td>No Deposit</td>\n",
       "      <td>240.0</td>\n",
       "      <td>NaN</td>\n",
       "      <td>0</td>\n",
       "      <td>Transient</td>\n",
       "      <td>98.0</td>\n",
       "      <td>0</td>\n",
       "      <td>1</td>\n",
       "      <td>Check-Out</td>\n",
       "      <td>2015-07-03</td>\n",
       "    </tr>\n",
       "  </tbody>\n",
       "</table>\n",
       "<p>5 rows × 32 columns</p>\n",
       "</div>"
      ],
      "text/plain": [
       "          hotel  is_canceled  lead_time  arrival_date_year arrival_date_month  \\\n",
       "0  Resort Hotel            0        342               2015               July   \n",
       "1  Resort Hotel            0        737               2015               July   \n",
       "2  Resort Hotel            0          7               2015               July   \n",
       "3  Resort Hotel            0         13               2015               July   \n",
       "4  Resort Hotel            0         14               2015               July   \n",
       "\n",
       "   arrival_date_week_number  arrival_date_day_of_month  \\\n",
       "0                        27                          1   \n",
       "1                        27                          1   \n",
       "2                        27                          1   \n",
       "3                        27                          1   \n",
       "4                        27                          1   \n",
       "\n",
       "   stays_in_weekend_nights  stays_in_week_nights  adults  ...  deposit_type  \\\n",
       "0                        0                     0       2  ...    No Deposit   \n",
       "1                        0                     0       2  ...    No Deposit   \n",
       "2                        0                     1       1  ...    No Deposit   \n",
       "3                        0                     1       1  ...    No Deposit   \n",
       "4                        0                     2       2  ...    No Deposit   \n",
       "\n",
       "   agent company days_in_waiting_list customer_type   adr  \\\n",
       "0    NaN     NaN                    0     Transient   0.0   \n",
       "1    NaN     NaN                    0     Transient   0.0   \n",
       "2    NaN     NaN                    0     Transient  75.0   \n",
       "3  304.0     NaN                    0     Transient  75.0   \n",
       "4  240.0     NaN                    0     Transient  98.0   \n",
       "\n",
       "   required_car_parking_spaces  total_of_special_requests  reservation_status  \\\n",
       "0                            0                          0           Check-Out   \n",
       "1                            0                          0           Check-Out   \n",
       "2                            0                          0           Check-Out   \n",
       "3                            0                          0           Check-Out   \n",
       "4                            0                          1           Check-Out   \n",
       "\n",
       "  reservation_status_date  \n",
       "0              2015-07-01  \n",
       "1              2015-07-01  \n",
       "2              2015-07-02  \n",
       "3              2015-07-02  \n",
       "4              2015-07-03  \n",
       "\n",
       "[5 rows x 32 columns]"
      ]
     },
     "execution_count": 4,
     "metadata": {},
     "output_type": "execute_result"
    }
   ],
   "source": [
    "full_data.head()"
   ]
  },
  {
   "cell_type": "code",
   "execution_count": 5,
   "metadata": {
    "execution": {
     "iopub.execute_input": "2020-11-13T06:55:30.129931Z",
     "iopub.status.busy": "2020-11-13T06:55:30.129112Z",
     "iopub.status.idle": "2020-11-13T06:55:30.135437Z",
     "shell.execute_reply": "2020-11-13T06:55:30.134713Z"
    },
    "papermill": {
     "duration": 0.066715,
     "end_time": "2020-11-13T06:55:30.135574",
     "exception": false,
     "start_time": "2020-11-13T06:55:30.068859",
     "status": "completed"
    },
    "tags": []
   },
   "outputs": [
    {
     "name": "stdout",
     "output_type": "stream",
     "text": [
      "The parameters are:\n",
      "Index(['hotel', 'is_canceled', 'lead_time', 'arrival_date_year',\n",
      "       'arrival_date_month', 'arrival_date_week_number',\n",
      "       'arrival_date_day_of_month', 'stays_in_weekend_nights',\n",
      "       'stays_in_week_nights', 'adults', 'children', 'babies', 'meal',\n",
      "       'country', 'market_segment', 'distribution_channel',\n",
      "       'is_repeated_guest', 'previous_cancellations',\n",
      "       'previous_bookings_not_canceled', 'reserved_room_type',\n",
      "       'assigned_room_type', 'booking_changes', 'deposit_type', 'agent',\n",
      "       'company', 'days_in_waiting_list', 'customer_type', 'adr',\n",
      "       'required_car_parking_spaces', 'total_of_special_requests',\n",
      "       'reservation_status', 'reservation_status_date'],\n",
      "      dtype='object')\n"
     ]
    },
    {
     "data": {
      "text/plain": [
       "32"
      ]
     },
     "execution_count": 5,
     "metadata": {},
     "output_type": "execute_result"
    }
   ],
   "source": [
    "print(\"The parameters are:\")\n",
    "print(full_data.columns.unique())\n",
    "len(full_data.columns.unique())"
   ]
  },
  {
   "cell_type": "code",
   "execution_count": 6,
   "metadata": {
    "execution": {
     "iopub.execute_input": "2020-11-13T06:55:30.251759Z",
     "iopub.status.busy": "2020-11-13T06:55:30.250696Z",
     "iopub.status.idle": "2020-11-13T06:55:30.572661Z",
     "shell.execute_reply": "2020-11-13T06:55:30.571981Z"
    },
    "papermill": {
     "duration": 0.383404,
     "end_time": "2020-11-13T06:55:30.572790",
     "exception": false,
     "start_time": "2020-11-13T06:55:30.189386",
     "status": "completed"
    },
    "tags": []
   },
   "outputs": [
    {
     "name": "stdout",
     "output_type": "stream",
     "text": [
      "Following columns contain missing values:\n",
      "Index(['children', 'country', 'agent', 'company'], dtype='object')\n"
     ]
    },
    {
     "data": {
      "text/plain": [
       "4"
      ]
     },
     "execution_count": 6,
     "metadata": {},
     "output_type": "execute_result"
    }
   ],
   "source": [
    "print(\"Following columns contain missing values:\")\n",
    "print(full_data.columns[full_data.isna().any()].unique())\n",
    "len(full_data.columns[full_data.isna().any()].unique())"
   ]
  },
  {
   "cell_type": "markdown",
   "metadata": {
    "papermill": {
     "duration": 0.055394,
     "end_time": "2020-11-13T06:55:30.684133",
     "exception": false,
     "start_time": "2020-11-13T06:55:30.628739",
     "status": "completed"
    },
    "tags": []
   },
   "source": [
    "So we just had a quick look at the data. There are 119390 rows with 32 parameters, and four of the parameters have missing values. Let's now look deeper into these four columns and see how many values are missed."
   ]
  },
  {
   "cell_type": "code",
   "execution_count": 7,
   "metadata": {
    "execution": {
     "iopub.execute_input": "2020-11-13T06:55:30.804215Z",
     "iopub.status.busy": "2020-11-13T06:55:30.803261Z",
     "iopub.status.idle": "2020-11-13T06:55:30.810216Z",
     "shell.execute_reply": "2020-11-13T06:55:30.809149Z"
    },
    "papermill": {
     "duration": 0.07,
     "end_time": "2020-11-13T06:55:30.810433",
     "exception": false,
     "start_time": "2020-11-13T06:55:30.740433",
     "status": "completed"
    },
    "tags": []
   },
   "outputs": [
    {
     "name": "stdout",
     "output_type": "stream",
     "text": [
      "Number of empty values in children column:  4\n",
      "Percentage：  0.003350364352123293\n"
     ]
    }
   ],
   "source": [
    "print(\"Number of empty values in children column: \", full_data['children'].isnull().sum())\n",
    "print(\"Percentage： \", full_data['children'].isnull().sum() / full_data.shape[0] * 100)"
   ]
  },
  {
   "cell_type": "code",
   "execution_count": 8,
   "metadata": {
    "execution": {
     "iopub.execute_input": "2020-11-13T06:55:30.965928Z",
     "iopub.status.busy": "2020-11-13T06:55:30.964402Z",
     "iopub.status.idle": "2020-11-13T06:55:30.987869Z",
     "shell.execute_reply": "2020-11-13T06:55:30.986473Z"
    },
    "papermill": {
     "duration": 0.115243,
     "end_time": "2020-11-13T06:55:30.988055",
     "exception": false,
     "start_time": "2020-11-13T06:55:30.872812",
     "status": "completed"
    },
    "tags": []
   },
   "outputs": [
    {
     "name": "stdout",
     "output_type": "stream",
     "text": [
      "Number of empty values in country column:  488\n",
      "Percentage：  0.40874445095904177\n"
     ]
    }
   ],
   "source": [
    "print(\"Number of empty values in country column: \", full_data['country'].isnull().sum())\n",
    "print(\"Percentage： \", full_data['country'].isnull().sum() / full_data.shape[0] * 100)"
   ]
  },
  {
   "cell_type": "code",
   "execution_count": 9,
   "metadata": {
    "execution": {
     "iopub.execute_input": "2020-11-13T06:55:31.118469Z",
     "iopub.status.busy": "2020-11-13T06:55:31.117569Z",
     "iopub.status.idle": "2020-11-13T06:55:31.123763Z",
     "shell.execute_reply": "2020-11-13T06:55:31.123010Z"
    },
    "papermill": {
     "duration": 0.073306,
     "end_time": "2020-11-13T06:55:31.123888",
     "exception": false,
     "start_time": "2020-11-13T06:55:31.050582",
     "status": "completed"
    },
    "tags": []
   },
   "outputs": [
    {
     "name": "stdout",
     "output_type": "stream",
     "text": [
      "Number of empty values in agent column:  16340\n",
      "Percentage：  13.686238378423655\n"
     ]
    }
   ],
   "source": [
    "print(\"Number of empty values in agent column: \", full_data['agent'].isnull().sum())\n",
    "print(\"Percentage： \", full_data['agent'].isnull().sum() / full_data.shape[0] * 100)"
   ]
  },
  {
   "cell_type": "code",
   "execution_count": 10,
   "metadata": {
    "execution": {
     "iopub.execute_input": "2020-11-13T06:55:31.247350Z",
     "iopub.status.busy": "2020-11-13T06:55:31.246495Z",
     "iopub.status.idle": "2020-11-13T06:55:31.252836Z",
     "shell.execute_reply": "2020-11-13T06:55:31.251860Z"
    },
    "papermill": {
     "duration": 0.071616,
     "end_time": "2020-11-13T06:55:31.252998",
     "exception": false,
     "start_time": "2020-11-13T06:55:31.181382",
     "status": "completed"
    },
    "tags": []
   },
   "outputs": [
    {
     "name": "stdout",
     "output_type": "stream",
     "text": [
      "Number of empty values in company column:  112593\n",
      "Percentage：  94.30689337465449\n"
     ]
    }
   ],
   "source": [
    "print(\"Number of empty values in company column: \", full_data['company'].isnull().sum())\n",
    "print(\"Percentage： \", full_data['company'].isnull().sum() / full_data.shape[0] * 100)"
   ]
  },
  {
   "cell_type": "markdown",
   "metadata": {
    "papermill": {
     "duration": 0.057389,
     "end_time": "2020-11-13T06:55:31.368477",
     "exception": false,
     "start_time": "2020-11-13T06:55:31.311088",
     "status": "completed"
    },
    "tags": []
   },
   "source": [
    "So from the above we can see the exact number of rows with missing values in each column, and it is shown that the company column has essentially 94.3% values missing! This basically means that we should not use the company column for further data analysis as there are too many missing values. So let's just drop this column."
   ]
  },
  {
   "cell_type": "code",
   "execution_count": 11,
   "metadata": {
    "execution": {
     "iopub.execute_input": "2020-11-13T06:55:31.493994Z",
     "iopub.status.busy": "2020-11-13T06:55:31.493188Z",
     "iopub.status.idle": "2020-11-13T06:55:31.520677Z",
     "shell.execute_reply": "2020-11-13T06:55:31.518242Z"
    },
    "papermill": {
     "duration": 0.093878,
     "end_time": "2020-11-13T06:55:31.520830",
     "exception": false,
     "start_time": "2020-11-13T06:55:31.426952",
     "status": "completed"
    },
    "tags": []
   },
   "outputs": [],
   "source": [
    "full_data = full_data.drop(['company'], axis=1)"
   ]
  },
  {
   "cell_type": "code",
   "execution_count": 12,
   "metadata": {
    "execution": {
     "iopub.execute_input": "2020-11-13T06:55:31.643341Z",
     "iopub.status.busy": "2020-11-13T06:55:31.642432Z",
     "iopub.status.idle": "2020-11-13T06:55:31.646913Z",
     "shell.execute_reply": "2020-11-13T06:55:31.646181Z"
    },
    "papermill": {
     "duration": 0.068237,
     "end_time": "2020-11-13T06:55:31.647051",
     "exception": false,
     "start_time": "2020-11-13T06:55:31.578814",
     "status": "completed"
    },
    "tags": []
   },
   "outputs": [
    {
     "data": {
      "text/plain": [
       "(119390, 31)"
      ]
     },
     "execution_count": 12,
     "metadata": {},
     "output_type": "execute_result"
    }
   ],
   "source": [
    "full_data.shape"
   ]
  },
  {
   "cell_type": "code",
   "execution_count": 13,
   "metadata": {
    "execution": {
     "iopub.execute_input": "2020-11-13T06:55:31.772645Z",
     "iopub.status.busy": "2020-11-13T06:55:31.771774Z",
     "iopub.status.idle": "2020-11-13T06:55:31.776577Z",
     "shell.execute_reply": "2020-11-13T06:55:31.775810Z"
    },
    "papermill": {
     "duration": 0.070126,
     "end_time": "2020-11-13T06:55:31.776715",
     "exception": false,
     "start_time": "2020-11-13T06:55:31.706589",
     "status": "completed"
    },
    "tags": []
   },
   "outputs": [
    {
     "data": {
      "text/plain": [
       "Index(['hotel', 'is_canceled', 'lead_time', 'arrival_date_year',\n",
       "       'arrival_date_month', 'arrival_date_week_number',\n",
       "       'arrival_date_day_of_month', 'stays_in_weekend_nights',\n",
       "       'stays_in_week_nights', 'adults', 'children', 'babies', 'meal',\n",
       "       'country', 'market_segment', 'distribution_channel',\n",
       "       'is_repeated_guest', 'previous_cancellations',\n",
       "       'previous_bookings_not_canceled', 'reserved_room_type',\n",
       "       'assigned_room_type', 'booking_changes', 'deposit_type', 'agent',\n",
       "       'days_in_waiting_list', 'customer_type', 'adr',\n",
       "       'required_car_parking_spaces', 'total_of_special_requests',\n",
       "       'reservation_status', 'reservation_status_date'],\n",
       "      dtype='object')"
      ]
     },
     "execution_count": 13,
     "metadata": {},
     "output_type": "execute_result"
    }
   ],
   "source": [
    "full_data.columns.unique()"
   ]
  },
  {
   "cell_type": "markdown",
   "metadata": {
    "papermill": {
     "duration": 0.059183,
     "end_time": "2020-11-13T06:55:31.895943",
     "exception": false,
     "start_time": "2020-11-13T06:55:31.836760",
     "status": "completed"
    },
    "tags": []
   },
   "source": [
    "# Univariate Data analysis\n",
    "\n",
    "Now we have see the general picture of our data. I say we can explore some of the columns deeper and visualize their distributions and check outliers and other characteristics. Let's begin!"
   ]
  },
  {
   "cell_type": "markdown",
   "metadata": {
    "papermill": {
     "duration": 0.060018,
     "end_time": "2020-11-13T06:55:32.015982",
     "exception": false,
     "start_time": "2020-11-13T06:55:31.955964",
     "status": "completed"
    },
    "tags": []
   },
   "source": [
    "**Hotel**\n",
    "\n",
    "From this column, we can see that more people(almost double) prefer to book a city hotel. This may be intuitive because a city hotel is usually cheaper than a resort hotel. "
   ]
  },
  {
   "cell_type": "code",
   "execution_count": 14,
   "metadata": {
    "execution": {
     "iopub.execute_input": "2020-11-13T06:55:32.143515Z",
     "iopub.status.busy": "2020-11-13T06:55:32.142675Z",
     "iopub.status.idle": "2020-11-13T06:55:32.467323Z",
     "shell.execute_reply": "2020-11-13T06:55:32.466650Z"
    },
    "papermill": {
     "duration": 0.390373,
     "end_time": "2020-11-13T06:55:32.467476",
     "exception": false,
     "start_time": "2020-11-13T06:55:32.077103",
     "status": "completed"
    },
    "tags": []
   },
   "outputs": [
    {
     "data": {
      "image/png": "[encoded data removed]",
      "text/plain": [
       "<Figure size 1080x720 with 1 Axes>"
      ]
     },
     "metadata": {
      "needs_background": "light"
     },
     "output_type": "display_data"
    },
    {
     "name": "stdout",
     "output_type": "stream",
     "text": [
      "City Hotel      66.446101\n",
      "Resort Hotel    33.553899\n",
      "Name: hotel, dtype: float64\n"
     ]
    }
   ],
   "source": [
    "plt.figure(figsize=(15, 10))\n",
    "plt.title(\"Hotel Column\")\n",
    "sns.countplot(x=full_data['hotel'])\n",
    "plt.show()\n",
    "\n",
    "print(full_data['hotel'].value_counts() / full_data.shape[0] * 100)"
   ]
  },
  {
   "cell_type": "markdown",
   "metadata": {
    "papermill": {
     "duration": 0.060135,
     "end_time": "2020-11-13T06:55:32.589710",
     "exception": false,
     "start_time": "2020-11-13T06:55:32.529575",
     "status": "completed"
    },
    "tags": []
   },
   "source": [
    "**is_canceled**\n",
    "\n",
    "From this column, we can see that more people(almost double) tend to not cancel their bookings. "
   ]
  },
  {
   "cell_type": "code",
   "execution_count": 15,
   "metadata": {
    "execution": {
     "iopub.execute_input": "2020-11-13T06:55:32.729970Z",
     "iopub.status.busy": "2020-11-13T06:55:32.726003Z",
     "iopub.status.idle": "2020-11-13T06:55:32.900080Z",
     "shell.execute_reply": "2020-11-13T06:55:32.900651Z"
    },
    "papermill": {
     "duration": 0.250195,
     "end_time": "2020-11-13T06:55:32.900816",
     "exception": false,
     "start_time": "2020-11-13T06:55:32.650621",
     "status": "completed"
    },
    "tags": []
   },
   "outputs": [
    {
     "data": {
      "image/png": "[encoded data removed]",
      "text/plain": [
       "<Figure size 1080x720 with 1 Axes>"
      ]
     },
     "metadata": {
      "needs_background": "light"
     },
     "output_type": "display_data"
    },
    {
     "name": "stdout",
     "output_type": "stream",
     "text": [
      "0    62.958372\n",
      "1    37.041628\n",
      "Name: is_canceled, dtype: float64\n"
     ]
    }
   ],
   "source": [
    "plt.figure(figsize=(15, 10))\n",
    "plt.title(\"is_canceled Column\")\n",
    "sns.countplot(x=full_data['is_canceled'])\n",
    "plt.show()\n",
    "\n",
    "print(full_data['is_canceled'].value_counts() / full_data.shape[0] * 100)"
   ]
  },
  {
   "cell_type": "markdown",
   "metadata": {
    "papermill": {
     "duration": 0.061549,
     "end_time": "2020-11-13T06:55:33.024233",
     "exception": false,
     "start_time": "2020-11-13T06:55:32.962684",
     "status": "completed"
    },
    "tags": []
   },
   "source": [
    "**lead_time**\n",
    "\n",
    "So here we see that this column is highly right-skewed. Most people only book the hotel a few days before they go, but there is people who book two years prior to their check in!"
   ]
  },
  {
   "cell_type": "code",
   "execution_count": 16,
   "metadata": {
    "execution": {
     "iopub.execute_input": "2020-11-13T06:55:33.157418Z",
     "iopub.status.busy": "2020-11-13T06:55:33.156484Z",
     "iopub.status.idle": "2020-11-13T06:55:33.491222Z",
     "shell.execute_reply": "2020-11-13T06:55:33.490354Z"
    },
    "papermill": {
     "duration": 0.404187,
     "end_time": "2020-11-13T06:55:33.491361",
     "exception": false,
     "start_time": "2020-11-13T06:55:33.087174",
     "status": "completed"
    },
    "tags": []
   },
   "outputs": [
    {
     "data": {
      "image/png": "[encoded data removed]",
      "text/plain": [
       "<Figure size 1080x720 with 1 Axes>"
      ]
     },
     "metadata": {
      "needs_background": "light"
     },
     "output_type": "display_data"
    },
    {
     "name": "stdout",
     "output_type": "stream",
     "text": [
      "count    119390.000000\n",
      "mean        104.011416\n",
      "std         106.863097\n",
      "min           0.000000\n",
      "25%          18.000000\n",
      "50%          69.000000\n",
      "75%         160.000000\n",
      "max         737.000000\n",
      "Name: lead_time, dtype: float64\n"
     ]
    }
   ],
   "source": [
    "plt.figure(figsize=(15, 10))\n",
    "plt.title(\"lead_time Column\")\n",
    "sns.distplot(a=full_data['lead_time'], kde=False, axlabel=\"Number of elapsed days\")\n",
    "plt.show()\n",
    "\n",
    "print(full_data['lead_time'].describe())"
   ]
  },
  {
   "cell_type": "markdown",
   "metadata": {
    "papermill": {
     "duration": 0.064469,
     "end_time": "2020-11-13T06:55:33.619490",
     "exception": false,
     "start_time": "2020-11-13T06:55:33.555021",
     "status": "completed"
    },
    "tags": []
   },
   "source": [
    "**Arrival Month**\n",
    "\n",
    "So from this column, we see that there is a slighly increase in arrivings during summer, which is also intuitive because most families can travel together during summer because kids are in vocation. "
   ]
  },
  {
   "cell_type": "code",
   "execution_count": 17,
   "metadata": {
    "execution": {
     "iopub.execute_input": "2020-11-13T06:55:33.774699Z",
     "iopub.status.busy": "2020-11-13T06:55:33.756440Z",
     "iopub.status.idle": "2020-11-13T06:55:34.015007Z",
     "shell.execute_reply": "2020-11-13T06:55:34.016021Z"
    },
    "papermill": {
     "duration": 0.332634,
     "end_time": "2020-11-13T06:55:34.016264",
     "exception": false,
     "start_time": "2020-11-13T06:55:33.683630",
     "status": "completed"
    },
    "tags": []
   },
   "outputs": [
    {
     "data": {
      "image/png": "[encoded data removed]",
      "text/plain": [
       "<Figure size 1080x720 with 1 Axes>"
      ]
     },
     "metadata": {
      "needs_background": "light"
     },
     "output_type": "display_data"
    },
    {
     "name": "stdout",
     "output_type": "stream",
     "text": [
      "January       4.966078\n",
      "February      6.757685\n",
      "March         8.203367\n",
      "April         9.288048\n",
      "May           9.876037\n",
      "June          9.162409\n",
      "July         10.604741\n",
      "August       11.623252\n",
      "September     8.801407\n",
      "October       9.347517\n",
      "November      5.690594\n",
      "December      5.678868\n",
      "dtype: float64\n"
     ]
    }
   ],
   "source": [
    "ordered_months = [\"January\", \"February\", \"March\", \"April\", \"May\", \"June\", \n",
    "          \"July\", \"August\", \"September\", \"October\", \"November\", \"December\"]\n",
    "\n",
    "sorted_month = pd.Categorical(full_data[\"arrival_date_month\"], categories=ordered_months, ordered=True)\n",
    "\n",
    "plt.figure(figsize=(15, 10))\n",
    "plt.title(\"Arrival Month\")\n",
    "sns.countplot(x=sorted_month)\n",
    "plt.show()\n",
    "\n",
    "print(sorted_month.value_counts() / full_data.shape[0] * 100)"
   ]
  },
  {
   "cell_type": "markdown",
   "metadata": {
    "papermill": {
     "duration": 0.0649,
     "end_time": "2020-11-13T06:55:34.147428",
     "exception": false,
     "start_time": "2020-11-13T06:55:34.082528",
     "status": "completed"
    },
    "tags": []
   },
   "source": [
    "**stays_in_weekend_nights**\n",
    "\n",
    "So most people actually don't stay overnight during weekends, but there are people who basically lived in the hotel for a few weeks."
   ]
  },
  {
   "cell_type": "code",
   "execution_count": 18,
   "metadata": {
    "execution": {
     "iopub.execute_input": "2020-11-13T06:55:34.291103Z",
     "iopub.status.busy": "2020-11-13T06:55:34.285503Z",
     "iopub.status.idle": "2020-11-13T06:55:34.554754Z",
     "shell.execute_reply": "2020-11-13T06:55:34.554110Z"
    },
    "papermill": {
     "duration": 0.342234,
     "end_time": "2020-11-13T06:55:34.554898",
     "exception": false,
     "start_time": "2020-11-13T06:55:34.212664",
     "status": "completed"
    },
    "tags": []
   },
   "outputs": [
    {
     "data": {
      "image/png": "[encoded data removed]",
      "text/plain": [
       "<Figure size 1080x720 with 1 Axes>"
      ]
     },
     "metadata": {
      "needs_background": "light"
     },
     "output_type": "display_data"
    },
    {
     "name": "stdout",
     "output_type": "stream",
     "text": [
      "0     43.553061\n",
      "2     27.898484\n",
      "1     25.652065\n",
      "4      1.553731\n",
      "3      1.054527\n",
      "6      0.128151\n",
      "5      0.066170\n",
      "8      0.050255\n",
      "7      0.015914\n",
      "9      0.009214\n",
      "10     0.005863\n",
      "12     0.004188\n",
      "13     0.002513\n",
      "16     0.002513\n",
      "14     0.001675\n",
      "18     0.000838\n",
      "19     0.000838\n",
      "Name: stays_in_weekend_nights, dtype: float64\n"
     ]
    }
   ],
   "source": [
    "plt.figure(figsize=(15, 10))\n",
    "plt.title(\"Weekend Nights Column\")\n",
    "sns.countplot(x=full_data['stays_in_weekend_nights'])\n",
    "plt.show()\n",
    "\n",
    "print(full_data['stays_in_weekend_nights'].value_counts() / full_data.shape[0] * 100)"
   ]
  },
  {
   "cell_type": "markdown",
   "metadata": {
    "papermill": {
     "duration": 0.066098,
     "end_time": "2020-11-13T06:55:34.687917",
     "exception": false,
     "start_time": "2020-11-13T06:55:34.621819",
     "status": "completed"
    },
    "tags": []
   },
   "source": [
    "**Number of adults**"
   ]
  },
  {
   "cell_type": "code",
   "execution_count": 19,
   "metadata": {
    "execution": {
     "iopub.execute_input": "2020-11-13T06:55:34.842826Z",
     "iopub.status.busy": "2020-11-13T06:55:34.830964Z",
     "iopub.status.idle": "2020-11-13T06:55:35.079715Z",
     "shell.execute_reply": "2020-11-13T06:55:35.078681Z"
    },
    "papermill": {
     "duration": 0.32453,
     "end_time": "2020-11-13T06:55:35.079861",
     "exception": false,
     "start_time": "2020-11-13T06:55:34.755331",
     "status": "completed"
    },
    "tags": []
   },
   "outputs": [
    {
     "data": {
      "image/png": "[encoded data removed]",
      "text/plain": [
       "<Figure size 1080x720 with 1 Axes>"
      ]
     },
     "metadata": {
      "needs_background": "light"
     },
     "output_type": "display_data"
    },
    {
     "name": "stdout",
     "output_type": "stream",
     "text": [
      "2     75.115169\n",
      "1     19.287210\n",
      "3      5.194740\n",
      "0      0.337549\n",
      "4      0.051931\n",
      "26     0.004188\n",
      "27     0.001675\n",
      "20     0.001675\n",
      "5      0.001675\n",
      "55     0.000838\n",
      "50     0.000838\n",
      "40     0.000838\n",
      "10     0.000838\n",
      "6      0.000838\n",
      "Name: adults, dtype: float64\n"
     ]
    }
   ],
   "source": [
    "plt.figure(figsize=(15, 10))\n",
    "plt.title(\"Adult Column\")\n",
    "sns.countplot(x=full_data['adults'])\n",
    "plt.show()\n",
    "\n",
    "print(full_data['adults'].value_counts() / full_data.shape[0] * 100)"
   ]
  },
  {
   "cell_type": "markdown",
   "metadata": {
    "papermill": {
     "duration": 0.068898,
     "end_time": "2020-11-13T06:55:35.217487",
     "exception": false,
     "start_time": "2020-11-13T06:55:35.148589",
     "status": "completed"
    },
    "tags": []
   },
   "source": [
    "**Number of Children**"
   ]
  },
  {
   "cell_type": "code",
   "execution_count": 20,
   "metadata": {
    "execution": {
     "iopub.execute_input": "2020-11-13T06:55:35.369810Z",
     "iopub.status.busy": "2020-11-13T06:55:35.363886Z",
     "iopub.status.idle": "2020-11-13T06:55:35.555853Z",
     "shell.execute_reply": "2020-11-13T06:55:35.554782Z"
    },
    "papermill": {
     "duration": 0.268062,
     "end_time": "2020-11-13T06:55:35.556023",
     "exception": false,
     "start_time": "2020-11-13T06:55:35.287961",
     "status": "completed"
    },
    "tags": []
   },
   "outputs": [
    {
     "data": {
      "image/png": "[encoded data removed]",
      "text/plain": [
       "<Figure size 1080x720 with 1 Axes>"
      ]
     },
     "metadata": {
      "needs_background": "light"
     },
     "output_type": "display_data"
    },
    {
     "name": "stdout",
     "output_type": "stream",
     "text": [
      "0.0     92.801742\n",
      "1.0      4.071530\n",
      "2.0      3.058883\n",
      "3.0      0.063657\n",
      "10.0     0.000838\n",
      "Name: children, dtype: float64\n"
     ]
    }
   ],
   "source": [
    "plt.figure(figsize=(15, 10))\n",
    "plt.title(\"Children Column\")\n",
    "sns.countplot(x=full_data['children'])\n",
    "plt.show()\n",
    "\n",
    "print(full_data['children'].value_counts() / full_data.shape[0] * 100)"
   ]
  },
  {
   "cell_type": "markdown",
   "metadata": {
    "papermill": {
     "duration": 0.070289,
     "end_time": "2020-11-13T06:55:35.699575",
     "exception": false,
     "start_time": "2020-11-13T06:55:35.629286",
     "status": "completed"
    },
    "tags": []
   },
   "source": [
    "**babies**"
   ]
  },
  {
   "cell_type": "code",
   "execution_count": 21,
   "metadata": {
    "execution": {
     "iopub.execute_input": "2020-11-13T06:55:35.968528Z",
     "iopub.status.busy": "2020-11-13T06:55:35.965016Z",
     "iopub.status.idle": "2020-11-13T06:55:36.151855Z",
     "shell.execute_reply": "2020-11-13T06:55:36.151216Z"
    },
    "papermill": {
     "duration": 0.382608,
     "end_time": "2020-11-13T06:55:36.151993",
     "exception": false,
     "start_time": "2020-11-13T06:55:35.769385",
     "status": "completed"
    },
    "tags": []
   },
   "outputs": [
    {
     "data": {
      "image/png": "[encoded data removed]",
      "text/plain": [
       "<Figure size 1080x720 with 1 Axes>"
      ]
     },
     "metadata": {
      "needs_background": "light"
     },
     "output_type": "display_data"
    },
    {
     "name": "stdout",
     "output_type": "stream",
     "text": [
      "0     99.231929\n",
      "1      0.753832\n",
      "2      0.012564\n",
      "10     0.000838\n",
      "9      0.000838\n",
      "Name: babies, dtype: float64\n"
     ]
    }
   ],
   "source": [
    "plt.figure(figsize=(15, 10))\n",
    "plt.title(\"Baby Column\")\n",
    "sns.countplot(x=full_data['babies'])\n",
    "plt.show()\n",
    "\n",
    "print(full_data['babies'].value_counts() / full_data.shape[0] * 100)"
   ]
  },
  {
   "cell_type": "markdown",
   "metadata": {
    "papermill": {
     "duration": 0.073978,
     "end_time": "2020-11-13T06:55:36.298758",
     "exception": false,
     "start_time": "2020-11-13T06:55:36.224780",
     "status": "completed"
    },
    "tags": []
   },
   "source": [
    "**Country**"
   ]
  },
  {
   "cell_type": "code",
   "execution_count": 22,
   "metadata": {
    "execution": {
     "iopub.execute_input": "2020-11-13T06:55:36.453961Z",
     "iopub.status.busy": "2020-11-13T06:55:36.453138Z",
     "iopub.status.idle": "2020-11-13T06:55:37.647655Z",
     "shell.execute_reply": "2020-11-13T06:55:37.646851Z"
    },
    "papermill": {
     "duration": 1.276464,
     "end_time": "2020-11-13T06:55:37.647794",
     "exception": false,
     "start_time": "2020-11-13T06:55:36.371330",
     "status": "completed"
    },
    "tags": []
   },
   "outputs": [
    {
     "data": {
      "text/html": [
       "        <script type=\"text/javascript\">\n",
       "        window.PlotlyConfig = {MathJaxConfig: 'local'};\n",
       "        if (window.MathJax) {MathJax.Hub.Config({SVG: {font: \"STIX-Web\"}});}\n",
       "        if (typeof require !== 'undefined') {\n",
       "        require.undef(\"plotly\");\n",
       "        requirejs.config({\n",
       "            paths: {\n",
       "                'plotly': ['https://cdn.plot.ly/plotly-latest.min']\n",
       "            }\n",
       "        });\n",
       "        require(['plotly'], function(Plotly) {\n",
       "            window._Plotly = Plotly;\n",
       "        });\n",
       "        }\n",
       "        </script>\n",
       "        "
      ]
     },
     "metadata": {},
     "output_type": "display_data"
    },
    {
     "data": {
      "text/html": [
       "<div>                            <div id=\"3a6a4079-6975-4211-a3eb-82649b9ccd1c\" class=\"plotly-graph-div\" style=\"height:525px; width:100%;\"></div>            <script type=\"text/javascript\">                require([\"plotly\"], function(Plotly) {                    window.PLOTLYENV=window.PLOTLYENV || {};                                    if (document.getElementById(\"3a6a4079-6975-4211-a3eb-82649b9ccd1c\")) {                    Plotly.newPlot(                        \"3a6a4079-6975-4211-a3eb-82649b9ccd1c\",                        [{\"coloraxis\": \"coloraxis\", \"geo\": \"geo\", \"hovertemplate\": \"<b>%{hovertext}</b><br><br>index=%{location}<br>Guests in %=%{z}<extra></extra>\", \"hovertext\": [\"PRT\", \"GBR\", \"FRA\", \"ESP\", \"DEU\", \"IRL\", \"ITA\", \"BEL\", \"NLD\", \"USA\", \"BRA\", \"CHE\", \"AUT\", \"CN\", \"SWE\", \"POL\", \"CHN\", \"ISR\", \"NOR\", \"RUS\", \"FIN\", \"ROU\", \"DNK\", \"AUS\", \"LUX\", \"JPN\", \"ARG\", \"AGO\", \"HUN\", \"MAR\", \"TUR\", \"CZE\", \"IND\", \"SRB\", \"GRC\", \"DZA\", \"KOR\", \"HRV\", \"MEX\", \"LTU\", \"NZL\", \"EST\", \"BGR\", \"IRN\", \"ISL\", \"ZAF\", \"CHL\", \"MOZ\", \"UKR\", \"COL\", \"LVA\", \"SVN\", \"SVK\", \"THA\", \"CYP\", \"TWN\", \"MYS\", \"URY\", \"SGP\", \"PER\", \"LBN\", \"EGY\", \"TUN\", \"ECU\", \"CRI\", \"JOR\", \"BLR\", \"PHL\", \"SAU\", \"OMN\", \"KAZ\", \"VEN\", \"IRQ\", \"NGA\", \"MLT\", \"CPV\", \"IDN\", \"BIH\", \"ALB\", \"KWT\", \"PRI\", \"CMR\", \"BOL\", \"PAN\", \"LBY\", \"CUB\", \"AZE\", \"ARE\", \"GNB\", \"MKD\", \"GIB\", \"LKA\", \"GEO\", \"ARM\", \"MUS\", \"JAM\", \"DOM\", \"VNM\", \"PAK\", \"SUR\", \"CAF\", \"GTM\", \"KEN\", \"QAT\", \"BRB\", \"PRY\", \"CIV\", \"SEN\", \"MNE\", \"MCO\", \"SYR\", \"BGD\", \"MDV\", \"HKG\", \"ATA\", \"SLV\", \"TGO\", \"LAO\", \"GHA\", \"UGA\", \"MWI\", \"ETH\", \"STP\", \"TMP\", \"COM\", \"GAB\", \"ABW\", \"UZB\", \"AND\", \"LIE\", \"ZWE\", \"TZA\", \"KNA\", \"RWA\", \"PYF\", \"DMA\", \"MMR\", \"BFA\", \"MAC\", \"MLI\", \"MDG\", \"SMR\", \"CYM\", \"ZMB\", \"NCL\", \"FRO\", \"TJK\", \"ATF\", \"BDI\", \"BWA\", \"GUY\", \"SYC\", \"NAM\", \"PLW\", \"BHR\", \"SDN\", \"LCA\", \"BHS\", \"AIA\", \"ASM\", \"SLE\", \"NPL\", \"DJI\", \"MRT\", \"KIR\"], \"locations\": [\"PRT\", \"GBR\", \"FRA\", \"ESP\", \"DEU\", \"IRL\", \"ITA\", \"BEL\", \"NLD\", \"USA\", \"BRA\", \"CHE\", \"AUT\", \"CN\", \"SWE\", \"POL\", \"CHN\", \"ISR\", \"NOR\", \"RUS\", \"FIN\", \"ROU\", \"DNK\", \"AUS\", \"LUX\", \"JPN\", \"ARG\", \"AGO\", \"HUN\", \"MAR\", \"TUR\", \"CZE\", \"IND\", \"SRB\", \"GRC\", \"DZA\", \"KOR\", \"HRV\", \"MEX\", \"LTU\", \"NZL\", \"EST\", \"BGR\", \"IRN\", \"ISL\", \"ZAF\", \"CHL\", \"MOZ\", \"UKR\", \"COL\", \"LVA\", \"SVN\", \"SVK\", \"THA\", \"CYP\", \"TWN\", \"MYS\", \"URY\", \"SGP\", \"PER\", \"LBN\", \"EGY\", \"TUN\", \"ECU\", \"CRI\", \"JOR\", \"BLR\", \"PHL\", \"SAU\", \"OMN\", \"KAZ\", \"VEN\", \"IRQ\", \"NGA\", \"MLT\", \"CPV\", \"IDN\", \"BIH\", \"ALB\", \"KWT\", \"PRI\", \"CMR\", \"BOL\", \"PAN\", \"LBY\", \"CUB\", \"AZE\", \"ARE\", \"GNB\", \"MKD\", \"GIB\", \"LKA\", \"GEO\", \"ARM\", \"MUS\", \"JAM\", \"DOM\", \"VNM\", \"PAK\", \"SUR\", \"CAF\", \"GTM\", \"KEN\", \"QAT\", \"BRB\", \"PRY\", \"CIV\", \"SEN\", \"MNE\", \"MCO\", \"SYR\", \"BGD\", \"MDV\", \"HKG\", \"ATA\", \"SLV\", \"TGO\", \"LAO\", \"GHA\", \"UGA\", \"MWI\", \"ETH\", \"STP\", \"TMP\", \"COM\", \"GAB\", \"ABW\", \"UZB\", \"AND\", \"LIE\", \"ZWE\", \"TZA\", \"KNA\", \"RWA\", \"PYF\", \"DMA\", \"MMR\", \"BFA\", \"MAC\", \"MLI\", \"MDG\", \"SMR\", \"CYM\", \"ZMB\", \"NCL\", \"FRO\", \"TJK\", \"ATF\", \"BDI\", \"BWA\", \"GUY\", \"SYC\", \"NAM\", \"PLW\", \"BHR\", \"SDN\", \"LCA\", \"BHS\", \"AIA\", \"ASM\", \"SLE\", \"NPL\", \"DJI\", \"MRT\", \"KIR\"], \"name\": \"\", \"type\": \"choropleth\", \"z\": [28.19, 12.95, 11.35, 8.55, 8.12, 3.4, 3.26, 2.5, 2.3, 2.14, 1.87, 1.74, 1.38, 1.37, 1.07, 0.94, 0.72, 0.67, 0.57, 0.53, 0.51, 0.49, 0.44, 0.43, 0.24, 0.23, 0.21, 0.21, 0.2, 0.2, 0.2, 0.18, 0.16, 0.13, 0.12, 0.11, 0.1, 0.1, 0.1, 0.1, 0.09, 0.09, 0.08, 0.08, 0.07, 0.07, 0.07, 0.06, 0.06, 0.06, 0.06, 0.06, 0.05, 0.05, 0.05, 0.05, 0.03, 0.03, 0.03, 0.03, 0.03, 0.03, 0.03, 0.03, 0.02, 0.02, 0.02, 0.02, 0.02, 0.02, 0.02, 0.02, 0.02, 0.02, 0.02, 0.02, 0.01, 0.01, 0.01, 0.01, 0.01, 0.01, 0.01, 0.01, 0.01, 0.01, 0.01, 0.01, 0.01, 0.01, 0.01, 0.01, 0.01, 0.01, 0.01, 0.01, 0.01, 0.01, 0.01, 0.01, 0.01, 0.01, 0.01, 0.01, 0.01, 0.01, 0.01, 0.0, 0.0, 0.0, 0.0, 0.0, 0.0, 0.0, 0.0, 0.0, 0.0, 0.0, 0.0, 0.0, 0.0, 0.0, 0.0, 0.0, 0.0, 0.0, 0.0, 0.0, 0.0, 0.0, 0.0, 0.0, 0.0, 0.0, 0.0, 0.0, 0.0, 0.0, 0.0, 0.0, 0.0, 0.0, 0.0, 0.0, 0.0, 0.0, 0.0, 0.0, 0.0, 0.0, 0.0, 0.0, 0.0, 0.0, 0.0, 0.0, 0.0, 0.0, 0.0, 0.0, 0.0, 0.0, 0.0, 0.0, 0.0]}],                        {\"coloraxis\": {\"colorbar\": {\"title\": {\"text\": \"Guests in %\"}}, \"colorscale\": [[0.0, \"#0d0887\"], [0.1111111111111111, \"#46039f\"], [0.2222222222222222, \"#7201a8\"], [0.3333333333333333, \"#9c179e\"], [0.4444444444444444, \"#bd3786\"], [0.5555555555555556, \"#d8576b\"], [0.6666666666666666, \"#ed7953\"], [0.7777777777777778, \"#fb9f3a\"], [0.8888888888888888, \"#fdca26\"], [1.0, \"#f0f921\"]]}, \"geo\": {\"center\": {}, \"domain\": {\"x\": [0.0, 1.0], \"y\": [0.0, 1.0]}}, \"legend\": {\"tracegroupgap\": 0}, \"template\": {\"data\": {\"bar\": [{\"error_x\": {\"color\": \"#2a3f5f\"}, \"error_y\": {\"color\": \"#2a3f5f\"}, \"marker\": {\"line\": {\"color\": \"#E5ECF6\", \"width\": 0.5}}, \"type\": \"bar\"}], \"barpolar\": [{\"marker\": {\"line\": {\"color\": \"#E5ECF6\", \"width\": 0.5}}, \"type\": \"barpolar\"}], \"carpet\": [{\"aaxis\": {\"endlinecolor\": \"#2a3f5f\", \"gridcolor\": \"white\", \"linecolor\": \"white\", \"minorgridcolor\": \"white\", \"startlinecolor\": \"#2a3f5f\"}, \"baxis\": {\"endlinecolor\": \"#2a3f5f\", \"gridcolor\": \"white\", \"linecolor\": \"white\", \"minorgridcolor\": \"white\", \"startlinecolor\": \"#2a3f5f\"}, \"type\": \"carpet\"}], \"choropleth\": [{\"colorbar\": {\"outlinewidth\": 0, \"ticks\": \"\"}, \"type\": \"choropleth\"}], \"contour\": [{\"colorbar\": {\"outlinewidth\": 0, \"ticks\": \"\"}, \"colorscale\": [[0.0, \"#0d0887\"], [0.1111111111111111, \"#46039f\"], [0.2222222222222222, \"#7201a8\"], [0.3333333333333333, \"#9c179e\"], [0.4444444444444444, \"#bd3786\"], [0.5555555555555556, \"#d8576b\"], [0.6666666666666666, \"#ed7953\"], [0.7777777777777778, \"#fb9f3a\"], [0.8888888888888888, \"#fdca26\"], [1.0, \"#f0f921\"]], \"type\": \"contour\"}], \"contourcarpet\": [{\"colorbar\": {\"outlinewidth\": 0, \"ticks\": \"\"}, \"type\": \"contourcarpet\"}], \"heatmap\": [{\"colorbar\": {\"outlinewidth\": 0, \"ticks\": \"\"}, \"colorscale\": [[0.0, \"#0d0887\"], [0.1111111111111111, \"#46039f\"], [0.2222222222222222, \"#7201a8\"], [0.3333333333333333, \"#9c179e\"], [0.4444444444444444, \"#bd3786\"], [0.5555555555555556, \"#d8576b\"], [0.6666666666666666, \"#ed7953\"], [0.7777777777777778, \"#fb9f3a\"], [0.8888888888888888, \"#fdca26\"], [1.0, \"#f0f921\"]], \"type\": \"heatmap\"}], \"heatmapgl\": [{\"colorbar\": {\"outlinewidth\": 0, \"ticks\": \"\"}, \"colorscale\": [[0.0, \"#0d0887\"], [0.1111111111111111, \"#46039f\"], [0.2222222222222222, \"#7201a8\"], [0.3333333333333333, \"#9c179e\"], [0.4444444444444444, \"#bd3786\"], [0.5555555555555556, \"#d8576b\"], [0.6666666666666666, \"#ed7953\"], [0.7777777777777778, \"#fb9f3a\"], [0.8888888888888888, \"#fdca26\"], [1.0, \"#f0f921\"]], \"type\": \"heatmapgl\"}], \"histogram\": [{\"marker\": {\"colorbar\": {\"outlinewidth\": 0, \"ticks\": \"\"}}, \"type\": \"histogram\"}], \"histogram2d\": [{\"colorbar\": {\"outlinewidth\": 0, \"ticks\": \"\"}, \"colorscale\": [[0.0, \"#0d0887\"], [0.1111111111111111, \"#46039f\"], [0.2222222222222222, \"#7201a8\"], [0.3333333333333333, \"#9c179e\"], [0.4444444444444444, \"#bd3786\"], [0.5555555555555556, \"#d8576b\"], [0.6666666666666666, \"#ed7953\"], [0.7777777777777778, \"#fb9f3a\"], [0.8888888888888888, \"#fdca26\"], [1.0, \"#f0f921\"]], \"type\": \"histogram2d\"}], \"histogram2dcontour\": [{\"colorbar\": {\"outlinewidth\": 0, \"ticks\": \"\"}, \"colorscale\": [[0.0, \"#0d0887\"], [0.1111111111111111, \"#46039f\"], [0.2222222222222222, \"#7201a8\"], [0.3333333333333333, \"#9c179e\"], [0.4444444444444444, \"#bd3786\"], [0.5555555555555556, \"#d8576b\"], [0.6666666666666666, \"#ed7953\"], [0.7777777777777778, \"#fb9f3a\"], [0.8888888888888888, \"#fdca26\"], [1.0, \"#f0f921\"]], \"type\": \"histogram2dcontour\"}], \"mesh3d\": [{\"colorbar\": {\"outlinewidth\": 0, \"ticks\": \"\"}, \"type\": \"mesh3d\"}], \"parcoords\": [{\"line\": {\"colorbar\": {\"outlinewidth\": 0, \"ticks\": \"\"}}, \"type\": \"parcoords\"}], \"pie\": [{\"automargin\": true, \"type\": \"pie\"}], \"scatter\": [{\"marker\": {\"colorbar\": {\"outlinewidth\": 0, \"ticks\": \"\"}}, \"type\": \"scatter\"}], \"scatter3d\": [{\"line\": {\"colorbar\": {\"outlinewidth\": 0, \"ticks\": \"\"}}, \"marker\": {\"colorbar\": {\"outlinewidth\": 0, \"ticks\": \"\"}}, \"type\": \"scatter3d\"}], \"scattercarpet\": [{\"marker\": {\"colorbar\": {\"outlinewidth\": 0, \"ticks\": \"\"}}, \"type\": \"scattercarpet\"}], \"scattergeo\": [{\"marker\": {\"colorbar\": {\"outlinewidth\": 0, \"ticks\": \"\"}}, \"type\": \"scattergeo\"}], \"scattergl\": [{\"marker\": {\"colorbar\": {\"outlinewidth\": 0, \"ticks\": \"\"}}, \"type\": \"scattergl\"}], \"scattermapbox\": [{\"marker\": {\"colorbar\": {\"outlinewidth\": 0, \"ticks\": \"\"}}, \"type\": \"scattermapbox\"}], \"scatterpolar\": [{\"marker\": {\"colorbar\": {\"outlinewidth\": 0, \"ticks\": \"\"}}, \"type\": \"scatterpolar\"}], \"scatterpolargl\": [{\"marker\": {\"colorbar\": {\"outlinewidth\": 0, \"ticks\": \"\"}}, \"type\": \"scatterpolargl\"}], \"scatterternary\": [{\"marker\": {\"colorbar\": {\"outlinewidth\": 0, \"ticks\": \"\"}}, \"type\": \"scatterternary\"}], \"surface\": [{\"colorbar\": {\"outlinewidth\": 0, \"ticks\": \"\"}, \"colorscale\": [[0.0, \"#0d0887\"], [0.1111111111111111, \"#46039f\"], [0.2222222222222222, \"#7201a8\"], [0.3333333333333333, \"#9c179e\"], [0.4444444444444444, \"#bd3786\"], [0.5555555555555556, \"#d8576b\"], [0.6666666666666666, \"#ed7953\"], [0.7777777777777778, \"#fb9f3a\"], [0.8888888888888888, \"#fdca26\"], [1.0, \"#f0f921\"]], \"type\": \"surface\"}], \"table\": [{\"cells\": {\"fill\": {\"color\": \"#EBF0F8\"}, \"line\": {\"color\": \"white\"}}, \"header\": {\"fill\": {\"color\": \"#C8D4E3\"}, \"line\": {\"color\": \"white\"}}, \"type\": \"table\"}]}, \"layout\": {\"annotationdefaults\": {\"arrowcolor\": \"#2a3f5f\", \"arrowhead\": 0, \"arrowwidth\": 1}, \"coloraxis\": {\"colorbar\": {\"outlinewidth\": 0, \"ticks\": \"\"}}, \"colorscale\": {\"diverging\": [[0, \"#8e0152\"], [0.1, \"#c51b7d\"], [0.2, \"#de77ae\"], [0.3, \"#f1b6da\"], [0.4, \"#fde0ef\"], [0.5, \"#f7f7f7\"], [0.6, \"#e6f5d0\"], [0.7, \"#b8e186\"], [0.8, \"#7fbc41\"], [0.9, \"#4d9221\"], [1, \"#276419\"]], \"sequential\": [[0.0, \"#0d0887\"], [0.1111111111111111, \"#46039f\"], [0.2222222222222222, \"#7201a8\"], [0.3333333333333333, \"#9c179e\"], [0.4444444444444444, \"#bd3786\"], [0.5555555555555556, \"#d8576b\"], [0.6666666666666666, \"#ed7953\"], [0.7777777777777778, \"#fb9f3a\"], [0.8888888888888888, \"#fdca26\"], [1.0, \"#f0f921\"]], \"sequentialminus\": [[0.0, \"#0d0887\"], [0.1111111111111111, \"#46039f\"], [0.2222222222222222, \"#7201a8\"], [0.3333333333333333, \"#9c179e\"], [0.4444444444444444, \"#bd3786\"], [0.5555555555555556, \"#d8576b\"], [0.6666666666666666, \"#ed7953\"], [0.7777777777777778, \"#fb9f3a\"], [0.8888888888888888, \"#fdca26\"], [1.0, \"#f0f921\"]]}, \"colorway\": [\"#636efa\", \"#EF553B\", \"#00cc96\", \"#ab63fa\", \"#FFA15A\", \"#19d3f3\", \"#FF6692\", \"#B6E880\", \"#FF97FF\", \"#FECB52\"], \"font\": {\"color\": \"#2a3f5f\"}, \"geo\": {\"bgcolor\": \"white\", \"lakecolor\": \"white\", \"landcolor\": \"#E5ECF6\", \"showlakes\": true, \"showland\": true, \"subunitcolor\": \"white\"}, \"hoverlabel\": {\"align\": \"left\"}, \"hovermode\": \"closest\", \"mapbox\": {\"style\": \"light\"}, \"paper_bgcolor\": \"white\", \"plot_bgcolor\": \"#E5ECF6\", \"polar\": {\"angularaxis\": {\"gridcolor\": \"white\", \"linecolor\": \"white\", \"ticks\": \"\"}, \"bgcolor\": \"#E5ECF6\", \"radialaxis\": {\"gridcolor\": \"white\", \"linecolor\": \"white\", \"ticks\": \"\"}}, \"scene\": {\"xaxis\": {\"backgroundcolor\": \"#E5ECF6\", \"gridcolor\": \"white\", \"gridwidth\": 2, \"linecolor\": \"white\", \"showbackground\": true, \"ticks\": \"\", \"zerolinecolor\": \"white\"}, \"yaxis\": {\"backgroundcolor\": \"#E5ECF6\", \"gridcolor\": \"white\", \"gridwidth\": 2, \"linecolor\": \"white\", \"showbackground\": true, \"ticks\": \"\", \"zerolinecolor\": \"white\"}, \"zaxis\": {\"backgroundcolor\": \"#E5ECF6\", \"gridcolor\": \"white\", \"gridwidth\": 2, \"linecolor\": \"white\", \"showbackground\": true, \"ticks\": \"\", \"zerolinecolor\": \"white\"}}, \"shapedefaults\": {\"line\": {\"color\": \"#2a3f5f\"}}, \"ternary\": {\"aaxis\": {\"gridcolor\": \"white\", \"linecolor\": \"white\", \"ticks\": \"\"}, \"baxis\": {\"gridcolor\": \"white\", \"linecolor\": \"white\", \"ticks\": \"\"}, \"bgcolor\": \"#E5ECF6\", \"caxis\": {\"gridcolor\": \"white\", \"linecolor\": \"white\", \"ticks\": \"\"}}, \"title\": {\"x\": 0.05}, \"xaxis\": {\"automargin\": true, \"gridcolor\": \"white\", \"linecolor\": \"white\", \"ticks\": \"\", \"title\": {\"standoff\": 15}, \"zerolinecolor\": \"white\", \"zerolinewidth\": 2}, \"yaxis\": {\"automargin\": true, \"gridcolor\": \"white\", \"linecolor\": \"white\", \"ticks\": \"\", \"title\": {\"standoff\": 15}, \"zerolinecolor\": \"white\", \"zerolinewidth\": 2}}}, \"title\": {\"text\": \"Home country of guests\"}},                        {\"responsive\": true}                    ).then(function(){\n",
       "                            \n",
       "var gd = document.getElementById('3a6a4079-6975-4211-a3eb-82649b9ccd1c');\n",
       "var x = new MutationObserver(function (mutations, observer) {{\n",
       "        var display = window.getComputedStyle(gd).display;\n",
       "        if (!display || display === 'none') {{\n",
       "            console.log([gd, 'removed!']);\n",
       "            Plotly.purge(gd);\n",
       "            observer.disconnect();\n",
       "        }}\n",
       "}});\n",
       "\n",
       "// Listen for the removal of the full notebook cells\n",
       "var notebookContainer = gd.closest('#notebook-container');\n",
       "if (notebookContainer) {{\n",
       "    x.observe(notebookContainer, {childList: true});\n",
       "}}\n",
       "\n",
       "// Listen for the clearing of the current output cell\n",
       "var outputEl = gd.closest('.output');\n",
       "if (outputEl) {{\n",
       "    x.observe(outputEl, {childList: true});\n",
       "}}\n",
       "\n",
       "                        })                };                });            </script>        </div>"
      ]
     },
     "metadata": {},
     "output_type": "display_data"
    }
   ],
   "source": [
    "country_data = pd.DataFrame(full_data.loc[full_data[\"is_canceled\"] == 0][\"country\"].value_counts())\n",
    "country_data.rename(columns={\"country\": \"Number of Guests\"}, inplace=True)\n",
    "total_guests = country_data[\"Number of Guests\"].sum()\n",
    "country_data[\"Guests in %\"] = round(country_data[\"Number of Guests\"] / total_guests * 100, 2)\n",
    "country_data[\"country\"] = country_data.index\n",
    "\n",
    "guest_map = px.choropleth(country_data,\n",
    "                    locations=country_data.index,\n",
    "                    color=country_data[\"Guests in %\"], \n",
    "                    hover_name=country_data.index, \n",
    "                    color_continuous_scale=px.colors.sequential.Plasma,\n",
    "                    title=\"Home country of guests\")\n",
    "guest_map.show()"
   ]
  },
  {
   "cell_type": "markdown",
   "metadata": {
    "papermill": {
     "duration": 0.12245,
     "end_time": "2020-11-13T06:55:37.844665",
     "exception": false,
     "start_time": "2020-11-13T06:55:37.722215",
     "status": "completed"
    },
    "tags": []
   },
   "source": [
    "OK, so I just visualized some columns that I am interested in. This type of analysis did tell us some basic information about the customers such as what type of hotel they book, where they come from, and usually how many people travel together. These are all useful information, but this sort of analysis is too vague and waste of time. I would say let's now define our question and then see what we can do."
   ]
  },
  {
   "cell_type": "markdown",
   "metadata": {
    "papermill": {
     "duration": 0.072869,
     "end_time": "2020-11-13T06:55:37.990141",
     "exception": false,
     "start_time": "2020-11-13T06:55:37.917272",
     "status": "completed"
    },
    "tags": []
   },
   "source": [
    "# Define Question\n",
    "\n",
    "If I am a hotel manager, I will be very interested in knowing if a customer will cancel his hotel reservation, because that deeply correlates with the revenues our hotel can earn. Therefore, let's try to build a model to predict if someone will cancel his hotel reservation from other parameters."
   ]
  },
  {
   "cell_type": "markdown",
   "metadata": {
    "papermill": {
     "duration": 0.072721,
     "end_time": "2020-11-13T06:55:38.139135",
     "exception": false,
     "start_time": "2020-11-13T06:55:38.066414",
     "status": "completed"
    },
    "tags": []
   },
   "source": [
    "**Cancellation Correlations**\n",
    "\n",
    "Now we have defined the problem, let's first see what columns are highly associated with the is_cancelled column"
   ]
  },
  {
   "cell_type": "code",
   "execution_count": 23,
   "metadata": {
    "execution": {
     "iopub.execute_input": "2020-11-13T06:55:38.292823Z",
     "iopub.status.busy": "2020-11-13T06:55:38.291998Z",
     "iopub.status.idle": "2020-11-13T06:55:38.418649Z",
     "shell.execute_reply": "2020-11-13T06:55:38.417926Z"
    },
    "papermill": {
     "duration": 0.206292,
     "end_time": "2020-11-13T06:55:38.418778",
     "exception": false,
     "start_time": "2020-11-13T06:55:38.212486",
     "status": "completed"
    },
    "tags": []
   },
   "outputs": [
    {
     "data": {
      "text/plain": [
       "lead_time                         0.293123\n",
       "total_of_special_requests         0.234658\n",
       "required_car_parking_spaces       0.195498\n",
       "booking_changes                   0.144381\n",
       "previous_cancellations            0.110133\n",
       "is_repeated_guest                 0.084793\n",
       "agent                             0.083114\n",
       "adults                            0.060017\n",
       "previous_bookings_not_canceled    0.057358\n",
       "days_in_waiting_list              0.054186\n",
       "adr                               0.047557\n",
       "babies                            0.032491\n",
       "stays_in_week_nights              0.024765\n",
       "arrival_date_year                 0.016660\n",
       "arrival_date_week_number          0.008148\n",
       "arrival_date_day_of_month         0.006130\n",
       "children                          0.005048\n",
       "stays_in_weekend_nights           0.001791\n",
       "Name: is_canceled, dtype: float64"
      ]
     },
     "execution_count": 23,
     "metadata": {},
     "output_type": "execute_result"
    }
   ],
   "source": [
    "cancel_corr = full_data.corr()[\"is_canceled\"]\n",
    "cancel_corr.abs().sort_values(ascending=False)[1:]"
   ]
  },
  {
   "cell_type": "markdown",
   "metadata": {
    "papermill": {
     "duration": 0.073374,
     "end_time": "2020-11-13T06:55:38.566793",
     "exception": false,
     "start_time": "2020-11-13T06:55:38.493419",
     "status": "completed"
    },
    "tags": []
   },
   "source": [
    "It is thus shown that lead_time, total_of_special_requests, required_car_parking_spaces, booking_changes and previous_cancellations are the 5 most correlated numerical variables with is_cancelled column. But to prevent possible data leakage, we should exclude booking_changes, which may include the cancellation of hotel reservation. Furthermore, reservation_status also include whether a customer cancels the booking or not. So it must also be excluded to prevent data leakage. "
   ]
  },
  {
   "cell_type": "markdown",
   "metadata": {
    "papermill": {
     "duration": 0.073463,
     "end_time": "2020-11-13T06:55:38.713942",
     "exception": false,
     "start_time": "2020-11-13T06:55:38.640479",
     "status": "completed"
    },
    "tags": []
   },
   "source": [
    "# Model Selection\n",
    "\n",
    "Before we make further analysis, let's select a machine learning model to use for our prediction. In this section I will create several simple models and see which one has the best performance. "
   ]
  },
  {
   "cell_type": "code",
   "execution_count": 24,
   "metadata": {
    "execution": {
     "iopub.execute_input": "2020-11-13T06:55:38.879845Z",
     "iopub.status.busy": "2020-11-13T06:55:38.876092Z",
     "iopub.status.idle": "2020-11-13T06:55:38.937918Z",
     "shell.execute_reply": "2020-11-13T06:55:38.937178Z"
    },
    "papermill": {
     "duration": 0.149827,
     "end_time": "2020-11-13T06:55:38.938081",
     "exception": false,
     "start_time": "2020-11-13T06:55:38.788254",
     "status": "completed"
    },
    "tags": []
   },
   "outputs": [],
   "source": [
    "num_features = [\"lead_time\",\"arrival_date_week_number\",\"arrival_date_day_of_month\",\n",
    "                \"stays_in_weekend_nights\",\"stays_in_week_nights\",\"adults\",\"children\",\n",
    "                \"babies\",\"is_repeated_guest\", \"previous_cancellations\",\n",
    "                \"previous_bookings_not_canceled\",\"agent\",\n",
    "                \"required_car_parking_spaces\", \"total_of_special_requests\", \"adr\"]\n",
    "\n",
    "cat_features = [\"hotel\",\"arrival_date_month\",\"meal\",\"market_segment\",\n",
    "                \"distribution_channel\",\"reserved_room_type\",\"deposit_type\",\"customer_type\"]\n",
    "\n",
    "\n",
    "features = num_features + cat_features\n",
    "X = full_data.drop([\"is_canceled\"], axis=1)[features]\n",
    "y = full_data[\"is_canceled\"]\n",
    "\n",
    "num_transformer = SimpleImputer(strategy=\"constant\")\n",
    "\n",
    "cat_transformer = Pipeline(steps=[\n",
    "    (\"imputer\", SimpleImputer(strategy=\"most_frequent\")),\n",
    "    (\"onehot\", OneHotEncoder(handle_unknown='ignore'))])\n",
    "\n",
    "preprocessor = ColumnTransformer(transformers=[(\"num\", num_transformer, num_features),\n",
    "                                               (\"cat\", cat_transformer, cat_features)])"
   ]
  },
  {
   "cell_type": "code",
   "execution_count": 25,
   "metadata": {
    "execution": {
     "iopub.execute_input": "2020-11-13T06:55:39.103861Z",
     "iopub.status.busy": "2020-11-13T06:55:39.102984Z",
     "iopub.status.idle": "2020-11-13T06:55:39.480044Z",
     "shell.execute_reply": "2020-11-13T06:55:39.479286Z"
    },
    "papermill": {
     "duration": 0.466277,
     "end_time": "2020-11-13T06:55:39.480190",
     "exception": false,
     "start_time": "2020-11-13T06:55:39.013913",
     "status": "completed"
    },
    "tags": []
   },
   "outputs": [
    {
     "data": {
      "text/plain": [
       "'\\nfor name, model in base_models:\\n    model_steps = Pipeline(steps=[(\\'preprocessor\\', preprocessor),\\n                              (\\'model\\', model)])\\n    \\n    cv_results = cross_val_score(model_steps, \\n                                 X, y, \\n                                 cv=split,\\n                                 scoring=\"accuracy\",\\n                                 n_jobs=-1)\\n    \\n    min_score = round(min(cv_results), 4)\\n    max_score = round(max(cv_results), 4)\\n    mean_score = round(np.mean(cv_results), 4)\\n    std_dev = round(np.std(cv_results), 4)\\n    print(f\"{name} cross validation accuarcy score: {mean_score} +/- {std_dev} (std) min: {min_score}, max: {max_score}\")\\n'"
      ]
     },
     "execution_count": 25,
     "metadata": {},
     "output_type": "execute_result"
    }
   ],
   "source": [
    "from sklearn.tree import DecisionTreeClassifier\n",
    "from sklearn.ensemble import RandomForestClassifier\n",
    "from sklearn.linear_model import LogisticRegression\n",
    "from xgboost import XGBClassifier\n",
    "from sklearn.ensemble import AdaBoostClassifier\n",
    "from sklearn.neighbors import KNeighborsClassifier\n",
    "\n",
    "base_models = [(\"DT_model\", DecisionTreeClassifier(random_state=42)),\n",
    "               (\"RF_model\", RandomForestClassifier(random_state=42,n_jobs=-1)),\n",
    "               (\"LR_model\", LogisticRegression(random_state=42,n_jobs=-1)),\n",
    "               (\"XGB_model\", XGBClassifier(random_state=42, n_jobs=-1)),\n",
    "               (\"Ada_model\", AdaBoostClassifier(random_state=42)),\n",
    "               (\"KNN_model\", KNeighborsClassifier(n_jobs=-1))]\n",
    "\n",
    "kfolds = 4 # 4 = 75% train, 25% validation\n",
    "split = KFold(n_splits=kfolds, shuffle=True, random_state=42)\n",
    "\n",
    "'''\n",
    "for name, model in base_models:\n",
    "    model_steps = Pipeline(steps=[('preprocessor', preprocessor),\n",
    "                              ('model', model)])\n",
    "    \n",
    "    cv_results = cross_val_score(model_steps, \n",
    "                                 X, y, \n",
    "                                 cv=split,\n",
    "                                 scoring=\"accuracy\",\n",
    "                                 n_jobs=-1)\n",
    "    \n",
    "    min_score = round(min(cv_results), 4)\n",
    "    max_score = round(max(cv_results), 4)\n",
    "    mean_score = round(np.mean(cv_results), 4)\n",
    "    std_dev = round(np.std(cv_results), 4)\n",
    "    print(f\"{name} cross validation accuarcy score: {mean_score} +/- {std_dev} (std) min: {min_score}, max: {max_score}\")\n",
    "'''"
   ]
  },
  {
   "cell_type": "markdown",
   "metadata": {
    "papermill": {
     "duration": 0.074057,
     "end_time": "2020-11-13T06:55:39.629489",
     "exception": false,
     "start_time": "2020-11-13T06:55:39.555432",
     "status": "completed"
    },
    "tags": []
   },
   "source": [
    "We see that random forest classifier had the best performance(86.664%). Therefore, we will use this model for later predictions.\n",
    "\n",
    "Detail: RF_model cross validation accuarcy score: 0.8664 +/- 0.0012 (std) min: 0.8646, max: 0.8676"
   ]
  },
  {
   "cell_type": "markdown",
   "metadata": {
    "papermill": {
     "duration": 0.074259,
     "end_time": "2020-11-13T06:55:39.778998",
     "exception": false,
     "start_time": "2020-11-13T06:55:39.704739",
     "status": "completed"
    },
    "tags": []
   },
   "source": [
    "# More Bivariate Analysis\n",
    "\n",
    "We have found the columns that affect is_cancelled the strongest. Now let's actually visualize the correlations."
   ]
  },
  {
   "cell_type": "markdown",
   "metadata": {
    "papermill": {
     "duration": 0.074018,
     "end_time": "2020-11-13T06:55:39.927447",
     "exception": false,
     "start_time": "2020-11-13T06:55:39.853429",
     "status": "completed"
    },
    "tags": []
   },
   "source": [
    "**lead-time**\n",
    "\n",
    "We see that generally the earlier the customer books the hotel, the more likely he will cancel the reservation"
   ]
  },
  {
   "cell_type": "code",
   "execution_count": 26,
   "metadata": {
    "execution": {
     "iopub.execute_input": "2020-11-13T06:55:40.100713Z",
     "iopub.status.busy": "2020-11-13T06:55:40.093301Z",
     "iopub.status.idle": "2020-11-13T06:55:41.262348Z",
     "shell.execute_reply": "2020-11-13T06:55:41.261565Z"
    },
    "papermill": {
     "duration": 1.259966,
     "end_time": "2020-11-13T06:55:41.262482",
     "exception": false,
     "start_time": "2020-11-13T06:55:40.002516",
     "status": "completed"
    },
    "tags": []
   },
   "outputs": [
    {
     "data": {
      "image/png": "[encoded data removed]",
      "text/plain": [
       "<Figure size 1080x720 with 1 Axes>"
      ]
     },
     "metadata": {
      "needs_background": "light"
     },
     "output_type": "display_data"
    },
    {
     "name": "stdout",
     "output_type": "stream",
     "text": [
      "   is_canceled   lead_time\n",
      "0            0   79.984687\n",
      "1            1  144.848815\n"
     ]
    }
   ],
   "source": [
    "plt.figure(figsize=(15, 10))\n",
    "plt.title(\"lead_time Column\")\n",
    "sns.barplot(x=full_data['is_canceled'], y=full_data['lead_time'])\n",
    "plt.show()\n",
    "\n",
    "print( full_data[[\"lead_time\",\"is_canceled\"]].groupby([\"is_canceled\"], as_index = False).mean() )"
   ]
  },
  {
   "cell_type": "markdown",
   "metadata": {
    "papermill": {
     "duration": 0.076805,
     "end_time": "2020-11-13T06:55:41.415612",
     "exception": false,
     "start_time": "2020-11-13T06:55:41.338807",
     "status": "completed"
    },
    "tags": []
   },
   "source": [
    "**total_of_special_requests**\n",
    "\n",
    "We see that the more requests the customer makes, the less likely he will cancel the reservation"
   ]
  },
  {
   "cell_type": "code",
   "execution_count": 27,
   "metadata": {
    "execution": {
     "iopub.execute_input": "2020-11-13T06:55:41.584668Z",
     "iopub.status.busy": "2020-11-13T06:55:41.582509Z",
     "iopub.status.idle": "2020-11-13T06:55:42.934242Z",
     "shell.execute_reply": "2020-11-13T06:55:42.933553Z"
    },
    "papermill": {
     "duration": 1.441614,
     "end_time": "2020-11-13T06:55:42.934380",
     "exception": false,
     "start_time": "2020-11-13T06:55:41.492766",
     "status": "completed"
    },
    "tags": []
   },
   "outputs": [
    {
     "data": {
      "image/png": "[encoded data removed]",
      "text/plain": [
       "<Figure size 1080x720 with 1 Axes>"
      ]
     },
     "metadata": {
      "needs_background": "light"
     },
     "output_type": "display_data"
    },
    {
     "name": "stdout",
     "output_type": "stream",
     "text": [
      "   total_of_special_requests  is_canceled\n",
      "0                          0     0.477204\n",
      "1                          1     0.220249\n",
      "2                          2     0.220989\n",
      "3                          3     0.178614\n",
      "4                          4     0.105882\n",
      "5                          5     0.050000\n"
     ]
    }
   ],
   "source": [
    "plt.figure(figsize=(15, 10))\n",
    "plt.title(\"total_of_special_requests Column\")\n",
    "sns.barplot(x=full_data['total_of_special_requests'], y=full_data['is_canceled'])\n",
    "plt.show()\n",
    "\n",
    "print( full_data[[\"total_of_special_requests\",\"is_canceled\"]].groupby([\"total_of_special_requests\"], as_index = False).mean() )"
   ]
  },
  {
   "cell_type": "markdown",
   "metadata": {
    "papermill": {
     "duration": 0.080499,
     "end_time": "2020-11-13T06:55:43.093939",
     "exception": false,
     "start_time": "2020-11-13T06:55:43.013440",
     "status": "completed"
    },
    "tags": []
   },
   "source": [
    "**required_car_parking_spaces**"
   ]
  },
  {
   "cell_type": "code",
   "execution_count": 28,
   "metadata": {
    "execution": {
     "iopub.execute_input": "2020-11-13T06:55:43.264779Z",
     "iopub.status.busy": "2020-11-13T06:55:43.263888Z",
     "iopub.status.idle": "2020-11-13T06:55:43.445013Z",
     "shell.execute_reply": "2020-11-13T06:55:43.445789Z"
    },
    "papermill": {
     "duration": 0.272551,
     "end_time": "2020-11-13T06:55:43.445944",
     "exception": false,
     "start_time": "2020-11-13T06:55:43.173393",
     "status": "completed"
    },
    "tags": []
   },
   "outputs": [
    {
     "data": {
      "image/png": "[encoded data removed]",
      "text/plain": [
       "<Figure size 1080x720 with 1 Axes>"
      ]
     },
     "metadata": {
      "needs_background": "light"
     },
     "output_type": "display_data"
    },
    {
     "name": "stdout",
     "output_type": "stream",
     "text": [
      "0    93.788424\n",
      "1     6.183935\n",
      "2     0.023453\n",
      "3     0.002513\n",
      "8     0.001675\n",
      "Name: required_car_parking_spaces, dtype: float64\n"
     ]
    }
   ],
   "source": [
    "plt.figure(figsize=(15, 10))\n",
    "plt.title(\"required_car_parking_spaces Column\")\n",
    "sns.countplot(x=full_data['required_car_parking_spaces'])\n",
    "plt.show()\n",
    "\n",
    "print(full_data['required_car_parking_spaces'].value_counts() / full_data.shape[0] * 100)"
   ]
  },
  {
   "cell_type": "code",
   "execution_count": 29,
   "metadata": {
    "execution": {
     "iopub.execute_input": "2020-11-13T06:55:43.616886Z",
     "iopub.status.busy": "2020-11-13T06:55:43.615713Z",
     "iopub.status.idle": "2020-11-13T06:55:45.073563Z",
     "shell.execute_reply": "2020-11-13T06:55:45.072510Z"
    },
    "papermill": {
     "duration": 1.548157,
     "end_time": "2020-11-13T06:55:45.073731",
     "exception": false,
     "start_time": "2020-11-13T06:55:43.525574",
     "status": "completed"
    },
    "tags": []
   },
   "outputs": [
    {
     "data": {
      "image/png": "[encoded data removed]",
      "text/plain": [
       "<Figure size 1080x720 with 1 Axes>"
      ]
     },
     "metadata": {
      "needs_background": "light"
     },
     "output_type": "display_data"
    },
    {
     "name": "stdout",
     "output_type": "stream",
     "text": [
      "   required_car_parking_spaces  is_canceled\n",
      "0                            0     0.394949\n",
      "1                            1     0.000000\n",
      "2                            2     0.000000\n",
      "3                            3     0.000000\n",
      "4                            8     0.000000\n"
     ]
    }
   ],
   "source": [
    "plt.figure(figsize=(15, 10))\n",
    "plt.title(\"required_car_parking_spaces Column\")\n",
    "sns.barplot(x=full_data['required_car_parking_spaces'], y=full_data['is_canceled'])\n",
    "plt.show()\n",
    "\n",
    "print( full_data[[\"required_car_parking_spaces\",\"is_canceled\"]].groupby([\"required_car_parking_spaces\"], as_index = False).mean() )"
   ]
  },
  {
   "cell_type": "markdown",
   "metadata": {
    "papermill": {
     "duration": 0.081612,
     "end_time": "2020-11-13T06:55:45.238362",
     "exception": false,
     "start_time": "2020-11-13T06:55:45.156750",
     "status": "completed"
    },
    "tags": []
   },
   "source": [
    "So we see that if the customer requires at least one car parking space, the chance to cancel the reservation is very small. I say we can actually modify this column to only show if a customer makes a requirement(denoted as 1) or not(denoted as 0), which perhaps is more straightforward to our model?"
   ]
  },
  {
   "cell_type": "code",
   "execution_count": 30,
   "metadata": {
    "execution": {
     "iopub.execute_input": "2020-11-13T06:55:45.407580Z",
     "iopub.status.busy": "2020-11-13T06:55:45.406673Z",
     "iopub.status.idle": "2020-11-13T06:55:45.412599Z",
     "shell.execute_reply": "2020-11-13T06:55:45.411698Z"
    },
    "papermill": {
     "duration": 0.093387,
     "end_time": "2020-11-13T06:55:45.412733",
     "exception": false,
     "start_time": "2020-11-13T06:55:45.319346",
     "status": "completed"
    },
    "tags": []
   },
   "outputs": [],
   "source": [
    "full_data.loc[full_data['required_car_parking_spaces'] != 0, 'required_car_parking_spaces'] = 1"
   ]
  },
  {
   "cell_type": "markdown",
   "metadata": {
    "papermill": {
     "duration": 0.081072,
     "end_time": "2020-11-13T06:55:45.575967",
     "exception": false,
     "start_time": "2020-11-13T06:55:45.494895",
     "status": "completed"
    },
    "tags": []
   },
   "source": [
    "After the change:"
   ]
  },
  {
   "cell_type": "code",
   "execution_count": 31,
   "metadata": {
    "execution": {
     "iopub.execute_input": "2020-11-13T06:55:45.753337Z",
     "iopub.status.busy": "2020-11-13T06:55:45.746385Z",
     "iopub.status.idle": "2020-11-13T06:55:45.918266Z",
     "shell.execute_reply": "2020-11-13T06:55:45.917564Z"
    },
    "papermill": {
     "duration": 0.260475,
     "end_time": "2020-11-13T06:55:45.918390",
     "exception": false,
     "start_time": "2020-11-13T06:55:45.657915",
     "status": "completed"
    },
    "tags": []
   },
   "outputs": [
    {
     "data": {
      "image/png": "[encoded data removed]",
      "text/plain": [
       "<Figure size 1080x720 with 1 Axes>"
      ]
     },
     "metadata": {
      "needs_background": "light"
     },
     "output_type": "display_data"
    },
    {
     "name": "stdout",
     "output_type": "stream",
     "text": [
      "0    93.788424\n",
      "1     6.211576\n",
      "Name: required_car_parking_spaces, dtype: float64\n"
     ]
    }
   ],
   "source": [
    "plt.figure(figsize=(15, 10))\n",
    "plt.title(\"required_car_parking_spaces Column\")\n",
    "sns.countplot(x=full_data['required_car_parking_spaces'])\n",
    "plt.show()\n",
    "\n",
    "print(full_data['required_car_parking_spaces'].value_counts() / full_data.shape[0] * 100)"
   ]
  },
  {
   "cell_type": "code",
   "execution_count": 32,
   "metadata": {
    "execution": {
     "iopub.execute_input": "2020-11-13T06:55:46.216449Z",
     "iopub.status.busy": "2020-11-13T06:55:46.092317Z",
     "iopub.status.idle": "2020-11-13T06:55:47.476148Z",
     "shell.execute_reply": "2020-11-13T06:55:47.475493Z"
    },
    "papermill": {
     "duration": 1.474413,
     "end_time": "2020-11-13T06:55:47.476272",
     "exception": false,
     "start_time": "2020-11-13T06:55:46.001859",
     "status": "completed"
    },
    "tags": []
   },
   "outputs": [
    {
     "data": {
      "image/png": "[encoded data removed]",
      "text/plain": [
       "<Figure size 1080x720 with 1 Axes>"
      ]
     },
     "metadata": {
      "needs_background": "light"
     },
     "output_type": "display_data"
    },
    {
     "name": "stdout",
     "output_type": "stream",
     "text": [
      "   required_car_parking_spaces  is_canceled\n",
      "0                            0     0.394949\n",
      "1                            1     0.000000\n"
     ]
    }
   ],
   "source": [
    "plt.figure(figsize=(15, 10))\n",
    "plt.title(\"required_car_parking_spaces Column\")\n",
    "sns.barplot(x=full_data['required_car_parking_spaces'], y=full_data['is_canceled'])\n",
    "plt.show()\n",
    "\n",
    "print( full_data[[\"required_car_parking_spaces\",\"is_canceled\"]].groupby([\"required_car_parking_spaces\"], as_index = False).mean() )"
   ]
  },
  {
   "cell_type": "markdown",
   "metadata": {
    "papermill": {
     "duration": 0.085465,
     "end_time": "2020-11-13T06:55:47.645377",
     "exception": false,
     "start_time": "2020-11-13T06:55:47.559912",
     "status": "completed"
    },
    "tags": []
   },
   "source": [
    "Let's see if this would make any difference to our model's prediction score."
   ]
  },
  {
   "cell_type": "code",
   "execution_count": 33,
   "metadata": {
    "execution": {
     "iopub.execute_input": "2020-11-13T06:55:47.825371Z",
     "iopub.status.busy": "2020-11-13T06:55:47.824540Z",
     "iopub.status.idle": "2020-11-13T06:56:52.113786Z",
     "shell.execute_reply": "2020-11-13T06:56:52.114480Z"
    },
    "papermill": {
     "duration": 64.384682,
     "end_time": "2020-11-13T06:56:52.114669",
     "exception": false,
     "start_time": "2020-11-13T06:55:47.729987",
     "status": "completed"
    },
    "tags": []
   },
   "outputs": [
    {
     "name": "stdout",
     "output_type": "stream",
     "text": [
      "RF Model cross validation accuarcy score: 0.8664 +/- 0.0013 (std) min: 0.8648, max: 0.8684\n"
     ]
    }
   ],
   "source": [
    "X = full_data.drop([\"is_canceled\"], axis=1)[features]\n",
    "y = full_data[\"is_canceled\"]\n",
    "\n",
    "model_steps = Pipeline(steps=[('preprocessor', preprocessor),\n",
    "                              ('model', RandomForestClassifier(random_state=42,n_jobs=-1))])\n",
    "    \n",
    "cv_results = cross_val_score(model_steps, \n",
    "                             X, y, \n",
    "                             cv=split,\n",
    "                             scoring=\"accuracy\",\n",
    "                             n_jobs=-1)\n",
    "\n",
    "min_score = round(min(cv_results), 4)\n",
    "max_score = round(max(cv_results), 4)\n",
    "mean_score = round(np.mean(cv_results), 4)\n",
    "std_dev = round(np.std(cv_results), 4)\n",
    "print(f\"RF Model cross validation accuarcy score: {mean_score} +/- {std_dev} (std) min: {min_score}, max: {max_score}\")"
   ]
  },
  {
   "cell_type": "markdown",
   "metadata": {
    "papermill": {
     "duration": 0.086554,
     "end_time": "2020-11-13T06:56:52.287148",
     "exception": false,
     "start_time": "2020-11-13T06:56:52.200594",
     "status": "completed"
    },
    "tags": []
   },
   "source": [
    "OK, so the mean accuracy has not changed, but we see that there are both slight increases in the min score and the max score, which is I guess a good sign? However, we also see that the standard deviation increased by 0.0001, which means the score is more spread out, but I guess this is negligible. "
   ]
  },
  {
   "cell_type": "markdown",
   "metadata": {
    "papermill": {
     "duration": 0.08787,
     "end_time": "2020-11-13T06:56:52.459567",
     "exception": false,
     "start_time": "2020-11-13T06:56:52.371697",
     "status": "completed"
    },
    "tags": []
   },
   "source": [
    "**previous_cancellations**"
   ]
  },
  {
   "cell_type": "code",
   "execution_count": 34,
   "metadata": {
    "execution": {
     "iopub.execute_input": "2020-11-13T06:56:52.651837Z",
     "iopub.status.busy": "2020-11-13T06:56:52.648722Z",
     "iopub.status.idle": "2020-11-13T06:56:52.911035Z",
     "shell.execute_reply": "2020-11-13T06:56:52.910246Z"
    },
    "papermill": {
     "duration": 0.363496,
     "end_time": "2020-11-13T06:56:52.911198",
     "exception": false,
     "start_time": "2020-11-13T06:56:52.547702",
     "status": "completed"
    },
    "tags": []
   },
   "outputs": [
    {
     "data": {
      "image/png": "[encoded data removed]",
      "text/plain": [
       "<Figure size 1080x720 with 1 Axes>"
      ]
     },
     "metadata": {
      "needs_background": "light"
     },
     "output_type": "display_data"
    },
    {
     "name": "stdout",
     "output_type": "stream",
     "text": [
      "0     94.569059\n",
      "1      5.068264\n",
      "2      0.097161\n",
      "3      0.054443\n",
      "24     0.040204\n",
      "11     0.029316\n",
      "4      0.025965\n",
      "26     0.021777\n",
      "25     0.020940\n",
      "6      0.018427\n",
      "19     0.015914\n",
      "5      0.015914\n",
      "14     0.011726\n",
      "13     0.010051\n",
      "21     0.000838\n",
      "Name: previous_cancellations, dtype: float64\n"
     ]
    }
   ],
   "source": [
    "plt.figure(figsize=(15, 10))\n",
    "plt.title(\"previous_cancellations Column\")\n",
    "sns.countplot(x=full_data['previous_cancellations'])\n",
    "plt.show()\n",
    "\n",
    "print(full_data['previous_cancellations'].value_counts() / full_data.shape[0] * 100)"
   ]
  },
  {
   "cell_type": "code",
   "execution_count": 35,
   "metadata": {
    "execution": {
     "iopub.execute_input": "2020-11-13T06:56:53.104463Z",
     "iopub.status.busy": "2020-11-13T06:56:53.103587Z",
     "iopub.status.idle": "2020-11-13T06:56:54.891950Z",
     "shell.execute_reply": "2020-11-13T06:56:54.892767Z"
    },
    "papermill": {
     "duration": 1.893123,
     "end_time": "2020-11-13T06:56:54.893016",
     "exception": false,
     "start_time": "2020-11-13T06:56:52.999893",
     "status": "completed"
    },
    "tags": []
   },
   "outputs": [
    {
     "data": {
      "image/png": "[encoded data removed]",
      "text/plain": [
       "<Figure size 1080x720 with 1 Axes>"
      ]
     },
     "metadata": {
      "needs_background": "light"
     },
     "output_type": "display_data"
    },
    {
     "name": "stdout",
     "output_type": "stream",
     "text": [
      "    previous_cancellations  is_canceled\n",
      "0                        0     0.339061\n",
      "1                        1     0.944307\n",
      "2                        2     0.327586\n",
      "3                        3     0.307692\n",
      "4                        4     0.225806\n",
      "5                        5     0.105263\n",
      "6                        6     0.318182\n",
      "7                       11     0.285714\n",
      "8                       13     0.916667\n",
      "9                       14     1.000000\n",
      "10                      19     1.000000\n",
      "11                      21     1.000000\n",
      "12                      24     1.000000\n",
      "13                      25     1.000000\n",
      "14                      26     1.000000\n"
     ]
    }
   ],
   "source": [
    "plt.figure(figsize=(15, 10))\n",
    "plt.title(\"previous_cancellations Column\")\n",
    "sns.barplot(x=full_data['previous_cancellations'], y=full_data['is_canceled'])\n",
    "plt.show()\n",
    "\n",
    "print( full_data[[\"previous_cancellations\",\"is_canceled\"]].groupby([\"previous_cancellations\"], as_index = False).mean() )"
   ]
  },
  {
   "cell_type": "markdown",
   "metadata": {
    "papermill": {
     "duration": 0.090282,
     "end_time": "2020-11-13T06:56:55.074154",
     "exception": false,
     "start_time": "2020-11-13T06:56:54.983872",
     "status": "completed"
    },
    "tags": []
   },
   "source": [
    "So we see that if the number of previous_cancellations is 1 or above 12, the chance of canceling the reservation is very high. This makes me wonder that will the prediction be better if I apply the same modification as parking space. Let's find out"
   ]
  },
  {
   "cell_type": "code",
   "execution_count": 36,
   "metadata": {
    "execution": {
     "iopub.execute_input": "2020-11-13T06:56:55.258221Z",
     "iopub.status.busy": "2020-11-13T06:56:55.257313Z",
     "iopub.status.idle": "2020-11-13T06:56:55.261522Z",
     "shell.execute_reply": "2020-11-13T06:56:55.260850Z"
    },
    "papermill": {
     "duration": 0.099484,
     "end_time": "2020-11-13T06:56:55.261658",
     "exception": false,
     "start_time": "2020-11-13T06:56:55.162174",
     "status": "completed"
    },
    "tags": []
   },
   "outputs": [],
   "source": [
    "temp_previous_cancel = full_data['previous_cancellations'].copy()"
   ]
  },
  {
   "cell_type": "code",
   "execution_count": 37,
   "metadata": {
    "execution": {
     "iopub.execute_input": "2020-11-13T06:56:55.451271Z",
     "iopub.status.busy": "2020-11-13T06:56:55.450371Z",
     "iopub.status.idle": "2020-11-13T06:56:55.459031Z",
     "shell.execute_reply": "2020-11-13T06:56:55.458381Z"
    },
    "papermill": {
     "duration": 0.108276,
     "end_time": "2020-11-13T06:56:55.459191",
     "exception": false,
     "start_time": "2020-11-13T06:56:55.350915",
     "status": "completed"
    },
    "tags": []
   },
   "outputs": [],
   "source": [
    "full_data.loc[(full_data['previous_cancellations'] == 1) | (full_data['previous_cancellations'] >= 13), 'previous_cancellations'] = 1\n",
    "full_data.loc[(full_data['previous_cancellations'] != 1) & (full_data['previous_cancellations'] < 13), 'previous_cancellations'] = 0"
   ]
  },
  {
   "cell_type": "code",
   "execution_count": 38,
   "metadata": {
    "execution": {
     "iopub.execute_input": "2020-11-13T06:56:55.657145Z",
     "iopub.status.busy": "2020-11-13T06:56:55.650703Z",
     "iopub.status.idle": "2020-11-13T06:56:55.817669Z",
     "shell.execute_reply": "2020-11-13T06:56:55.816987Z"
    },
    "papermill": {
     "duration": 0.26802,
     "end_time": "2020-11-13T06:56:55.817799",
     "exception": false,
     "start_time": "2020-11-13T06:56:55.549779",
     "status": "completed"
    },
    "tags": []
   },
   "outputs": [
    {
     "data": {
      "image/png": "[encoded data removed]",
      "text/plain": [
       "<Figure size 1080x720 with 1 Axes>"
      ]
     },
     "metadata": {
      "needs_background": "light"
     },
     "output_type": "display_data"
    },
    {
     "name": "stdout",
     "output_type": "stream",
     "text": [
      "0    94.810286\n",
      "1     5.189714\n",
      "Name: previous_cancellations, dtype: float64\n"
     ]
    }
   ],
   "source": [
    "plt.figure(figsize=(15, 10))\n",
    "plt.title(\"previous_cancellations Column\")\n",
    "sns.countplot(x=full_data['previous_cancellations'])\n",
    "plt.show()\n",
    "\n",
    "print(full_data['previous_cancellations'].value_counts() / full_data.shape[0] * 100)"
   ]
  },
  {
   "cell_type": "code",
   "execution_count": 39,
   "metadata": {
    "execution": {
     "iopub.execute_input": "2020-11-13T06:56:56.014578Z",
     "iopub.status.busy": "2020-11-13T06:56:56.005423Z",
     "iopub.status.idle": "2020-11-13T06:56:57.234557Z",
     "shell.execute_reply": "2020-11-13T06:56:57.233520Z"
    },
    "papermill": {
     "duration": 1.327242,
     "end_time": "2020-11-13T06:56:57.234727",
     "exception": false,
     "start_time": "2020-11-13T06:56:55.907485",
     "status": "completed"
    },
    "tags": []
   },
   "outputs": [
    {
     "data": {
      "image/png": "[encoded data removed]",
      "text/plain": [
       "<Figure size 1080x720 with 1 Axes>"
      ]
     },
     "metadata": {
      "needs_background": "light"
     },
     "output_type": "display_data"
    },
    {
     "name": "stdout",
     "output_type": "stream",
     "text": [
      "   previous_cancellations  is_canceled\n",
      "0                       0     0.338940\n",
      "1                       1     0.945449\n"
     ]
    }
   ],
   "source": [
    "plt.figure(figsize=(15, 10))\n",
    "plt.title(\"previous_cancellations Column\")\n",
    "sns.barplot(x=full_data['previous_cancellations'], y=full_data['is_canceled'])\n",
    "plt.show()\n",
    "\n",
    "print( full_data[[\"previous_cancellations\",\"is_canceled\"]].groupby([\"previous_cancellations\"], as_index = False).mean() )"
   ]
  },
  {
   "cell_type": "markdown",
   "metadata": {
    "papermill": {
     "duration": 0.125226,
     "end_time": "2020-11-13T06:56:57.452839",
     "exception": false,
     "start_time": "2020-11-13T06:56:57.327613",
     "status": "completed"
    },
    "tags": []
   },
   "source": [
    "Now our model's performance is:"
   ]
  },
  {
   "cell_type": "code",
   "execution_count": 40,
   "metadata": {
    "execution": {
     "iopub.execute_input": "2020-11-13T06:56:57.680545Z",
     "iopub.status.busy": "2020-11-13T06:56:57.679015Z",
     "iopub.status.idle": "2020-11-13T06:58:03.443817Z",
     "shell.execute_reply": "2020-11-13T06:58:03.444771Z"
    },
    "papermill": {
     "duration": 65.876764,
     "end_time": "2020-11-13T06:58:03.444990",
     "exception": false,
     "start_time": "2020-11-13T06:56:57.568226",
     "status": "completed"
    },
    "tags": []
   },
   "outputs": [
    {
     "name": "stdout",
     "output_type": "stream",
     "text": [
      "RF Model cross validation accuarcy score: 0.8661 +/- 0.0016 (std) min: 0.8635, max: 0.868\n"
     ]
    }
   ],
   "source": [
    "X = full_data.drop([\"is_canceled\"], axis=1)[features]\n",
    "y = full_data[\"is_canceled\"]\n",
    "\n",
    "model_steps = Pipeline(steps=[('preprocessor', preprocessor),\n",
    "                              ('model', RandomForestClassifier(random_state=42,n_jobs=-1))])\n",
    "    \n",
    "cv_results = cross_val_score(model_steps, \n",
    "                             X, y, \n",
    "                             cv=split,\n",
    "                             scoring=\"accuracy\",\n",
    "                             n_jobs=-1)\n",
    "\n",
    "min_score = round(min(cv_results), 4)\n",
    "max_score = round(max(cv_results), 4)\n",
    "mean_score = round(np.mean(cv_results), 4)\n",
    "std_dev = round(np.std(cv_results), 4)\n",
    "print(f\"RF Model cross validation accuarcy score: {mean_score} +/- {std_dev} (std) min: {min_score}, max: {max_score}\")"
   ]
  },
  {
   "cell_type": "markdown",
   "metadata": {
    "papermill": {
     "duration": 0.092502,
     "end_time": "2020-11-13T06:58:03.636611",
     "exception": false,
     "start_time": "2020-11-13T06:58:03.544109",
     "status": "completed"
    },
    "tags": []
   },
   "source": [
    "Sadly, this actually makes the performance worse, so let's undo this change. "
   ]
  },
  {
   "cell_type": "code",
   "execution_count": 41,
   "metadata": {
    "execution": {
     "iopub.execute_input": "2020-11-13T06:58:03.829389Z",
     "iopub.status.busy": "2020-11-13T06:58:03.828488Z",
     "iopub.status.idle": "2020-11-13T06:58:03.832783Z",
     "shell.execute_reply": "2020-11-13T06:58:03.832185Z"
    },
    "papermill": {
     "duration": 0.102959,
     "end_time": "2020-11-13T06:58:03.832918",
     "exception": false,
     "start_time": "2020-11-13T06:58:03.729959",
     "status": "completed"
    },
    "tags": []
   },
   "outputs": [],
   "source": [
    "full_data['previous_cancellations'] = temp_previous_cancel"
   ]
  },
  {
   "cell_type": "code",
   "execution_count": 42,
   "metadata": {
    "execution": {
     "iopub.execute_input": "2020-11-13T06:58:04.036602Z",
     "iopub.status.busy": "2020-11-13T06:58:04.035155Z",
     "iopub.status.idle": "2020-11-13T06:58:05.871370Z",
     "shell.execute_reply": "2020-11-13T06:58:05.870335Z"
    },
    "papermill": {
     "duration": 1.943229,
     "end_time": "2020-11-13T06:58:05.871573",
     "exception": false,
     "start_time": "2020-11-13T06:58:03.928344",
     "status": "completed"
    },
    "tags": []
   },
   "outputs": [
    {
     "data": {
      "image/png": "[encoded data removed]",
      "text/plain": [
       "<Figure size 1080x720 with 1 Axes>"
      ]
     },
     "metadata": {
      "needs_background": "light"
     },
     "output_type": "display_data"
    },
    {
     "name": "stdout",
     "output_type": "stream",
     "text": [
      "    previous_cancellations  is_canceled\n",
      "0                        0     0.339061\n",
      "1                        1     0.944307\n",
      "2                        2     0.327586\n",
      "3                        3     0.307692\n",
      "4                        4     0.225806\n",
      "5                        5     0.105263\n",
      "6                        6     0.318182\n",
      "7                       11     0.285714\n",
      "8                       13     0.916667\n",
      "9                       14     1.000000\n",
      "10                      19     1.000000\n",
      "11                      21     1.000000\n",
      "12                      24     1.000000\n",
      "13                      25     1.000000\n",
      "14                      26     1.000000\n"
     ]
    }
   ],
   "source": [
    "plt.figure(figsize=(15, 10))\n",
    "plt.title(\"previous_cancellations Column\")\n",
    "sns.barplot(x=full_data['previous_cancellations'], y=full_data['is_canceled'])\n",
    "plt.show()\n",
    "\n",
    "print( full_data[[\"previous_cancellations\",\"is_canceled\"]].groupby([\"previous_cancellations\"], as_index = False).mean() )"
   ]
  },
  {
   "cell_type": "code",
   "execution_count": 43,
   "metadata": {
    "execution": {
     "iopub.execute_input": "2020-11-13T06:58:06.074481Z",
     "iopub.status.busy": "2020-11-13T06:58:06.073414Z",
     "iopub.status.idle": "2020-11-13T06:59:11.501665Z",
     "shell.execute_reply": "2020-11-13T06:59:11.502850Z"
    },
    "papermill": {
     "duration": 65.537949,
     "end_time": "2020-11-13T06:59:11.503119",
     "exception": false,
     "start_time": "2020-11-13T06:58:05.965170",
     "status": "completed"
    },
    "tags": []
   },
   "outputs": [
    {
     "name": "stdout",
     "output_type": "stream",
     "text": [
      "RF Model cross validation accuarcy score: 0.8664 +/- 0.0013 (std) min: 0.8648, max: 0.8684\n"
     ]
    }
   ],
   "source": [
    "X = full_data.drop([\"is_canceled\"], axis=1)[features]\n",
    "y = full_data[\"is_canceled\"]\n",
    "\n",
    "model_steps = Pipeline(steps=[('preprocessor', preprocessor),\n",
    "                              ('model', RandomForestClassifier(random_state=42,n_jobs=-1))])\n",
    "    \n",
    "cv_results = cross_val_score(model_steps, \n",
    "                             X, y, \n",
    "                             cv=split,\n",
    "                             scoring=\"accuracy\",\n",
    "                             n_jobs=-1)\n",
    "\n",
    "min_score = round(min(cv_results), 4)\n",
    "max_score = round(max(cv_results), 4)\n",
    "mean_score = round(np.mean(cv_results), 4)\n",
    "std_dev = round(np.std(cv_results), 4)\n",
    "print(f\"RF Model cross validation accuarcy score: {mean_score} +/- {std_dev} (std) min: {min_score}, max: {max_score}\")"
   ]
  },
  {
   "cell_type": "markdown",
   "metadata": {
    "papermill": {
     "duration": 0.094711,
     "end_time": "2020-11-13T06:59:11.697263",
     "exception": false,
     "start_time": "2020-11-13T06:59:11.602552",
     "status": "completed"
    },
    "tags": []
   },
   "source": [
    "# Final Tuning\n",
    "\n",
    "Now we have done all the modifications. Let's finally adjust the hyperparameters and make the final predictions."
   ]
  },
  {
   "cell_type": "code",
   "execution_count": 44,
   "metadata": {
    "execution": {
     "iopub.execute_input": "2020-11-13T06:59:11.903438Z",
     "iopub.status.busy": "2020-11-13T06:59:11.900488Z",
     "iopub.status.idle": "2020-11-13T07:01:33.818217Z",
     "shell.execute_reply": "2020-11-13T07:01:33.818973Z"
    },
    "papermill": {
     "duration": 142.024848,
     "end_time": "2020-11-13T07:01:33.819210",
     "exception": false,
     "start_time": "2020-11-13T06:59:11.794362",
     "status": "completed"
    },
    "tags": []
   },
   "outputs": [
    {
     "name": "stdout",
     "output_type": "stream",
     "text": [
      "Enhanced RF model cross validation accuarcy score: 0.8682 +/- 0.0016 (std) min: 0.8662, max: 0.8705\n"
     ]
    }
   ],
   "source": [
    "rf_model_enh = RandomForestClassifier(n_estimators=160,\n",
    "                               max_features=0.4,\n",
    "                               min_samples_split=2,\n",
    "                               n_jobs=-1,\n",
    "                               random_state=0)\n",
    "\n",
    "split = KFold(n_splits=kfolds, shuffle=True, random_state=42)\n",
    "model_pipe = Pipeline(steps=[('preprocessor', preprocessor),\n",
    "                              ('model', rf_model_enh)])\n",
    "cv_results = cross_val_score(model_pipe, \n",
    "                                 X, y, \n",
    "                                 cv=split,\n",
    "                                 scoring=\"accuracy\",\n",
    "                                 n_jobs=-1)\n",
    "# output:\n",
    "min_score = round(min(cv_results), 4)\n",
    "max_score = round(max(cv_results), 4)\n",
    "mean_score = round(np.mean(cv_results), 4)\n",
    "std_dev = round(np.std(cv_results), 4)\n",
    "print(f\"Enhanced RF model cross validation accuarcy score: {mean_score} +/- {std_dev} (std) min: {min_score}, max: {max_score}\")"
   ]
  },
  {
   "cell_type": "markdown",
   "metadata": {
    "papermill": {
     "duration": 0.120427,
     "end_time": "2020-11-13T07:01:34.052553",
     "exception": false,
     "start_time": "2020-11-13T07:01:33.932126",
     "status": "completed"
    },
    "tags": []
   },
   "source": [
    "So our final perdiction accyracy is 86.82%."
   ]
  }
 ],
 "metadata": {
  "kernelspec": {
   "display_name": "Python 3",
   "language": "python",
   "name": "python3"
  },
  "language_info": {
   "codemirror_mode": {
    "name": "ipython",
    "version": 3
   },
   "file_extension": ".py",
   "mimetype": "text/x-python",
   "name": "python",
   "nbconvert_exporter": "python",
   "pygments_lexer": "ipython3",
   "version": "3.7.6"
  },
  "papermill": {
   "duration": 372.946591,
   "end_time": "2020-11-13T07:01:34.267222",
   "environment_variables": {},
   "exception": null,
   "input_path": "__notebook__.ipynb",
   "output_path": "__notebook__.ipynb",
   "parameters": {},
   "start_time": "2020-11-13T06:55:21.320631",
   "version": "2.1.0"
  }
 },
 "nbformat": 4,
 "nbformat_minor": 4
}
