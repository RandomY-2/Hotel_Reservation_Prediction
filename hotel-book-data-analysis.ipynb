{
 "cells": [
  {
   "cell_type": "markdown",
   "metadata": {
    "papermill": {
     "duration": 0.05673,
     "end_time": "2020-12-23T12:18:31.077107",
     "exception": false,
     "start_time": "2020-12-23T12:18:31.020377",
     "status": "completed"
    },
    "tags": []
   },
   "source": [
    "# Introduction\n",
    "\n",
    "Hello everyone! This is my data analysis on the Hotel Booking dataset, and this is the first time that I will try to analyze the data and define my own question and solve it. I am very excited! Now, let's us first take a look at our data."
   ]
  },
  {
   "cell_type": "code",
   "execution_count": 1,
   "metadata": {
    "_cell_guid": "b1076dfc-b9ad-4769-8c92-a6c4dae69d19",
    "_uuid": "8f2839f25d086af736a60e9eeb907d3b93b6e0e5",
    "execution": {
     "iopub.execute_input": "2020-12-23T12:18:31.201044Z",
     "iopub.status.busy": "2020-12-23T12:18:31.200161Z",
     "iopub.status.idle": "2020-12-23T12:18:33.625976Z",
     "shell.execute_reply": "2020-12-23T12:18:33.625213Z"
    },
    "papermill": {
     "duration": 2.493714,
     "end_time": "2020-12-23T12:18:33.626103",
     "exception": false,
     "start_time": "2020-12-23T12:18:31.132389",
     "status": "completed"
    },
    "tags": []
   },
   "outputs": [
    {
     "name": "stdout",
     "output_type": "stream",
     "text": [
      "/kaggle/input/hotel-booking-demand/hotel_bookings.csv\n"
     ]
    }
   ],
   "source": [
    "# This Python 3 environment comes with many helpful analytics libraries installed\n",
    "# It is defined by the kaggle/python Docker image: https://github.com/kaggle/docker-python\n",
    "# For example, here's several helpful packages to load\n",
    "\n",
    "import numpy as np\n",
    "import pandas as pd\n",
    "\n",
    "from sklearn.compose import ColumnTransformer\n",
    "from sklearn.pipeline import Pipeline\n",
    "from sklearn.impute import SimpleImputer\n",
    "from sklearn.preprocessing import LabelEncoder, OneHotEncoder\n",
    "from sklearn.model_selection import train_test_split\n",
    "from sklearn.metrics import mean_squared_error\n",
    "import math\n",
    "import seaborn as sns\n",
    "import matplotlib.pyplot as plt\n",
    "%matplotlib inline\n",
    "from sklearn.model_selection import GridSearchCV\n",
    "import plotly.express as px\n",
    "from sklearn.model_selection import train_test_split, KFold, cross_validate, cross_val_score\n",
    "\n",
    "# Input data files are available in the read-only \"../input/\" directory\n",
    "# For example, running this (by clicking run or pressing Shift+Enter) will list all files under the input directory\n",
    "\n",
    "import os\n",
    "for dirname, _, filenames in os.walk('/kaggle/input'):\n",
    "    for filename in filenames:\n",
    "        print(os.path.join(dirname, filename))\n",
    "\n",
    "# You can write up to 20GB to the current directory (/kaggle/working/) that gets preserved as output when you create a version using \"Save & Run All\" \n",
    "# You can also write temporary files to /kaggle/temp/, but they won't be saved outside of the current session"
   ]
  },
  {
   "cell_type": "code",
   "execution_count": 2,
   "metadata": {
    "_cell_guid": "79c7e3d0-c299-4dcb-8224-4455121ee9b0",
    "_uuid": "d629ff2d2480ee46fbb7e2d37f6b5fab8052498a",
    "execution": {
     "iopub.execute_input": "2020-12-23T12:18:33.742901Z",
     "iopub.status.busy": "2020-12-23T12:18:33.742251Z",
     "iopub.status.idle": "2020-12-23T12:18:34.347105Z",
     "shell.execute_reply": "2020-12-23T12:18:34.346383Z"
    },
    "papermill": {
     "duration": 0.665392,
     "end_time": "2020-12-23T12:18:34.347245",
     "exception": false,
     "start_time": "2020-12-23T12:18:33.681853",
     "status": "completed"
    },
    "tags": []
   },
   "outputs": [],
   "source": [
    "full_data = pd.read_csv(\"/kaggle/input/hotel-booking-demand/hotel_bookings.csv\")"
   ]
  },
  {
   "cell_type": "code",
   "execution_count": 3,
   "metadata": {
    "execution": {
     "iopub.execute_input": "2020-12-23T12:18:34.477290Z",
     "iopub.status.busy": "2020-12-23T12:18:34.476620Z",
     "iopub.status.idle": "2020-12-23T12:18:34.479929Z",
     "shell.execute_reply": "2020-12-23T12:18:34.480528Z"
    },
    "papermill": {
     "duration": 0.065912,
     "end_time": "2020-12-23T12:18:34.480665",
     "exception": false,
     "start_time": "2020-12-23T12:18:34.414753",
     "status": "completed"
    },
    "tags": []
   },
   "outputs": [
    {
     "data": {
      "text/plain": [
       "(119390, 32)"
      ]
     },
     "execution_count": 3,
     "metadata": {},
     "output_type": "execute_result"
    }
   ],
   "source": [
    "full_data.shape"
   ]
  },
  {
   "cell_type": "code",
   "execution_count": 4,
   "metadata": {
    "execution": {
     "iopub.execute_input": "2020-12-23T12:18:34.594977Z",
     "iopub.status.busy": "2020-12-23T12:18:34.594342Z",
     "iopub.status.idle": "2020-12-23T12:18:34.636965Z",
     "shell.execute_reply": "2020-12-23T12:18:34.636111Z"
    },
    "papermill": {
     "duration": 0.10167,
     "end_time": "2020-12-23T12:18:34.637090",
     "exception": false,
     "start_time": "2020-12-23T12:18:34.535420",
     "status": "completed"
    },
    "tags": []
   },
   "outputs": [
    {
     "data": {
      "text/html": [
       "<div>\n",
       "<style scoped>\n",
       "    .dataframe tbody tr th:only-of-type {\n",
       "        vertical-align: middle;\n",
       "    }\n",
       "\n",
       "    .dataframe tbody tr th {\n",
       "        vertical-align: top;\n",
       "    }\n",
       "\n",
       "    .dataframe thead th {\n",
       "        text-align: right;\n",
       "    }\n",
       "</style>\n",
       "<table border=\"1\" class=\"dataframe\">\n",
       "  <thead>\n",
       "    <tr style=\"text-align: right;\">\n",
       "      <th></th>\n",
       "      <th>hotel</th>\n",
       "      <th>is_canceled</th>\n",
       "      <th>lead_time</th>\n",
       "      <th>arrival_date_year</th>\n",
       "      <th>arrival_date_month</th>\n",
       "      <th>arrival_date_week_number</th>\n",
       "      <th>arrival_date_day_of_month</th>\n",
       "      <th>stays_in_weekend_nights</th>\n",
       "      <th>stays_in_week_nights</th>\n",
       "      <th>adults</th>\n",
       "      <th>...</th>\n",
       "      <th>deposit_type</th>\n",
       "      <th>agent</th>\n",
       "      <th>company</th>\n",
       "      <th>days_in_waiting_list</th>\n",
       "      <th>customer_type</th>\n",
       "      <th>adr</th>\n",
       "      <th>required_car_parking_spaces</th>\n",
       "      <th>total_of_special_requests</th>\n",
       "      <th>reservation_status</th>\n",
       "      <th>reservation_status_date</th>\n",
       "    </tr>\n",
       "  </thead>\n",
       "  <tbody>\n",
       "    <tr>\n",
       "      <th>0</th>\n",
       "      <td>Resort Hotel</td>\n",
       "      <td>0</td>\n",
       "      <td>342</td>\n",
       "      <td>2015</td>\n",
       "      <td>July</td>\n",
       "      <td>27</td>\n",
       "      <td>1</td>\n",
       "      <td>0</td>\n",
       "      <td>0</td>\n",
       "      <td>2</td>\n",
       "      <td>...</td>\n",
       "      <td>No Deposit</td>\n",
       "      <td>NaN</td>\n",
       "      <td>NaN</td>\n",
       "      <td>0</td>\n",
       "      <td>Transient</td>\n",
       "      <td>0.0</td>\n",
       "      <td>0</td>\n",
       "      <td>0</td>\n",
       "      <td>Check-Out</td>\n",
       "      <td>2015-07-01</td>\n",
       "    </tr>\n",
       "    <tr>\n",
       "      <th>1</th>\n",
       "      <td>Resort Hotel</td>\n",
       "      <td>0</td>\n",
       "      <td>737</td>\n",
       "      <td>2015</td>\n",
       "      <td>July</td>\n",
       "      <td>27</td>\n",
       "      <td>1</td>\n",
       "      <td>0</td>\n",
       "      <td>0</td>\n",
       "      <td>2</td>\n",
       "      <td>...</td>\n",
       "      <td>No Deposit</td>\n",
       "      <td>NaN</td>\n",
       "      <td>NaN</td>\n",
       "      <td>0</td>\n",
       "      <td>Transient</td>\n",
       "      <td>0.0</td>\n",
       "      <td>0</td>\n",
       "      <td>0</td>\n",
       "      <td>Check-Out</td>\n",
       "      <td>2015-07-01</td>\n",
       "    </tr>\n",
       "    <tr>\n",
       "      <th>2</th>\n",
       "      <td>Resort Hotel</td>\n",
       "      <td>0</td>\n",
       "      <td>7</td>\n",
       "      <td>2015</td>\n",
       "      <td>July</td>\n",
       "      <td>27</td>\n",
       "      <td>1</td>\n",
       "      <td>0</td>\n",
       "      <td>1</td>\n",
       "      <td>1</td>\n",
       "      <td>...</td>\n",
       "      <td>No Deposit</td>\n",
       "      <td>NaN</td>\n",
       "      <td>NaN</td>\n",
       "      <td>0</td>\n",
       "      <td>Transient</td>\n",
       "      <td>75.0</td>\n",
       "      <td>0</td>\n",
       "      <td>0</td>\n",
       "      <td>Check-Out</td>\n",
       "      <td>2015-07-02</td>\n",
       "    </tr>\n",
       "    <tr>\n",
       "      <th>3</th>\n",
       "      <td>Resort Hotel</td>\n",
       "      <td>0</td>\n",
       "      <td>13</td>\n",
       "      <td>2015</td>\n",
       "      <td>July</td>\n",
       "      <td>27</td>\n",
       "      <td>1</td>\n",
       "      <td>0</td>\n",
       "      <td>1</td>\n",
       "      <td>1</td>\n",
       "      <td>...</td>\n",
       "      <td>No Deposit</td>\n",
       "      <td>304.0</td>\n",
       "      <td>NaN</td>\n",
       "      <td>0</td>\n",
       "      <td>Transient</td>\n",
       "      <td>75.0</td>\n",
       "      <td>0</td>\n",
       "      <td>0</td>\n",
       "      <td>Check-Out</td>\n",
       "      <td>2015-07-02</td>\n",
       "    </tr>\n",
       "    <tr>\n",
       "      <th>4</th>\n",
       "      <td>Resort Hotel</td>\n",
       "      <td>0</td>\n",
       "      <td>14</td>\n",
       "      <td>2015</td>\n",
       "      <td>July</td>\n",
       "      <td>27</td>\n",
       "      <td>1</td>\n",
       "      <td>0</td>\n",
       "      <td>2</td>\n",
       "      <td>2</td>\n",
       "      <td>...</td>\n",
       "      <td>No Deposit</td>\n",
       "      <td>240.0</td>\n",
       "      <td>NaN</td>\n",
       "      <td>0</td>\n",
       "      <td>Transient</td>\n",
       "      <td>98.0</td>\n",
       "      <td>0</td>\n",
       "      <td>1</td>\n",
       "      <td>Check-Out</td>\n",
       "      <td>2015-07-03</td>\n",
       "    </tr>\n",
       "  </tbody>\n",
       "</table>\n",
       "<p>5 rows × 32 columns</p>\n",
       "</div>"
      ],
      "text/plain": [
       "          hotel  is_canceled  lead_time  arrival_date_year arrival_date_month  \\\n",
       "0  Resort Hotel            0        342               2015               July   \n",
       "1  Resort Hotel            0        737               2015               July   \n",
       "2  Resort Hotel            0          7               2015               July   \n",
       "3  Resort Hotel            0         13               2015               July   \n",
       "4  Resort Hotel            0         14               2015               July   \n",
       "\n",
       "   arrival_date_week_number  arrival_date_day_of_month  \\\n",
       "0                        27                          1   \n",
       "1                        27                          1   \n",
       "2                        27                          1   \n",
       "3                        27                          1   \n",
       "4                        27                          1   \n",
       "\n",
       "   stays_in_weekend_nights  stays_in_week_nights  adults  ...  deposit_type  \\\n",
       "0                        0                     0       2  ...    No Deposit   \n",
       "1                        0                     0       2  ...    No Deposit   \n",
       "2                        0                     1       1  ...    No Deposit   \n",
       "3                        0                     1       1  ...    No Deposit   \n",
       "4                        0                     2       2  ...    No Deposit   \n",
       "\n",
       "   agent company days_in_waiting_list customer_type   adr  \\\n",
       "0    NaN     NaN                    0     Transient   0.0   \n",
       "1    NaN     NaN                    0     Transient   0.0   \n",
       "2    NaN     NaN                    0     Transient  75.0   \n",
       "3  304.0     NaN                    0     Transient  75.0   \n",
       "4  240.0     NaN                    0     Transient  98.0   \n",
       "\n",
       "   required_car_parking_spaces  total_of_special_requests  reservation_status  \\\n",
       "0                            0                          0           Check-Out   \n",
       "1                            0                          0           Check-Out   \n",
       "2                            0                          0           Check-Out   \n",
       "3                            0                          0           Check-Out   \n",
       "4                            0                          1           Check-Out   \n",
       "\n",
       "  reservation_status_date  \n",
       "0              2015-07-01  \n",
       "1              2015-07-01  \n",
       "2              2015-07-02  \n",
       "3              2015-07-02  \n",
       "4              2015-07-03  \n",
       "\n",
       "[5 rows x 32 columns]"
      ]
     },
     "execution_count": 4,
     "metadata": {},
     "output_type": "execute_result"
    }
   ],
   "source": [
    "full_data.head()"
   ]
  },
  {
   "cell_type": "code",
   "execution_count": 5,
   "metadata": {
    "execution": {
     "iopub.execute_input": "2020-12-23T12:18:34.755989Z",
     "iopub.status.busy": "2020-12-23T12:18:34.754769Z",
     "iopub.status.idle": "2020-12-23T12:18:34.760017Z",
     "shell.execute_reply": "2020-12-23T12:18:34.760529Z"
    },
    "papermill": {
     "duration": 0.068274,
     "end_time": "2020-12-23T12:18:34.760670",
     "exception": false,
     "start_time": "2020-12-23T12:18:34.692396",
     "status": "completed"
    },
    "tags": []
   },
   "outputs": [
    {
     "name": "stdout",
     "output_type": "stream",
     "text": [
      "The parameters are:\n",
      "Index(['hotel', 'is_canceled', 'lead_time', 'arrival_date_year',\n",
      "       'arrival_date_month', 'arrival_date_week_number',\n",
      "       'arrival_date_day_of_month', 'stays_in_weekend_nights',\n",
      "       'stays_in_week_nights', 'adults', 'children', 'babies', 'meal',\n",
      "       'country', 'market_segment', 'distribution_channel',\n",
      "       'is_repeated_guest', 'previous_cancellations',\n",
      "       'previous_bookings_not_canceled', 'reserved_room_type',\n",
      "       'assigned_room_type', 'booking_changes', 'deposit_type', 'agent',\n",
      "       'company', 'days_in_waiting_list', 'customer_type', 'adr',\n",
      "       'required_car_parking_spaces', 'total_of_special_requests',\n",
      "       'reservation_status', 'reservation_status_date'],\n",
      "      dtype='object')\n"
     ]
    },
    {
     "data": {
      "text/plain": [
       "32"
      ]
     },
     "execution_count": 5,
     "metadata": {},
     "output_type": "execute_result"
    }
   ],
   "source": [
    "print(\"The parameters are:\")\n",
    "print(full_data.columns.unique())\n",
    "len(full_data.columns.unique())"
   ]
  },
  {
   "cell_type": "code",
   "execution_count": 6,
   "metadata": {
    "execution": {
     "iopub.execute_input": "2020-12-23T12:18:34.877723Z",
     "iopub.status.busy": "2020-12-23T12:18:34.877035Z",
     "iopub.status.idle": "2020-12-23T12:18:35.206584Z",
     "shell.execute_reply": "2020-12-23T12:18:35.206051Z"
    },
    "papermill": {
     "duration": 0.388853,
     "end_time": "2020-12-23T12:18:35.206704",
     "exception": false,
     "start_time": "2020-12-23T12:18:34.817851",
     "status": "completed"
    },
    "tags": []
   },
   "outputs": [
    {
     "name": "stdout",
     "output_type": "stream",
     "text": [
      "Following columns contain missing values:\n",
      "Index(['children', 'country', 'agent', 'company'], dtype='object')\n"
     ]
    },
    {
     "data": {
      "text/plain": [
       "4"
      ]
     },
     "execution_count": 6,
     "metadata": {},
     "output_type": "execute_result"
    }
   ],
   "source": [
    "print(\"Following columns contain missing values:\")\n",
    "print(full_data.columns[full_data.isna().any()].unique())\n",
    "len(full_data.columns[full_data.isna().any()].unique())"
   ]
  },
  {
   "cell_type": "markdown",
   "metadata": {
    "papermill": {
     "duration": 0.057695,
     "end_time": "2020-12-23T12:18:35.323195",
     "exception": false,
     "start_time": "2020-12-23T12:18:35.265500",
     "status": "completed"
    },
    "tags": []
   },
   "source": [
    "So we just had a quick look at the data. There are 119390 rows with 32 parameters, and four of the parameters have missing values. Let's now look deeper into these four columns and see how many values are missed."
   ]
  },
  {
   "cell_type": "code",
   "execution_count": 7,
   "metadata": {
    "execution": {
     "iopub.execute_input": "2020-12-23T12:18:35.443280Z",
     "iopub.status.busy": "2020-12-23T12:18:35.442226Z",
     "iopub.status.idle": "2020-12-23T12:18:35.452795Z",
     "shell.execute_reply": "2020-12-23T12:18:35.451853Z"
    },
    "papermill": {
     "duration": 0.071705,
     "end_time": "2020-12-23T12:18:35.452972",
     "exception": false,
     "start_time": "2020-12-23T12:18:35.381267",
     "status": "completed"
    },
    "tags": []
   },
   "outputs": [
    {
     "name": "stdout",
     "output_type": "stream",
     "text": [
      "Number of empty values in children column:  4\n",
      "Percentage：  0.003350364352123293\n"
     ]
    }
   ],
   "source": [
    "print(\"Number of empty values in children column: \", full_data['children'].isnull().sum())\n",
    "print(\"Percentage： \", full_data['children'].isnull().sum() / full_data.shape[0] * 100)"
   ]
  },
  {
   "cell_type": "code",
   "execution_count": 8,
   "metadata": {
    "execution": {
     "iopub.execute_input": "2020-12-23T12:18:35.590840Z",
     "iopub.status.busy": "2020-12-23T12:18:35.589765Z",
     "iopub.status.idle": "2020-12-23T12:18:35.610393Z",
     "shell.execute_reply": "2020-12-23T12:18:35.609484Z"
    },
    "papermill": {
     "duration": 0.098545,
     "end_time": "2020-12-23T12:18:35.610545",
     "exception": false,
     "start_time": "2020-12-23T12:18:35.512000",
     "status": "completed"
    },
    "tags": []
   },
   "outputs": [
    {
     "name": "stdout",
     "output_type": "stream",
     "text": [
      "Number of empty values in country column:  488\n",
      "Percentage：  0.40874445095904177\n"
     ]
    }
   ],
   "source": [
    "print(\"Number of empty values in country column: \", full_data['country'].isnull().sum())\n",
    "print(\"Percentage： \", full_data['country'].isnull().sum() / full_data.shape[0] * 100)"
   ]
  },
  {
   "cell_type": "code",
   "execution_count": 9,
   "metadata": {
    "execution": {
     "iopub.execute_input": "2020-12-23T12:18:35.736221Z",
     "iopub.status.busy": "2020-12-23T12:18:35.735317Z",
     "iopub.status.idle": "2020-12-23T12:18:35.740441Z",
     "shell.execute_reply": "2020-12-23T12:18:35.740992Z"
    },
    "papermill": {
     "duration": 0.070927,
     "end_time": "2020-12-23T12:18:35.741141",
     "exception": false,
     "start_time": "2020-12-23T12:18:35.670214",
     "status": "completed"
    },
    "tags": []
   },
   "outputs": [
    {
     "name": "stdout",
     "output_type": "stream",
     "text": [
      "Number of empty values in agent column:  16340\n",
      "Percentage：  13.686238378423655\n"
     ]
    }
   ],
   "source": [
    "print(\"Number of empty values in agent column: \", full_data['agent'].isnull().sum())\n",
    "print(\"Percentage： \", full_data['agent'].isnull().sum() / full_data.shape[0] * 100)"
   ]
  },
  {
   "cell_type": "code",
   "execution_count": 10,
   "metadata": {
    "execution": {
     "iopub.execute_input": "2020-12-23T12:18:35.867520Z",
     "iopub.status.busy": "2020-12-23T12:18:35.866791Z",
     "iopub.status.idle": "2020-12-23T12:18:35.874159Z",
     "shell.execute_reply": "2020-12-23T12:18:35.873595Z"
    },
    "papermill": {
     "duration": 0.073148,
     "end_time": "2020-12-23T12:18:35.874283",
     "exception": false,
     "start_time": "2020-12-23T12:18:35.801135",
     "status": "completed"
    },
    "tags": []
   },
   "outputs": [
    {
     "name": "stdout",
     "output_type": "stream",
     "text": [
      "Number of empty values in company column:  112593\n",
      "Percentage：  94.30689337465449\n"
     ]
    }
   ],
   "source": [
    "print(\"Number of empty values in company column: \", full_data['company'].isnull().sum())\n",
    "print(\"Percentage： \", full_data['company'].isnull().sum() / full_data.shape[0] * 100)"
   ]
  },
  {
   "cell_type": "markdown",
   "metadata": {
    "papermill": {
     "duration": 0.058872,
     "end_time": "2020-12-23T12:18:35.997268",
     "exception": false,
     "start_time": "2020-12-23T12:18:35.938396",
     "status": "completed"
    },
    "tags": []
   },
   "source": [
    "So from the above we can see the exact number of rows with missing values in each column, and it is shown that the company column has essentially 94.3% values missing! This basically means that we should not use the company column for further data analysis as there are too many missing values. So let's just drop this column."
   ]
  },
  {
   "cell_type": "code",
   "execution_count": 11,
   "metadata": {
    "execution": {
     "iopub.execute_input": "2020-12-23T12:18:36.143373Z",
     "iopub.status.busy": "2020-12-23T12:18:36.142097Z",
     "iopub.status.idle": "2020-12-23T12:18:36.146552Z",
     "shell.execute_reply": "2020-12-23T12:18:36.145839Z"
    },
    "papermill": {
     "duration": 0.089922,
     "end_time": "2020-12-23T12:18:36.146675",
     "exception": false,
     "start_time": "2020-12-23T12:18:36.056753",
     "status": "completed"
    },
    "tags": []
   },
   "outputs": [],
   "source": [
    "full_data = full_data.drop(['company'], axis=1)"
   ]
  },
  {
   "cell_type": "code",
   "execution_count": 12,
   "metadata": {
    "execution": {
     "iopub.execute_input": "2020-12-23T12:18:36.272397Z",
     "iopub.status.busy": "2020-12-23T12:18:36.271626Z",
     "iopub.status.idle": "2020-12-23T12:18:36.275526Z",
     "shell.execute_reply": "2020-12-23T12:18:36.275981Z"
    },
    "papermill": {
     "duration": 0.069205,
     "end_time": "2020-12-23T12:18:36.276127",
     "exception": false,
     "start_time": "2020-12-23T12:18:36.206922",
     "status": "completed"
    },
    "tags": []
   },
   "outputs": [
    {
     "data": {
      "text/plain": [
       "(119390, 31)"
      ]
     },
     "execution_count": 12,
     "metadata": {},
     "output_type": "execute_result"
    }
   ],
   "source": [
    "full_data.shape"
   ]
  },
  {
   "cell_type": "code",
   "execution_count": 13,
   "metadata": {
    "execution": {
     "iopub.execute_input": "2020-12-23T12:18:36.402932Z",
     "iopub.status.busy": "2020-12-23T12:18:36.402313Z",
     "iopub.status.idle": "2020-12-23T12:18:36.406937Z",
     "shell.execute_reply": "2020-12-23T12:18:36.406394Z"
    },
    "papermill": {
     "duration": 0.070645,
     "end_time": "2020-12-23T12:18:36.407076",
     "exception": false,
     "start_time": "2020-12-23T12:18:36.336431",
     "status": "completed"
    },
    "tags": []
   },
   "outputs": [
    {
     "data": {
      "text/plain": [
       "Index(['hotel', 'is_canceled', 'lead_time', 'arrival_date_year',\n",
       "       'arrival_date_month', 'arrival_date_week_number',\n",
       "       'arrival_date_day_of_month', 'stays_in_weekend_nights',\n",
       "       'stays_in_week_nights', 'adults', 'children', 'babies', 'meal',\n",
       "       'country', 'market_segment', 'distribution_channel',\n",
       "       'is_repeated_guest', 'previous_cancellations',\n",
       "       'previous_bookings_not_canceled', 'reserved_room_type',\n",
       "       'assigned_room_type', 'booking_changes', 'deposit_type', 'agent',\n",
       "       'days_in_waiting_list', 'customer_type', 'adr',\n",
       "       'required_car_parking_spaces', 'total_of_special_requests',\n",
       "       'reservation_status', 'reservation_status_date'],\n",
       "      dtype='object')"
      ]
     },
     "execution_count": 13,
     "metadata": {},
     "output_type": "execute_result"
    }
   ],
   "source": [
    "full_data.columns.unique()"
   ]
  },
  {
   "cell_type": "markdown",
   "metadata": {
    "papermill": {
     "duration": 0.060366,
     "end_time": "2020-12-23T12:18:36.528446",
     "exception": false,
     "start_time": "2020-12-23T12:18:36.468080",
     "status": "completed"
    },
    "tags": []
   },
   "source": [
    "# Univariate Data analysis\n",
    "\n",
    "Now we have see the general picture of our data. I say we can explore some of the columns deeper and visualize their distributions and check outliers and other characteristics. Let's begin!"
   ]
  },
  {
   "cell_type": "markdown",
   "metadata": {
    "papermill": {
     "duration": 0.061049,
     "end_time": "2020-12-23T12:18:36.649811",
     "exception": false,
     "start_time": "2020-12-23T12:18:36.588762",
     "status": "completed"
    },
    "tags": []
   },
   "source": [
    "**Hotel**\n",
    "\n",
    "From this column, we can see that more people(almost double) prefer to book a city hotel. This may be intuitive because a city hotel is usually cheaper than a resort hotel. "
   ]
  },
  {
   "cell_type": "code",
   "execution_count": 14,
   "metadata": {
    "execution": {
     "iopub.execute_input": "2020-12-23T12:18:36.781578Z",
     "iopub.status.busy": "2020-12-23T12:18:36.780856Z",
     "iopub.status.idle": "2020-12-23T12:18:37.077839Z",
     "shell.execute_reply": "2020-12-23T12:18:37.078650Z"
    },
    "papermill": {
     "duration": 0.367393,
     "end_time": "2020-12-23T12:18:37.078854",
     "exception": false,
     "start_time": "2020-12-23T12:18:36.711461",
     "status": "completed"
    },
    "tags": []
   },
   "outputs": [
    {
     "data": {
      "image/png": "[encoded data removed]",
      "text/plain": [
       "<Figure size 1080x720 with 1 Axes>"
      ]
     },
     "metadata": {
      "needs_background": "light"
     },
     "output_type": "display_data"
    },
    {
     "name": "stdout",
     "output_type": "stream",
     "text": [
      "Percentages: \n",
      "City Hotel      66.446101\n",
      "Resort Hotel    33.553899\n",
      "Name: hotel, dtype: float64\n"
     ]
    }
   ],
   "source": [
    "plt.figure(figsize=(15, 10))\n",
    "plt.title(\"Hotel Column\")\n",
    "sns.countplot(x=full_data['hotel'])\n",
    "plt.show()\n",
    "\n",
    "print(\"Percentages: \")\n",
    "print(full_data['hotel'].value_counts() / full_data.shape[0] * 100)"
   ]
  },
  {
   "cell_type": "markdown",
   "metadata": {
    "papermill": {
     "duration": 0.063098,
     "end_time": "2020-12-23T12:18:37.206269",
     "exception": false,
     "start_time": "2020-12-23T12:18:37.143171",
     "status": "completed"
    },
    "tags": []
   },
   "source": [
    "**is_canceled**\n",
    "\n",
    "From this column, we can see that more people(almost double) tend to not cancel their bookings. "
   ]
  },
  {
   "cell_type": "code",
   "execution_count": 15,
   "metadata": {
    "execution": {
     "iopub.execute_input": "2020-12-23T12:18:37.336495Z",
     "iopub.status.busy": "2020-12-23T12:18:37.335649Z",
     "iopub.status.idle": "2020-12-23T12:18:37.492471Z",
     "shell.execute_reply": "2020-12-23T12:18:37.493211Z"
    },
    "papermill": {
     "duration": 0.22459,
     "end_time": "2020-12-23T12:18:37.493392",
     "exception": false,
     "start_time": "2020-12-23T12:18:37.268802",
     "status": "completed"
    },
    "tags": []
   },
   "outputs": [
    {
     "data": {
      "image/png": "[encoded data removed]",
      "text/plain": [
       "<Figure size 1080x720 with 1 Axes>"
      ]
     },
     "metadata": {
      "needs_background": "light"
     },
     "output_type": "display_data"
    },
    {
     "name": "stdout",
     "output_type": "stream",
     "text": [
      "Percentages: \n",
      "0    62.958372\n",
      "1    37.041628\n",
      "Name: is_canceled, dtype: float64\n"
     ]
    }
   ],
   "source": [
    "plt.figure(figsize=(15, 10))\n",
    "plt.title(\"is_canceled Column\")\n",
    "sns.countplot(x=full_data['is_canceled'])\n",
    "plt.show()\n",
    "\n",
    "print(\"Percentages: \")\n",
    "print(full_data['is_canceled'].value_counts() / full_data.shape[0] * 100)"
   ]
  },
  {
   "cell_type": "markdown",
   "metadata": {
    "papermill": {
     "duration": 0.063437,
     "end_time": "2020-12-23T12:18:37.622504",
     "exception": false,
     "start_time": "2020-12-23T12:18:37.559067",
     "status": "completed"
    },
    "tags": []
   },
   "source": [
    "**lead_time**\n",
    "\n",
    "So here we see that this column is highly right-skewed. Most people only book the hotel a few days before they go, but there is people who book two years prior to their check in!"
   ]
  },
  {
   "cell_type": "code",
   "execution_count": 16,
   "metadata": {
    "execution": {
     "iopub.execute_input": "2020-12-23T12:18:37.759768Z",
     "iopub.status.busy": "2020-12-23T12:18:37.758964Z",
     "iopub.status.idle": "2020-12-23T12:18:38.049720Z",
     "shell.execute_reply": "2020-12-23T12:18:38.048979Z"
    },
    "papermill": {
     "duration": 0.363289,
     "end_time": "2020-12-23T12:18:38.049835",
     "exception": false,
     "start_time": "2020-12-23T12:18:37.686546",
     "status": "completed"
    },
    "tags": []
   },
   "outputs": [
    {
     "data": {
      "image/png": "[encoded data removed]",
      "text/plain": [
       "<Figure size 1080x720 with 1 Axes>"
      ]
     },
     "metadata": {
      "needs_background": "light"
     },
     "output_type": "display_data"
    }
   ],
   "source": [
    "plt.figure(figsize=(15, 10))\n",
    "plt.title(\"lead_time Column\")\n",
    "sns.distplot(a=full_data['lead_time'], kde=False, axlabel=\"Number of elapsed days\")\n",
    "plt.show()"
   ]
  },
  {
   "cell_type": "code",
   "execution_count": 17,
   "metadata": {
    "execution": {
     "iopub.execute_input": "2020-12-23T12:18:38.200967Z",
     "iopub.status.busy": "2020-12-23T12:18:38.198421Z",
     "iopub.status.idle": "2020-12-23T12:18:38.368532Z",
     "shell.execute_reply": "2020-12-23T12:18:38.369622Z"
    },
    "papermill": {
     "duration": 0.253167,
     "end_time": "2020-12-23T12:18:38.369857",
     "exception": false,
     "start_time": "2020-12-23T12:18:38.116690",
     "status": "completed"
    },
    "tags": []
   },
   "outputs": [
    {
     "data": {
      "image/png": "[encoded data removed]",
      "text/plain": [
       "<Figure size 1080x720 with 1 Axes>"
      ]
     },
     "metadata": {
      "needs_background": "light"
     },
     "output_type": "display_data"
    },
    {
     "name": "stdout",
     "output_type": "stream",
     "text": [
      "count    119390.000000\n",
      "mean        104.011416\n",
      "std         106.863097\n",
      "min           0.000000\n",
      "25%          18.000000\n",
      "50%          69.000000\n",
      "75%         160.000000\n",
      "max         737.000000\n",
      "Name: lead_time, dtype: float64\n"
     ]
    }
   ],
   "source": [
    "plt.figure(figsize=(15, 10))\n",
    "plt.title(\"lead_time Column\")\n",
    "sns.boxplot(x=full_data['lead_time'])\n",
    "plt.show()\n",
    "\n",
    "print(full_data['lead_time'].describe())"
   ]
  },
  {
   "cell_type": "markdown",
   "metadata": {
    "papermill": {
     "duration": 0.066056,
     "end_time": "2020-12-23T12:18:38.502908",
     "exception": false,
     "start_time": "2020-12-23T12:18:38.436852",
     "status": "completed"
    },
    "tags": []
   },
   "source": [
    "**Arrival Month**\n",
    "\n",
    "So from this column, we see that there is a slighly increase in arrivings during summer, which is also intuitive because most families can travel together during summer because kids are in vocation. "
   ]
  },
  {
   "cell_type": "code",
   "execution_count": 18,
   "metadata": {
    "execution": {
     "iopub.execute_input": "2020-12-23T12:18:38.664263Z",
     "iopub.status.busy": "2020-12-23T12:18:38.663468Z",
     "iopub.status.idle": "2020-12-23T12:18:38.877390Z",
     "shell.execute_reply": "2020-12-23T12:18:38.876716Z"
    },
    "papermill": {
     "duration": 0.307416,
     "end_time": "2020-12-23T12:18:38.877511",
     "exception": false,
     "start_time": "2020-12-23T12:18:38.570095",
     "status": "completed"
    },
    "tags": []
   },
   "outputs": [
    {
     "data": {
      "image/png": "[encoded data removed]",
      "text/plain": [
       "<Figure size 1080x720 with 1 Axes>"
      ]
     },
     "metadata": {
      "needs_background": "light"
     },
     "output_type": "display_data"
    },
    {
     "name": "stdout",
     "output_type": "stream",
     "text": [
      "Percentages: \n",
      "January       4.966078\n",
      "February      6.757685\n",
      "March         8.203367\n",
      "April         9.288048\n",
      "May           9.876037\n",
      "June          9.162409\n",
      "July         10.604741\n",
      "August       11.623252\n",
      "September     8.801407\n",
      "October       9.347517\n",
      "November      5.690594\n",
      "December      5.678868\n",
      "dtype: float64\n"
     ]
    }
   ],
   "source": [
    "ordered_months = [\"January\", \"February\", \"March\", \"April\", \"May\", \"June\", \n",
    "          \"July\", \"August\", \"September\", \"October\", \"November\", \"December\"]\n",
    "\n",
    "sorted_month = pd.Categorical(full_data[\"arrival_date_month\"], categories=ordered_months, ordered=True)\n",
    "\n",
    "plt.figure(figsize=(15, 10))\n",
    "plt.title(\"Arrival Month\")\n",
    "sns.countplot(x=sorted_month)\n",
    "plt.show()\n",
    "\n",
    "print(\"Percentages: \")\n",
    "print(sorted_month.value_counts() / full_data.shape[0] * 100)"
   ]
  },
  {
   "cell_type": "markdown",
   "metadata": {
    "papermill": {
     "duration": 0.067401,
     "end_time": "2020-12-23T12:18:39.012506",
     "exception": false,
     "start_time": "2020-12-23T12:18:38.945105",
     "status": "completed"
    },
    "tags": []
   },
   "source": [
    "**stays_in_weekend_nights**\n",
    "\n",
    "So most people actually don't stay overnight during weekends, but there are people who basically lived in the hotel for a few weeks."
   ]
  },
  {
   "cell_type": "code",
   "execution_count": 19,
   "metadata": {
    "execution": {
     "iopub.execute_input": "2020-12-23T12:18:39.156483Z",
     "iopub.status.busy": "2020-12-23T12:18:39.155779Z",
     "iopub.status.idle": "2020-12-23T12:18:39.395981Z",
     "shell.execute_reply": "2020-12-23T12:18:39.395371Z"
    },
    "papermill": {
     "duration": 0.315953,
     "end_time": "2020-12-23T12:18:39.396152",
     "exception": false,
     "start_time": "2020-12-23T12:18:39.080199",
     "status": "completed"
    },
    "tags": []
   },
   "outputs": [
    {
     "data": {
      "image/png": "[encoded data removed]",
      "text/plain": [
       "<Figure size 1080x720 with 1 Axes>"
      ]
     },
     "metadata": {
      "needs_background": "light"
     },
     "output_type": "display_data"
    },
    {
     "name": "stdout",
     "output_type": "stream",
     "text": [
      "Percentages: \n",
      "0     43.553061\n",
      "2     27.898484\n",
      "1     25.652065\n",
      "4      1.553731\n",
      "3      1.054527\n",
      "6      0.128151\n",
      "5      0.066170\n",
      "8      0.050255\n",
      "7      0.015914\n",
      "9      0.009214\n",
      "10     0.005863\n",
      "12     0.004188\n",
      "13     0.002513\n",
      "16     0.002513\n",
      "14     0.001675\n",
      "18     0.000838\n",
      "19     0.000838\n",
      "Name: stays_in_weekend_nights, dtype: float64\n"
     ]
    }
   ],
   "source": [
    "plt.figure(figsize=(15, 10))\n",
    "plt.title(\"Weekend Nights Column\")\n",
    "sns.countplot(x=full_data['stays_in_weekend_nights'])\n",
    "plt.show()\n",
    "\n",
    "print(\"Percentages: \")\n",
    "print(full_data['stays_in_weekend_nights'].value_counts() / full_data.shape[0] * 100)"
   ]
  },
  {
   "cell_type": "markdown",
   "metadata": {
    "papermill": {
     "duration": 0.068444,
     "end_time": "2020-12-23T12:18:39.533277",
     "exception": false,
     "start_time": "2020-12-23T12:18:39.464833",
     "status": "completed"
    },
    "tags": []
   },
   "source": [
    "**Number of adults**\n",
    "\n",
    "So most groups consist of two adults, which is normal. Those customers with 20 or 50 adults are likely to be tourist groups"
   ]
  },
  {
   "cell_type": "code",
   "execution_count": 20,
   "metadata": {
    "execution": {
     "iopub.execute_input": "2020-12-23T12:18:39.686288Z",
     "iopub.status.busy": "2020-12-23T12:18:39.685540Z",
     "iopub.status.idle": "2020-12-23T12:18:39.906451Z",
     "shell.execute_reply": "2020-12-23T12:18:39.905825Z"
    },
    "papermill": {
     "duration": 0.30449,
     "end_time": "2020-12-23T12:18:39.906566",
     "exception": false,
     "start_time": "2020-12-23T12:18:39.602076",
     "status": "completed"
    },
    "tags": []
   },
   "outputs": [
    {
     "data": {
      "image/png": "[encoded data removed]",
      "text/plain": [
       "<Figure size 1080x720 with 1 Axes>"
      ]
     },
     "metadata": {
      "needs_background": "light"
     },
     "output_type": "display_data"
    },
    {
     "name": "stdout",
     "output_type": "stream",
     "text": [
      "2     75.115169\n",
      "1     19.287210\n",
      "3      5.194740\n",
      "0      0.337549\n",
      "4      0.051931\n",
      "26     0.004188\n",
      "27     0.001675\n",
      "20     0.001675\n",
      "5      0.001675\n",
      "55     0.000838\n",
      "50     0.000838\n",
      "40     0.000838\n",
      "10     0.000838\n",
      "6      0.000838\n",
      "Name: adults, dtype: float64\n"
     ]
    }
   ],
   "source": [
    "plt.figure(figsize=(15, 10))\n",
    "plt.title(\"Adult Column\")\n",
    "sns.countplot(x=full_data['adults'])\n",
    "plt.show()\n",
    "\n",
    "print(full_data['adults'].value_counts() / full_data.shape[0] * 100)"
   ]
  },
  {
   "cell_type": "markdown",
   "metadata": {
    "papermill": {
     "duration": 0.070912,
     "end_time": "2020-12-23T12:18:40.048043",
     "exception": false,
     "start_time": "2020-12-23T12:18:39.977131",
     "status": "completed"
    },
    "tags": []
   },
   "source": [
    "**Number of Children**\n",
    "\n",
    "So most customers don't bring children to the hotel."
   ]
  },
  {
   "cell_type": "code",
   "execution_count": 21,
   "metadata": {
    "execution": {
     "iopub.execute_input": "2020-12-23T12:18:40.309892Z",
     "iopub.status.busy": "2020-12-23T12:18:40.309199Z",
     "iopub.status.idle": "2020-12-23T12:18:40.478606Z",
     "shell.execute_reply": "2020-12-23T12:18:40.477972Z"
    },
    "papermill": {
     "duration": 0.359874,
     "end_time": "2020-12-23T12:18:40.478733",
     "exception": false,
     "start_time": "2020-12-23T12:18:40.118859",
     "status": "completed"
    },
    "tags": []
   },
   "outputs": [
    {
     "data": {
      "image/png": "[encoded data removed]",
      "text/plain": [
       "<Figure size 1080x720 with 1 Axes>"
      ]
     },
     "metadata": {
      "needs_background": "light"
     },
     "output_type": "display_data"
    },
    {
     "name": "stdout",
     "output_type": "stream",
     "text": [
      "0.0     92.801742\n",
      "1.0      4.071530\n",
      "2.0      3.058883\n",
      "3.0      0.063657\n",
      "10.0     0.000838\n",
      "Name: children, dtype: float64\n"
     ]
    }
   ],
   "source": [
    "plt.figure(figsize=(15, 10))\n",
    "plt.title(\"Children Column\")\n",
    "sns.countplot(x=full_data['children'])\n",
    "plt.show()\n",
    "\n",
    "print(full_data['children'].value_counts() / full_data.shape[0] * 100)"
   ]
  },
  {
   "cell_type": "markdown",
   "metadata": {
    "papermill": {
     "duration": 0.071035,
     "end_time": "2020-12-23T12:18:40.622334",
     "exception": false,
     "start_time": "2020-12-23T12:18:40.551299",
     "status": "completed"
    },
    "tags": []
   },
   "source": [
    "**babies**\n",
    "\n",
    "Again, most customers don't bring babdies."
   ]
  },
  {
   "cell_type": "code",
   "execution_count": 22,
   "metadata": {
    "execution": {
     "iopub.execute_input": "2020-12-23T12:18:40.779673Z",
     "iopub.status.busy": "2020-12-23T12:18:40.778799Z",
     "iopub.status.idle": "2020-12-23T12:18:40.943351Z",
     "shell.execute_reply": "2020-12-23T12:18:40.942634Z"
    },
    "papermill": {
     "duration": 0.248025,
     "end_time": "2020-12-23T12:18:40.943477",
     "exception": false,
     "start_time": "2020-12-23T12:18:40.695452",
     "status": "completed"
    },
    "tags": []
   },
   "outputs": [
    {
     "data": {
      "image/png": "[encoded data removed]",
      "text/plain": [
       "<Figure size 1080x720 with 1 Axes>"
      ]
     },
     "metadata": {
      "needs_background": "light"
     },
     "output_type": "display_data"
    },
    {
     "name": "stdout",
     "output_type": "stream",
     "text": [
      "0     99.231929\n",
      "1      0.753832\n",
      "2      0.012564\n",
      "10     0.000838\n",
      "9      0.000838\n",
      "Name: babies, dtype: float64\n"
     ]
    }
   ],
   "source": [
    "plt.figure(figsize=(15, 10))\n",
    "plt.title(\"Baby Column\")\n",
    "sns.countplot(x=full_data['babies'])\n",
    "plt.show()\n",
    "\n",
    "print(full_data['babies'].value_counts() / full_data.shape[0] * 100)"
   ]
  },
  {
   "cell_type": "markdown",
   "metadata": {
    "papermill": {
     "duration": 0.072278,
     "end_time": "2020-12-23T12:18:41.138509",
     "exception": false,
     "start_time": "2020-12-23T12:18:41.066231",
     "status": "completed"
    },
    "tags": []
   },
   "source": [
    "**Country**"
   ]
  },
  {
   "cell_type": "code",
   "execution_count": 23,
   "metadata": {
    "execution": {
     "iopub.execute_input": "2020-12-23T12:18:41.297229Z",
     "iopub.status.busy": "2020-12-23T12:18:41.296457Z",
     "iopub.status.idle": "2020-12-23T12:18:42.578120Z",
     "shell.execute_reply": "2020-12-23T12:18:42.578628Z"
    },
    "papermill": {
     "duration": 1.364802,
     "end_time": "2020-12-23T12:18:42.578768",
     "exception": false,
     "start_time": "2020-12-23T12:18:41.213966",
     "status": "completed"
    },
    "tags": []
   },
   "outputs": [
    {
     "data": {
      "text/html": [
       "        <script type=\"text/javascript\">\n",
       "        window.PlotlyConfig = {MathJaxConfig: 'local'};\n",
       "        if (window.MathJax) {MathJax.Hub.Config({SVG: {font: \"STIX-Web\"}});}\n",
       "        if (typeof require !== 'undefined') {\n",
       "        require.undef(\"plotly\");\n",
       "        requirejs.config({\n",
       "            paths: {\n",
       "                'plotly': ['https://cdn.plot.ly/plotly-latest.min']\n",
       "            }\n",
       "        });\n",
       "        require(['plotly'], function(Plotly) {\n",
       "            window._Plotly = Plotly;\n",
       "        });\n",
       "        }\n",
       "        </script>\n",
       "        "
      ]
     },
     "metadata": {},
     "output_type": "display_data"
    },
    {
     "data": {
      "text/html": [
       "<div>                            <div id=\"9bb77739-fd1d-43ae-a93a-3d893bf2c099\" class=\"plotly-graph-div\" style=\"height:525px; width:100%;\"></div>            <script type=\"text/javascript\">                require([\"plotly\"], function(Plotly) {                    window.PLOTLYENV=window.PLOTLYENV || {};                                    if (document.getElementById(\"9bb77739-fd1d-43ae-a93a-3d893bf2c099\")) {                    Plotly.newPlot(                        \"9bb77739-fd1d-43ae-a93a-3d893bf2c099\",                        [{\"coloraxis\": \"coloraxis\", \"geo\": \"geo\", \"hovertemplate\": \"<b>%{hovertext}</b><br><br>index=%{location}<br>Guests in %=%{z}<extra></extra>\", \"hovertext\": [\"PRT\", \"GBR\", \"FRA\", \"ESP\", \"DEU\", \"IRL\", \"ITA\", \"BEL\", \"NLD\", \"USA\", \"BRA\", \"CHE\", \"AUT\", \"CN\", \"SWE\", \"POL\", \"CHN\", \"ISR\", \"NOR\", \"RUS\", \"FIN\", \"ROU\", \"DNK\", \"AUS\", \"LUX\", \"JPN\", \"ARG\", \"AGO\", \"HUN\", \"MAR\", \"TUR\", \"CZE\", \"IND\", \"SRB\", \"GRC\", \"DZA\", \"KOR\", \"MEX\", \"HRV\", \"LTU\", \"NZL\", \"EST\", \"BGR\", \"IRN\", \"ISL\", \"ZAF\", \"CHL\", \"MOZ\", \"UKR\", \"COL\", \"LVA\", \"SVN\", \"SVK\", \"THA\", \"CYP\", \"TWN\", \"MYS\", \"PER\", \"URY\", \"SGP\", \"LBN\", \"EGY\", \"TUN\", \"ECU\", \"JOR\", \"CRI\", \"BLR\", \"SAU\", \"PHL\", \"OMN\", \"VEN\", \"KAZ\", \"IRQ\", \"NGA\", \"MLT\", \"CPV\", \"IDN\", \"PRI\", \"KWT\", \"CMR\", \"BIH\", \"ALB\", \"BOL\", \"PAN\", \"AZE\", \"ARE\", \"GNB\", \"LBY\", \"CUB\", \"MKD\", \"GEO\", \"GIB\", \"LKA\", \"DOM\", \"JAM\", \"VNM\", \"ARM\", \"MUS\", \"CAF\", \"SUR\", \"PAK\", \"CIV\", \"GTM\", \"QAT\", \"BRB\", \"KEN\", \"PRY\", \"MCO\", \"SEN\", \"MNE\", \"MDV\", \"HKG\", \"SYR\", \"BGD\", \"ZWE\", \"ETH\", \"TZA\", \"COM\", \"UGA\", \"RWA\", \"KNA\", \"AND\", \"TGO\", \"LAO\", \"LIE\", \"UZB\", \"STP\", \"GHA\", \"TMP\", \"MWI\", \"ABW\", \"GAB\", \"ATA\", \"SLV\", \"AIA\", \"CYM\", \"MDG\", \"BFA\", \"BWA\", \"BHR\", \"BHS\", \"PLW\", \"MAC\", \"GUY\", \"MMR\", \"FRO\", \"DMA\", \"NCL\", \"LCA\", \"SDN\", \"SYC\", \"NAM\", \"ZMB\", \"DJI\", \"BDI\", \"TJK\", \"MRT\", \"SMR\", \"NPL\", \"PYF\", \"MLI\", \"ATF\", \"ASM\", \"KIR\", \"SLE\"], \"locations\": [\"PRT\", \"GBR\", \"FRA\", \"ESP\", \"DEU\", \"IRL\", \"ITA\", \"BEL\", \"NLD\", \"USA\", \"BRA\", \"CHE\", \"AUT\", \"CN\", \"SWE\", \"POL\", \"CHN\", \"ISR\", \"NOR\", \"RUS\", \"FIN\", \"ROU\", \"DNK\", \"AUS\", \"LUX\", \"JPN\", \"ARG\", \"AGO\", \"HUN\", \"MAR\", \"TUR\", \"CZE\", \"IND\", \"SRB\", \"GRC\", \"DZA\", \"KOR\", \"MEX\", \"HRV\", \"LTU\", \"NZL\", \"EST\", \"BGR\", \"IRN\", \"ISL\", \"ZAF\", \"CHL\", \"MOZ\", \"UKR\", \"COL\", \"LVA\", \"SVN\", \"SVK\", \"THA\", \"CYP\", \"TWN\", \"MYS\", \"PER\", \"URY\", \"SGP\", \"LBN\", \"EGY\", \"TUN\", \"ECU\", \"JOR\", \"CRI\", \"BLR\", \"SAU\", \"PHL\", \"OMN\", \"VEN\", \"KAZ\", \"IRQ\", \"NGA\", \"MLT\", \"CPV\", \"IDN\", \"PRI\", \"KWT\", \"CMR\", \"BIH\", \"ALB\", \"BOL\", \"PAN\", \"AZE\", \"ARE\", \"GNB\", \"LBY\", \"CUB\", \"MKD\", \"GEO\", \"GIB\", \"LKA\", \"DOM\", \"JAM\", \"VNM\", \"ARM\", \"MUS\", \"CAF\", \"SUR\", \"PAK\", \"CIV\", \"GTM\", \"QAT\", \"BRB\", \"KEN\", \"PRY\", \"MCO\", \"SEN\", \"MNE\", \"MDV\", \"HKG\", \"SYR\", \"BGD\", \"ZWE\", \"ETH\", \"TZA\", \"COM\", \"UGA\", \"RWA\", \"KNA\", \"AND\", \"TGO\", \"LAO\", \"LIE\", \"UZB\", \"STP\", \"GHA\", \"TMP\", \"MWI\", \"ABW\", \"GAB\", \"ATA\", \"SLV\", \"AIA\", \"CYM\", \"MDG\", \"BFA\", \"BWA\", \"BHR\", \"BHS\", \"PLW\", \"MAC\", \"GUY\", \"MMR\", \"FRO\", \"DMA\", \"NCL\", \"LCA\", \"SDN\", \"SYC\", \"NAM\", \"ZMB\", \"DJI\", \"BDI\", \"TJK\", \"MRT\", \"SMR\", \"NPL\", \"PYF\", \"MLI\", \"ATF\", \"ASM\", \"KIR\", \"SLE\"], \"name\": \"\", \"type\": \"choropleth\", \"z\": [28.19, 12.95, 11.35, 8.55, 8.12, 3.4, 3.26, 2.5, 2.3, 2.14, 1.87, 1.74, 1.38, 1.37, 1.07, 0.94, 0.72, 0.67, 0.57, 0.53, 0.51, 0.49, 0.44, 0.43, 0.24, 0.23, 0.21, 0.21, 0.2, 0.2, 0.2, 0.18, 0.16, 0.13, 0.12, 0.11, 0.1, 0.1, 0.1, 0.1, 0.09, 0.09, 0.08, 0.08, 0.07, 0.07, 0.07, 0.06, 0.06, 0.06, 0.06, 0.06, 0.05, 0.05, 0.05, 0.05, 0.03, 0.03, 0.03, 0.03, 0.03, 0.03, 0.03, 0.03, 0.02, 0.02, 0.02, 0.02, 0.02, 0.02, 0.02, 0.02, 0.02, 0.02, 0.02, 0.02, 0.01, 0.01, 0.01, 0.01, 0.01, 0.01, 0.01, 0.01, 0.01, 0.01, 0.01, 0.01, 0.01, 0.01, 0.01, 0.01, 0.01, 0.01, 0.01, 0.01, 0.01, 0.01, 0.01, 0.01, 0.01, 0.01, 0.01, 0.01, 0.01, 0.01, 0.01, 0.0, 0.0, 0.0, 0.0, 0.0, 0.0, 0.0, 0.0, 0.0, 0.0, 0.0, 0.0, 0.0, 0.0, 0.0, 0.0, 0.0, 0.0, 0.0, 0.0, 0.0, 0.0, 0.0, 0.0, 0.0, 0.0, 0.0, 0.0, 0.0, 0.0, 0.0, 0.0, 0.0, 0.0, 0.0, 0.0, 0.0, 0.0, 0.0, 0.0, 0.0, 0.0, 0.0, 0.0, 0.0, 0.0, 0.0, 0.0, 0.0, 0.0, 0.0, 0.0, 0.0, 0.0, 0.0, 0.0, 0.0, 0.0]}],                        {\"coloraxis\": {\"colorbar\": {\"title\": {\"text\": \"Guests in %\"}}, \"colorscale\": [[0.0, \"#0d0887\"], [0.1111111111111111, \"#46039f\"], [0.2222222222222222, \"#7201a8\"], [0.3333333333333333, \"#9c179e\"], [0.4444444444444444, \"#bd3786\"], [0.5555555555555556, \"#d8576b\"], [0.6666666666666666, \"#ed7953\"], [0.7777777777777778, \"#fb9f3a\"], [0.8888888888888888, \"#fdca26\"], [1.0, \"#f0f921\"]]}, \"geo\": {\"center\": {}, \"domain\": {\"x\": [0.0, 1.0], \"y\": [0.0, 1.0]}}, \"legend\": {\"tracegroupgap\": 0}, \"template\": {\"data\": {\"bar\": [{\"error_x\": {\"color\": \"#2a3f5f\"}, \"error_y\": {\"color\": \"#2a3f5f\"}, \"marker\": {\"line\": {\"color\": \"#E5ECF6\", \"width\": 0.5}}, \"type\": \"bar\"}], \"barpolar\": [{\"marker\": {\"line\": {\"color\": \"#E5ECF6\", \"width\": 0.5}}, \"type\": \"barpolar\"}], \"carpet\": [{\"aaxis\": {\"endlinecolor\": \"#2a3f5f\", \"gridcolor\": \"white\", \"linecolor\": \"white\", \"minorgridcolor\": \"white\", \"startlinecolor\": \"#2a3f5f\"}, \"baxis\": {\"endlinecolor\": \"#2a3f5f\", \"gridcolor\": \"white\", \"linecolor\": \"white\", \"minorgridcolor\": \"white\", \"startlinecolor\": \"#2a3f5f\"}, \"type\": \"carpet\"}], \"choropleth\": [{\"colorbar\": {\"outlinewidth\": 0, \"ticks\": \"\"}, \"type\": \"choropleth\"}], \"contour\": [{\"colorbar\": {\"outlinewidth\": 0, \"ticks\": \"\"}, \"colorscale\": [[0.0, \"#0d0887\"], [0.1111111111111111, \"#46039f\"], [0.2222222222222222, \"#7201a8\"], [0.3333333333333333, \"#9c179e\"], [0.4444444444444444, \"#bd3786\"], [0.5555555555555556, \"#d8576b\"], [0.6666666666666666, \"#ed7953\"], [0.7777777777777778, \"#fb9f3a\"], [0.8888888888888888, \"#fdca26\"], [1.0, \"#f0f921\"]], \"type\": \"contour\"}], \"contourcarpet\": [{\"colorbar\": {\"outlinewidth\": 0, \"ticks\": \"\"}, \"type\": \"contourcarpet\"}], \"heatmap\": [{\"colorbar\": {\"outlinewidth\": 0, \"ticks\": \"\"}, \"colorscale\": [[0.0, \"#0d0887\"], [0.1111111111111111, \"#46039f\"], [0.2222222222222222, \"#7201a8\"], [0.3333333333333333, \"#9c179e\"], [0.4444444444444444, \"#bd3786\"], [0.5555555555555556, \"#d8576b\"], [0.6666666666666666, \"#ed7953\"], [0.7777777777777778, \"#fb9f3a\"], [0.8888888888888888, \"#fdca26\"], [1.0, \"#f0f921\"]], \"type\": \"heatmap\"}], \"heatmapgl\": [{\"colorbar\": {\"outlinewidth\": 0, \"ticks\": \"\"}, \"colorscale\": [[0.0, \"#0d0887\"], [0.1111111111111111, \"#46039f\"], [0.2222222222222222, \"#7201a8\"], [0.3333333333333333, \"#9c179e\"], [0.4444444444444444, \"#bd3786\"], [0.5555555555555556, \"#d8576b\"], [0.6666666666666666, \"#ed7953\"], [0.7777777777777778, \"#fb9f3a\"], [0.8888888888888888, \"#fdca26\"], [1.0, \"#f0f921\"]], \"type\": \"heatmapgl\"}], \"histogram\": [{\"marker\": {\"colorbar\": {\"outlinewidth\": 0, \"ticks\": \"\"}}, \"type\": \"histogram\"}], \"histogram2d\": [{\"colorbar\": {\"outlinewidth\": 0, \"ticks\": \"\"}, \"colorscale\": [[0.0, \"#0d0887\"], [0.1111111111111111, \"#46039f\"], [0.2222222222222222, \"#7201a8\"], [0.3333333333333333, \"#9c179e\"], [0.4444444444444444, \"#bd3786\"], [0.5555555555555556, \"#d8576b\"], [0.6666666666666666, \"#ed7953\"], [0.7777777777777778, \"#fb9f3a\"], [0.8888888888888888, \"#fdca26\"], [1.0, \"#f0f921\"]], \"type\": \"histogram2d\"}], \"histogram2dcontour\": [{\"colorbar\": {\"outlinewidth\": 0, \"ticks\": \"\"}, \"colorscale\": [[0.0, \"#0d0887\"], [0.1111111111111111, \"#46039f\"], [0.2222222222222222, \"#7201a8\"], [0.3333333333333333, \"#9c179e\"], [0.4444444444444444, \"#bd3786\"], [0.5555555555555556, \"#d8576b\"], [0.6666666666666666, \"#ed7953\"], [0.7777777777777778, \"#fb9f3a\"], [0.8888888888888888, \"#fdca26\"], [1.0, \"#f0f921\"]], \"type\": \"histogram2dcontour\"}], \"mesh3d\": [{\"colorbar\": {\"outlinewidth\": 0, \"ticks\": \"\"}, \"type\": \"mesh3d\"}], \"parcoords\": [{\"line\": {\"colorbar\": {\"outlinewidth\": 0, \"ticks\": \"\"}}, \"type\": \"parcoords\"}], \"pie\": [{\"automargin\": true, \"type\": \"pie\"}], \"scatter\": [{\"marker\": {\"colorbar\": {\"outlinewidth\": 0, \"ticks\": \"\"}}, \"type\": \"scatter\"}], \"scatter3d\": [{\"line\": {\"colorbar\": {\"outlinewidth\": 0, \"ticks\": \"\"}}, \"marker\": {\"colorbar\": {\"outlinewidth\": 0, \"ticks\": \"\"}}, \"type\": \"scatter3d\"}], \"scattercarpet\": [{\"marker\": {\"colorbar\": {\"outlinewidth\": 0, \"ticks\": \"\"}}, \"type\": \"scattercarpet\"}], \"scattergeo\": [{\"marker\": {\"colorbar\": {\"outlinewidth\": 0, \"ticks\": \"\"}}, \"type\": \"scattergeo\"}], \"scattergl\": [{\"marker\": {\"colorbar\": {\"outlinewidth\": 0, \"ticks\": \"\"}}, \"type\": \"scattergl\"}], \"scattermapbox\": [{\"marker\": {\"colorbar\": {\"outlinewidth\": 0, \"ticks\": \"\"}}, \"type\": \"scattermapbox\"}], \"scatterpolar\": [{\"marker\": {\"colorbar\": {\"outlinewidth\": 0, \"ticks\": \"\"}}, \"type\": \"scatterpolar\"}], \"scatterpolargl\": [{\"marker\": {\"colorbar\": {\"outlinewidth\": 0, \"ticks\": \"\"}}, \"type\": \"scatterpolargl\"}], \"scatterternary\": [{\"marker\": {\"colorbar\": {\"outlinewidth\": 0, \"ticks\": \"\"}}, \"type\": \"scatterternary\"}], \"surface\": [{\"colorbar\": {\"outlinewidth\": 0, \"ticks\": \"\"}, \"colorscale\": [[0.0, \"#0d0887\"], [0.1111111111111111, \"#46039f\"], [0.2222222222222222, \"#7201a8\"], [0.3333333333333333, \"#9c179e\"], [0.4444444444444444, \"#bd3786\"], [0.5555555555555556, \"#d8576b\"], [0.6666666666666666, \"#ed7953\"], [0.7777777777777778, \"#fb9f3a\"], [0.8888888888888888, \"#fdca26\"], [1.0, \"#f0f921\"]], \"type\": \"surface\"}], \"table\": [{\"cells\": {\"fill\": {\"color\": \"#EBF0F8\"}, \"line\": {\"color\": \"white\"}}, \"header\": {\"fill\": {\"color\": \"#C8D4E3\"}, \"line\": {\"color\": \"white\"}}, \"type\": \"table\"}]}, \"layout\": {\"annotationdefaults\": {\"arrowcolor\": \"#2a3f5f\", \"arrowhead\": 0, \"arrowwidth\": 1}, \"coloraxis\": {\"colorbar\": {\"outlinewidth\": 0, \"ticks\": \"\"}}, \"colorscale\": {\"diverging\": [[0, \"#8e0152\"], [0.1, \"#c51b7d\"], [0.2, \"#de77ae\"], [0.3, \"#f1b6da\"], [0.4, \"#fde0ef\"], [0.5, \"#f7f7f7\"], [0.6, \"#e6f5d0\"], [0.7, \"#b8e186\"], [0.8, \"#7fbc41\"], [0.9, \"#4d9221\"], [1, \"#276419\"]], \"sequential\": [[0.0, \"#0d0887\"], [0.1111111111111111, \"#46039f\"], [0.2222222222222222, \"#7201a8\"], [0.3333333333333333, \"#9c179e\"], [0.4444444444444444, \"#bd3786\"], [0.5555555555555556, \"#d8576b\"], [0.6666666666666666, \"#ed7953\"], [0.7777777777777778, \"#fb9f3a\"], [0.8888888888888888, \"#fdca26\"], [1.0, \"#f0f921\"]], \"sequentialminus\": [[0.0, \"#0d0887\"], [0.1111111111111111, \"#46039f\"], [0.2222222222222222, \"#7201a8\"], [0.3333333333333333, \"#9c179e\"], [0.4444444444444444, \"#bd3786\"], [0.5555555555555556, \"#d8576b\"], [0.6666666666666666, \"#ed7953\"], [0.7777777777777778, \"#fb9f3a\"], [0.8888888888888888, \"#fdca26\"], [1.0, \"#f0f921\"]]}, \"colorway\": [\"#636efa\", \"#EF553B\", \"#00cc96\", \"#ab63fa\", \"#FFA15A\", \"#19d3f3\", \"#FF6692\", \"#B6E880\", \"#FF97FF\", \"#FECB52\"], \"font\": {\"color\": \"#2a3f5f\"}, \"geo\": {\"bgcolor\": \"white\", \"lakecolor\": \"white\", \"landcolor\": \"#E5ECF6\", \"showlakes\": true, \"showland\": true, \"subunitcolor\": \"white\"}, \"hoverlabel\": {\"align\": \"left\"}, \"hovermode\": \"closest\", \"mapbox\": {\"style\": \"light\"}, \"paper_bgcolor\": \"white\", \"plot_bgcolor\": \"#E5ECF6\", \"polar\": {\"angularaxis\": {\"gridcolor\": \"white\", \"linecolor\": \"white\", \"ticks\": \"\"}, \"bgcolor\": \"#E5ECF6\", \"radialaxis\": {\"gridcolor\": \"white\", \"linecolor\": \"white\", \"ticks\": \"\"}}, \"scene\": {\"xaxis\": {\"backgroundcolor\": \"#E5ECF6\", \"gridcolor\": \"white\", \"gridwidth\": 2, \"linecolor\": \"white\", \"showbackground\": true, \"ticks\": \"\", \"zerolinecolor\": \"white\"}, \"yaxis\": {\"backgroundcolor\": \"#E5ECF6\", \"gridcolor\": \"white\", \"gridwidth\": 2, \"linecolor\": \"white\", \"showbackground\": true, \"ticks\": \"\", \"zerolinecolor\": \"white\"}, \"zaxis\": {\"backgroundcolor\": \"#E5ECF6\", \"gridcolor\": \"white\", \"gridwidth\": 2, \"linecolor\": \"white\", \"showbackground\": true, \"ticks\": \"\", \"zerolinecolor\": \"white\"}}, \"shapedefaults\": {\"line\": {\"color\": \"#2a3f5f\"}}, \"ternary\": {\"aaxis\": {\"gridcolor\": \"white\", \"linecolor\": \"white\", \"ticks\": \"\"}, \"baxis\": {\"gridcolor\": \"white\", \"linecolor\": \"white\", \"ticks\": \"\"}, \"bgcolor\": \"#E5ECF6\", \"caxis\": {\"gridcolor\": \"white\", \"linecolor\": \"white\", \"ticks\": \"\"}}, \"title\": {\"x\": 0.05}, \"xaxis\": {\"automargin\": true, \"gridcolor\": \"white\", \"linecolor\": \"white\", \"ticks\": \"\", \"title\": {\"standoff\": 15}, \"zerolinecolor\": \"white\", \"zerolinewidth\": 2}, \"yaxis\": {\"automargin\": true, \"gridcolor\": \"white\", \"linecolor\": \"white\", \"ticks\": \"\", \"title\": {\"standoff\": 15}, \"zerolinecolor\": \"white\", \"zerolinewidth\": 2}}}, \"title\": {\"text\": \"Home country of guests\"}},                        {\"responsive\": true}                    ).then(function(){\n",
       "                            \n",
       "var gd = document.getElementById('9bb77739-fd1d-43ae-a93a-3d893bf2c099');\n",
       "var x = new MutationObserver(function (mutations, observer) {{\n",
       "        var display = window.getComputedStyle(gd).display;\n",
       "        if (!display || display === 'none') {{\n",
       "            console.log([gd, 'removed!']);\n",
       "            Plotly.purge(gd);\n",
       "            observer.disconnect();\n",
       "        }}\n",
       "}});\n",
       "\n",
       "// Listen for the removal of the full notebook cells\n",
       "var notebookContainer = gd.closest('#notebook-container');\n",
       "if (notebookContainer) {{\n",
       "    x.observe(notebookContainer, {childList: true});\n",
       "}}\n",
       "\n",
       "// Listen for the clearing of the current output cell\n",
       "var outputEl = gd.closest('.output');\n",
       "if (outputEl) {{\n",
       "    x.observe(outputEl, {childList: true});\n",
       "}}\n",
       "\n",
       "                        })                };                });            </script>        </div>"
      ]
     },
     "metadata": {},
     "output_type": "display_data"
    }
   ],
   "source": [
    "country_data = pd.DataFrame(full_data.loc[full_data[\"is_canceled\"] == 0][\"country\"].value_counts())\n",
    "country_data.rename(columns={\"country\": \"Number of Guests\"}, inplace=True)\n",
    "total_guests = country_data[\"Number of Guests\"].sum()\n",
    "country_data[\"Guests in %\"] = round(country_data[\"Number of Guests\"] / total_guests * 100, 2)\n",
    "country_data[\"country\"] = country_data.index\n",
    "\n",
    "guest_map = px.choropleth(country_data,\n",
    "                    locations=country_data.index,\n",
    "                    color=country_data[\"Guests in %\"], \n",
    "                    hover_name=country_data.index, \n",
    "                    color_continuous_scale=px.colors.sequential.Plasma,\n",
    "                    title=\"Home country of guests\")\n",
    "guest_map.show()"
   ]
  },
  {
   "cell_type": "markdown",
   "metadata": {
    "papermill": {
     "duration": 0.075897,
     "end_time": "2020-12-23T12:18:42.730477",
     "exception": false,
     "start_time": "2020-12-23T12:18:42.654580",
     "status": "completed"
    },
    "tags": []
   },
   "source": [
    "OK, so I just visualized some columns that I am interested in. This type of analysis did tell us some basic information about the customers such as what type of hotel they book, where they come from, and usually how many people travel together. These are all useful information, but this sort of analysis is too vague and waste of time. I would say let's now define our question and then see what we can do."
   ]
  },
  {
   "cell_type": "markdown",
   "metadata": {
    "papermill": {
     "duration": 0.075576,
     "end_time": "2020-12-23T12:18:42.883190",
     "exception": false,
     "start_time": "2020-12-23T12:18:42.807614",
     "status": "completed"
    },
    "tags": []
   },
   "source": [
    "# Define Question\n",
    "\n",
    "If I am a hotel manager, I will be very interested in knowing if a customer will cancel his hotel reservation, because that deeply correlates with the revenues our hotel can earn. Therefore, let's try to build a model to predict if someone will cancel his hotel reservation from other parameters."
   ]
  },
  {
   "cell_type": "markdown",
   "metadata": {
    "papermill": {
     "duration": 0.074177,
     "end_time": "2020-12-23T12:18:43.031685",
     "exception": false,
     "start_time": "2020-12-23T12:18:42.957508",
     "status": "completed"
    },
    "tags": []
   },
   "source": [
    "**Cancellation Correlations**\n",
    "\n",
    "Now we have defined the problem, let's first see what columns are highly associated with the is_cancelled column"
   ]
  },
  {
   "cell_type": "code",
   "execution_count": 24,
   "metadata": {
    "execution": {
     "iopub.execute_input": "2020-12-23T12:18:43.186776Z",
     "iopub.status.busy": "2020-12-23T12:18:43.185698Z",
     "iopub.status.idle": "2020-12-23T12:18:43.310791Z",
     "shell.execute_reply": "2020-12-23T12:18:43.310236Z"
    },
    "papermill": {
     "duration": 0.20403,
     "end_time": "2020-12-23T12:18:43.310906",
     "exception": false,
     "start_time": "2020-12-23T12:18:43.106876",
     "status": "completed"
    },
    "tags": []
   },
   "outputs": [
    {
     "data": {
      "text/plain": [
       "lead_time                         0.293123\n",
       "total_of_special_requests         0.234658\n",
       "required_car_parking_spaces       0.195498\n",
       "booking_changes                   0.144381\n",
       "previous_cancellations            0.110133\n",
       "is_repeated_guest                 0.084793\n",
       "agent                             0.083114\n",
       "adults                            0.060017\n",
       "previous_bookings_not_canceled    0.057358\n",
       "days_in_waiting_list              0.054186\n",
       "adr                               0.047557\n",
       "babies                            0.032491\n",
       "stays_in_week_nights              0.024765\n",
       "arrival_date_year                 0.016660\n",
       "arrival_date_week_number          0.008148\n",
       "arrival_date_day_of_month         0.006130\n",
       "children                          0.005048\n",
       "stays_in_weekend_nights           0.001791\n",
       "Name: is_canceled, dtype: float64"
      ]
     },
     "execution_count": 24,
     "metadata": {},
     "output_type": "execute_result"
    }
   ],
   "source": [
    "cancel_corr = full_data.corr()[\"is_canceled\"]\n",
    "cancel_corr.abs().sort_values(ascending=False)[1:]"
   ]
  },
  {
   "cell_type": "markdown",
   "metadata": {
    "papermill": {
     "duration": 0.076715,
     "end_time": "2020-12-23T12:18:43.464225",
     "exception": false,
     "start_time": "2020-12-23T12:18:43.387510",
     "status": "completed"
    },
    "tags": []
   },
   "source": [
    "It is thus shown that lead_time, total_of_special_requests, required_car_parking_spaces, booking_changes and previous_cancellations are the 5 most correlated numerical variables with is_cancelled column. But to prevent possible data leakage, we should exclude booking_changes, which may include the cancellation of hotel reservation. Furthermore, reservation_status also include whether a customer cancels the booking or not. So it must also be excluded to prevent data leakage. "
   ]
  },
  {
   "cell_type": "markdown",
   "metadata": {
    "papermill": {
     "duration": 0.075824,
     "end_time": "2020-12-23T12:18:43.616234",
     "exception": false,
     "start_time": "2020-12-23T12:18:43.540410",
     "status": "completed"
    },
    "tags": []
   },
   "source": [
    "Now let's look at the categorical features."
   ]
  },
  {
   "cell_type": "markdown",
   "metadata": {
    "papermill": {
     "duration": 0.075411,
     "end_time": "2020-12-23T12:18:43.766513",
     "exception": false,
     "start_time": "2020-12-23T12:18:43.691102",
     "status": "completed"
    },
    "tags": []
   },
   "source": [
    "**Hotel**"
   ]
  },
  {
   "cell_type": "code",
   "execution_count": 25,
   "metadata": {
    "execution": {
     "iopub.execute_input": "2020-12-23T12:18:43.935220Z",
     "iopub.status.busy": "2020-12-23T12:18:43.934145Z",
     "iopub.status.idle": "2020-12-23T12:18:45.051068Z",
     "shell.execute_reply": "2020-12-23T12:18:45.051582Z"
    },
    "papermill": {
     "duration": 1.208906,
     "end_time": "2020-12-23T12:18:45.051737",
     "exception": false,
     "start_time": "2020-12-23T12:18:43.842831",
     "status": "completed"
    },
    "tags": []
   },
   "outputs": [
    {
     "data": {
      "image/png": "[encoded data removed]",
      "text/plain": [
       "<Figure size 1080x720 with 1 Axes>"
      ]
     },
     "metadata": {
      "needs_background": "light"
     },
     "output_type": "display_data"
    }
   ],
   "source": [
    "plt.figure(figsize=(15, 10))\n",
    "plt.title(\"Hotel Column\")\n",
    "sns.barplot(x=full_data['hotel'], y=full_data['is_canceled'])\n",
    "plt.show()"
   ]
  },
  {
   "cell_type": "markdown",
   "metadata": {
    "papermill": {
     "duration": 0.076842,
     "end_time": "2020-12-23T12:18:45.204447",
     "exception": false,
     "start_time": "2020-12-23T12:18:45.127605",
     "status": "completed"
    },
    "tags": []
   },
   "source": [
    "The type of hotel seems to affect if a customer will cancel the reservation."
   ]
  },
  {
   "cell_type": "markdown",
   "metadata": {
    "papermill": {
     "duration": 0.07792,
     "end_time": "2020-12-23T12:18:45.360036",
     "exception": false,
     "start_time": "2020-12-23T12:18:45.282116",
     "status": "completed"
    },
    "tags": []
   },
   "source": [
    "**Meal**"
   ]
  },
  {
   "cell_type": "code",
   "execution_count": 26,
   "metadata": {
    "execution": {
     "iopub.execute_input": "2020-12-23T12:18:45.529413Z",
     "iopub.status.busy": "2020-12-23T12:18:45.528311Z",
     "iopub.status.idle": "2020-12-23T12:18:46.730372Z",
     "shell.execute_reply": "2020-12-23T12:18:46.730857Z"
    },
    "papermill": {
     "duration": 1.282723,
     "end_time": "2020-12-23T12:18:46.731049",
     "exception": false,
     "start_time": "2020-12-23T12:18:45.448326",
     "status": "completed"
    },
    "tags": []
   },
   "outputs": [
    {
     "data": {
      "image/png": "[encoded data removed]",
      "text/plain": [
       "<Figure size 1080x720 with 1 Axes>"
      ]
     },
     "metadata": {
      "needs_background": "light"
     },
     "output_type": "display_data"
    }
   ],
   "source": [
    "plt.figure(figsize=(15, 10))\n",
    "plt.title(\"Meal Column\")\n",
    "sns.barplot(x=full_data['meal'], y=full_data['is_canceled'])\n",
    "plt.show()"
   ]
  },
  {
   "cell_type": "markdown",
   "metadata": {
    "papermill": {
     "duration": 0.077977,
     "end_time": "2020-12-23T12:18:46.886904",
     "exception": false,
     "start_time": "2020-12-23T12:18:46.808927",
     "status": "completed"
    },
    "tags": []
   },
   "source": [
    "Meal also seems to affect cancelation chance. Specifically, customers who ordered full board are more likely to cancel reservations."
   ]
  },
  {
   "cell_type": "markdown",
   "metadata": {
    "papermill": {
     "duration": 0.076245,
     "end_time": "2020-12-23T12:18:47.041458",
     "exception": false,
     "start_time": "2020-12-23T12:18:46.965213",
     "status": "completed"
    },
    "tags": []
   },
   "source": [
    "**Market Segment**"
   ]
  },
  {
   "cell_type": "code",
   "execution_count": 27,
   "metadata": {
    "execution": {
     "iopub.execute_input": "2020-12-23T12:18:47.208093Z",
     "iopub.status.busy": "2020-12-23T12:18:47.207247Z",
     "iopub.status.idle": "2020-12-23T12:18:48.528430Z",
     "shell.execute_reply": "2020-12-23T12:18:48.527421Z"
    },
    "papermill": {
     "duration": 1.410761,
     "end_time": "2020-12-23T12:18:48.528596",
     "exception": false,
     "start_time": "2020-12-23T12:18:47.117835",
     "status": "completed"
    },
    "tags": []
   },
   "outputs": [
    {
     "data": {
      "image/png": "[encoded data removed]",
      "text/plain": [
       "<Figure size 1080x720 with 1 Axes>"
      ]
     },
     "metadata": {
      "needs_background": "light"
     },
     "output_type": "display_data"
    }
   ],
   "source": [
    "plt.figure(figsize=(15, 10))\n",
    "plt.title(\"Market Column\")\n",
    "sns.barplot(x=full_data['market_segment'], y=full_data['is_canceled'])\n",
    "plt.show()"
   ]
  },
  {
   "cell_type": "markdown",
   "metadata": {
    "papermill": {
     "duration": 0.078492,
     "end_time": "2020-12-23T12:18:48.694712",
     "exception": false,
     "start_time": "2020-12-23T12:18:48.616220",
     "status": "completed"
    },
    "tags": []
   },
   "source": [
    "This column also seem to affect reservation cancelation."
   ]
  },
  {
   "cell_type": "markdown",
   "metadata": {
    "papermill": {
     "duration": 0.079758,
     "end_time": "2020-12-23T12:18:48.854125",
     "exception": false,
     "start_time": "2020-12-23T12:18:48.774367",
     "status": "completed"
    },
    "tags": []
   },
   "source": [
    "**Distribution Channel**"
   ]
  },
  {
   "cell_type": "code",
   "execution_count": 28,
   "metadata": {
    "execution": {
     "iopub.execute_input": "2020-12-23T12:18:49.019350Z",
     "iopub.status.busy": "2020-12-23T12:18:49.018256Z",
     "iopub.status.idle": "2020-12-23T12:18:50.219028Z",
     "shell.execute_reply": "2020-12-23T12:18:50.219584Z"
    },
    "papermill": {
     "duration": 1.286906,
     "end_time": "2020-12-23T12:18:50.219729",
     "exception": false,
     "start_time": "2020-12-23T12:18:48.932823",
     "status": "completed"
    },
    "tags": []
   },
   "outputs": [
    {
     "data": {
      "image/png": "[encoded data removed]",
      "text/plain": [
       "<Figure size 1080x720 with 1 Axes>"
      ]
     },
     "metadata": {
      "needs_background": "light"
     },
     "output_type": "display_data"
    }
   ],
   "source": [
    "plt.figure(figsize=(15, 10))\n",
    "plt.title(\"Distribution Channel Column\")\n",
    "sns.barplot(x=full_data['distribution_channel'], y=full_data['is_canceled'])\n",
    "plt.show()"
   ]
  },
  {
   "cell_type": "markdown",
   "metadata": {
    "papermill": {
     "duration": 0.07839,
     "end_time": "2020-12-23T12:18:50.376919",
     "exception": false,
     "start_time": "2020-12-23T12:18:50.298529",
     "status": "completed"
    },
    "tags": []
   },
   "source": [
    "Again, has an effect"
   ]
  },
  {
   "cell_type": "markdown",
   "metadata": {
    "papermill": {
     "duration": 0.078209,
     "end_time": "2020-12-23T12:18:50.533583",
     "exception": false,
     "start_time": "2020-12-23T12:18:50.455374",
     "status": "completed"
    },
    "tags": []
   },
   "source": [
    "**Reserved Room Type**"
   ]
  },
  {
   "cell_type": "code",
   "execution_count": 29,
   "metadata": {
    "execution": {
     "iopub.execute_input": "2020-12-23T12:18:50.709679Z",
     "iopub.status.busy": "2020-12-23T12:18:50.703090Z",
     "iopub.status.idle": "2020-12-23T12:18:52.075617Z",
     "shell.execute_reply": "2020-12-23T12:18:52.074825Z"
    },
    "papermill": {
     "duration": 1.463137,
     "end_time": "2020-12-23T12:18:52.075757",
     "exception": false,
     "start_time": "2020-12-23T12:18:50.612620",
     "status": "completed"
    },
    "tags": []
   },
   "outputs": [
    {
     "data": {
      "image/png": "[encoded data removed]",
      "text/plain": [
       "<Figure size 1080x720 with 1 Axes>"
      ]
     },
     "metadata": {
      "needs_background": "light"
     },
     "output_type": "display_data"
    }
   ],
   "source": [
    "plt.figure(figsize=(15, 10))\n",
    "plt.title(\"Reserved Room Type Column\")\n",
    "sns.barplot(x=full_data['reserved_room_type'], y=full_data['is_canceled'])\n",
    "plt.show()"
   ]
  },
  {
   "cell_type": "markdown",
   "metadata": {
    "papermill": {
     "duration": 0.082094,
     "end_time": "2020-12-23T12:18:52.239892",
     "exception": false,
     "start_time": "2020-12-23T12:18:52.157798",
     "status": "completed"
    },
    "tags": []
   },
   "source": [
    "This column also seems to have a strong impact on cancellation. Customers who reserved P type room is more likely to cancel reservation."
   ]
  },
  {
   "cell_type": "markdown",
   "metadata": {
    "papermill": {
     "duration": 0.082837,
     "end_time": "2020-12-23T12:18:52.402559",
     "exception": false,
     "start_time": "2020-12-23T12:18:52.319722",
     "status": "completed"
    },
    "tags": []
   },
   "source": [
    "**Assigned Room Type**"
   ]
  },
  {
   "cell_type": "code",
   "execution_count": 30,
   "metadata": {
    "execution": {
     "iopub.execute_input": "2020-12-23T12:18:52.582832Z",
     "iopub.status.busy": "2020-12-23T12:18:52.581695Z",
     "iopub.status.idle": "2020-12-23T12:18:53.999503Z",
     "shell.execute_reply": "2020-12-23T12:18:54.000367Z"
    },
    "papermill": {
     "duration": 1.516007,
     "end_time": "2020-12-23T12:18:54.000562",
     "exception": false,
     "start_time": "2020-12-23T12:18:52.484555",
     "status": "completed"
    },
    "tags": []
   },
   "outputs": [
    {
     "data": {
      "image/png": "[encoded data removed]",
      "text/plain": [
       "<Figure size 1080x720 with 1 Axes>"
      ]
     },
     "metadata": {
      "needs_background": "light"
     },
     "output_type": "display_data"
    }
   ],
   "source": [
    "plt.figure(figsize=(15, 10))\n",
    "plt.title(\"Assigned Room Type Column\")\n",
    "sns.barplot(x=full_data['assigned_room_type'], y=full_data['is_canceled'])\n",
    "plt.show()"
   ]
  },
  {
   "cell_type": "markdown",
   "metadata": {
    "papermill": {
     "duration": 0.081772,
     "end_time": "2020-12-23T12:18:54.166209",
     "exception": false,
     "start_time": "2020-12-23T12:18:54.084437",
     "status": "completed"
    },
    "tags": []
   },
   "source": [
    "Customers who were assigned P or L rooms are more likely to cancel reservations."
   ]
  },
  {
   "cell_type": "markdown",
   "metadata": {
    "papermill": {
     "duration": 0.081567,
     "end_time": "2020-12-23T12:18:54.332245",
     "exception": false,
     "start_time": "2020-12-23T12:18:54.250678",
     "status": "completed"
    },
    "tags": []
   },
   "source": [
    "**Deposit Type**"
   ]
  },
  {
   "cell_type": "code",
   "execution_count": 31,
   "metadata": {
    "execution": {
     "iopub.execute_input": "2020-12-23T12:18:54.512233Z",
     "iopub.status.busy": "2020-12-23T12:18:54.511513Z",
     "iopub.status.idle": "2020-12-23T12:18:55.840665Z",
     "shell.execute_reply": "2020-12-23T12:18:55.839929Z"
    },
    "papermill": {
     "duration": 1.424229,
     "end_time": "2020-12-23T12:18:55.840781",
     "exception": false,
     "start_time": "2020-12-23T12:18:54.416552",
     "status": "completed"
    },
    "tags": []
   },
   "outputs": [
    {
     "data": {
      "image/png": "[encoded data removed]",
      "text/plain": [
       "<Figure size 1080x720 with 1 Axes>"
      ]
     },
     "metadata": {
      "needs_background": "light"
     },
     "output_type": "display_data"
    }
   ],
   "source": [
    "plt.figure(figsize=(15, 10))\n",
    "plt.title(\"Deposit Column\")\n",
    "sns.barplot(x=full_data['deposit_type'], y=full_data['is_canceled'])\n",
    "plt.show()"
   ]
  },
  {
   "cell_type": "markdown",
   "metadata": {
    "papermill": {
     "duration": 0.083292,
     "end_time": "2020-12-23T12:18:56.009134",
     "exception": false,
     "start_time": "2020-12-23T12:18:55.925842",
     "status": "completed"
    },
    "tags": []
   },
   "source": [
    "Despoit definitely indicates if a customer is more likely to cancel reservation. Visitors with non-refund type deposite are more likely to cancel booking."
   ]
  },
  {
   "cell_type": "markdown",
   "metadata": {
    "papermill": {
     "duration": 0.083051,
     "end_time": "2020-12-23T12:18:56.175866",
     "exception": false,
     "start_time": "2020-12-23T12:18:56.092815",
     "status": "completed"
    },
    "tags": []
   },
   "source": [
    "**Customer Type**"
   ]
  },
  {
   "cell_type": "code",
   "execution_count": 32,
   "metadata": {
    "execution": {
     "iopub.execute_input": "2020-12-23T12:18:56.369491Z",
     "iopub.status.busy": "2020-12-23T12:18:56.368410Z",
     "iopub.status.idle": "2020-12-23T12:18:57.592624Z",
     "shell.execute_reply": "2020-12-23T12:18:57.591885Z"
    },
    "papermill": {
     "duration": 1.33033,
     "end_time": "2020-12-23T12:18:57.592738",
     "exception": false,
     "start_time": "2020-12-23T12:18:56.262408",
     "status": "completed"
    },
    "tags": []
   },
   "outputs": [
    {
     "data": {
      "image/png": "[encoded data removed]",
      "text/plain": [
       "<Figure size 1080x720 with 1 Axes>"
      ]
     },
     "metadata": {
      "needs_background": "light"
     },
     "output_type": "display_data"
    }
   ],
   "source": [
    "plt.figure(figsize=(15, 10))\n",
    "plt.title(\"Customer Type Column\")\n",
    "sns.barplot(x=full_data['customer_type'], y=full_data['is_canceled'])\n",
    "plt.show()"
   ]
  },
  {
   "cell_type": "markdown",
   "metadata": {
    "papermill": {
     "duration": 0.086217,
     "end_time": "2020-12-23T12:18:57.767473",
     "exception": false,
     "start_time": "2020-12-23T12:18:57.681256",
     "status": "completed"
    },
    "tags": []
   },
   "source": [
    "Customer type also seems to be an indicator. Specifically transient customers are more likely to cancel reservations."
   ]
  },
  {
   "cell_type": "markdown",
   "metadata": {
    "papermill": {
     "duration": 0.084789,
     "end_time": "2020-12-23T12:18:57.938345",
     "exception": false,
     "start_time": "2020-12-23T12:18:57.853556",
     "status": "completed"
    },
    "tags": []
   },
   "source": [
    "# Model Selection\n",
    "\n",
    "Before we make further analysis, let's select a machine learning model to use for our prediction. In this section I will create several simple models and see which one has the best performance. "
   ]
  },
  {
   "cell_type": "code",
   "execution_count": 33,
   "metadata": {
    "execution": {
     "iopub.execute_input": "2020-12-23T12:18:58.122249Z",
     "iopub.status.busy": "2020-12-23T12:18:58.121490Z",
     "iopub.status.idle": "2020-12-23T12:18:58.162295Z",
     "shell.execute_reply": "2020-12-23T12:18:58.161719Z"
    },
    "papermill": {
     "duration": 0.137543,
     "end_time": "2020-12-23T12:18:58.162419",
     "exception": false,
     "start_time": "2020-12-23T12:18:58.024876",
     "status": "completed"
    },
    "tags": []
   },
   "outputs": [],
   "source": [
    "num_features = [\"lead_time\",\"arrival_date_week_number\",\"arrival_date_day_of_month\",\n",
    "                \"stays_in_weekend_nights\",\"stays_in_week_nights\",\"adults\",\"children\",\n",
    "                \"babies\",\"is_repeated_guest\", \"previous_cancellations\",\n",
    "                \"previous_bookings_not_canceled\",\"agent\",\n",
    "                \"required_car_parking_spaces\", \"total_of_special_requests\", \"adr\"]\n",
    "\n",
    "cat_features = [\"hotel\",\"arrival_date_month\",\"meal\",\"market_segment\",\n",
    "                \"distribution_channel\",\"reserved_room_type\",\"assigned_room_type\", \"deposit_type\",\"customer_type\"]\n",
    "\n",
    "\n",
    "features = num_features + cat_features\n",
    "X = full_data.drop([\"is_canceled\"], axis=1)[features]\n",
    "y = full_data[\"is_canceled\"]\n",
    "\n",
    "num_transformer = SimpleImputer(strategy=\"constant\")\n",
    "\n",
    "cat_transformer = Pipeline(steps=[\n",
    "    (\"imputer\", SimpleImputer(strategy=\"most_frequent\")),\n",
    "    (\"onehot\", OneHotEncoder(handle_unknown='ignore'))])\n",
    "\n",
    "preprocessor = ColumnTransformer(transformers=[(\"num\", num_transformer, num_features),\n",
    "                                               (\"cat\", cat_transformer, cat_features)])"
   ]
  },
  {
   "cell_type": "code",
   "execution_count": 34,
   "metadata": {
    "execution": {
     "iopub.execute_input": "2020-12-23T12:18:58.344639Z",
     "iopub.status.busy": "2020-12-23T12:18:58.343741Z",
     "iopub.status.idle": "2020-12-23T12:18:58.698359Z",
     "shell.execute_reply": "2020-12-23T12:18:58.697789Z"
    },
    "papermill": {
     "duration": 0.450275,
     "end_time": "2020-12-23T12:18:58.698471",
     "exception": false,
     "start_time": "2020-12-23T12:18:58.248196",
     "status": "completed"
    },
    "tags": []
   },
   "outputs": [
    {
     "data": {
      "text/plain": [
       "'\\nfor name, model in base_models:\\n    model_steps = Pipeline(steps=[(\\'preprocessor\\', preprocessor),\\n                              (\\'model\\', model)])\\n    \\n    cv_results = cross_val_score(model_steps, \\n                                 X, y, \\n                                 cv=split,\\n                                 scoring=\"accuracy\",\\n                                 n_jobs=-1)\\n    \\n    min_score = round(min(cv_results), 4)\\n    max_score = round(max(cv_results), 4)\\n    mean_score = round(np.mean(cv_results), 4)\\n    std_dev = round(np.std(cv_results), 4)\\n    print(f\"{name} cross validation accuarcy score: {mean_score} +/- {std_dev} (std) min: {min_score}, max: {max_score}\")\\n'"
      ]
     },
     "execution_count": 34,
     "metadata": {},
     "output_type": "execute_result"
    }
   ],
   "source": [
    "from sklearn.tree import DecisionTreeClassifier\n",
    "from sklearn.ensemble import RandomForestClassifier\n",
    "from sklearn.linear_model import LogisticRegression\n",
    "from xgboost import XGBClassifier\n",
    "from sklearn.ensemble import AdaBoostClassifier\n",
    "from sklearn.neighbors import KNeighborsClassifier\n",
    "\n",
    "base_models = [(\"DT_model\", DecisionTreeClassifier(random_state=42)),\n",
    "               (\"RF_model\", RandomForestClassifier(random_state=42,n_jobs=-1)),\n",
    "               (\"LR_model\", LogisticRegression(random_state=42,n_jobs=-1)),\n",
    "               (\"XGB_model\", XGBClassifier(random_state=42, n_jobs=-1)),\n",
    "               (\"Ada_model\", AdaBoostClassifier(random_state=42)),\n",
    "               (\"KNN_model\", KNeighborsClassifier(n_jobs=-1))]\n",
    "\n",
    "kfolds = 4 # 4 = 75% train, 25% validation\n",
    "split = KFold(n_splits=kfolds, shuffle=True, random_state=42)\n",
    "\n",
    "'''\n",
    "for name, model in base_models:\n",
    "    model_steps = Pipeline(steps=[('preprocessor', preprocessor),\n",
    "                              ('model', model)])\n",
    "    \n",
    "    cv_results = cross_val_score(model_steps, \n",
    "                                 X, y, \n",
    "                                 cv=split,\n",
    "                                 scoring=\"accuracy\",\n",
    "                                 n_jobs=-1)\n",
    "    \n",
    "    min_score = round(min(cv_results), 4)\n",
    "    max_score = round(max(cv_results), 4)\n",
    "    mean_score = round(np.mean(cv_results), 4)\n",
    "    std_dev = round(np.std(cv_results), 4)\n",
    "    print(f\"{name} cross validation accuarcy score: {mean_score} +/- {std_dev} (std) min: {min_score}, max: {max_score}\")\n",
    "'''"
   ]
  },
  {
   "cell_type": "markdown",
   "metadata": {
    "papermill": {
     "duration": 0.084474,
     "end_time": "2020-12-23T12:18:58.867206",
     "exception": false,
     "start_time": "2020-12-23T12:18:58.782732",
     "status": "completed"
    },
    "tags": []
   },
   "source": [
    "We see that random forest classifier had the best performance(86.664%). Therefore, we will use this model for later predictions.\n",
    "\n",
    "Detail: RF_model cross validation accuarcy score: 0.8664 +/- 0.0012 (std) min: 0.8646, max: 0.8676"
   ]
  },
  {
   "cell_type": "markdown",
   "metadata": {
    "papermill": {
     "duration": 0.085088,
     "end_time": "2020-12-23T12:18:59.037171",
     "exception": false,
     "start_time": "2020-12-23T12:18:58.952083",
     "status": "completed"
    },
    "tags": []
   },
   "source": [
    "# More Bivariate Analysis\n",
    "\n",
    "We have found the columns that affect is_cancelled the strongest. Now let's actually visualize the correlations."
   ]
  },
  {
   "cell_type": "markdown",
   "metadata": {
    "papermill": {
     "duration": 0.08432,
     "end_time": "2020-12-23T12:18:59.207461",
     "exception": false,
     "start_time": "2020-12-23T12:18:59.123141",
     "status": "completed"
    },
    "tags": []
   },
   "source": [
    "**lead-time**\n",
    "\n",
    "We see that generally the earlier the customer books the hotel, the more likely he will cancel the reservation"
   ]
  },
  {
   "cell_type": "code",
   "execution_count": 35,
   "metadata": {
    "execution": {
     "iopub.execute_input": "2020-12-23T12:18:59.395546Z",
     "iopub.status.busy": "2020-12-23T12:18:59.394398Z",
     "iopub.status.idle": "2020-12-23T12:19:00.471419Z",
     "shell.execute_reply": "2020-12-23T12:19:00.471903Z"
    },
    "papermill": {
     "duration": 1.179858,
     "end_time": "2020-12-23T12:19:00.472075",
     "exception": false,
     "start_time": "2020-12-23T12:18:59.292217",
     "status": "completed"
    },
    "tags": []
   },
   "outputs": [
    {
     "data": {
      "image/png": "[encoded data removed]",
      "text/plain": [
       "<Figure size 1080x720 with 1 Axes>"
      ]
     },
     "metadata": {
      "needs_background": "light"
     },
     "output_type": "display_data"
    },
    {
     "name": "stdout",
     "output_type": "stream",
     "text": [
      "   is_canceled   lead_time\n",
      "0            0   79.984687\n",
      "1            1  144.848815\n"
     ]
    }
   ],
   "source": [
    "plt.figure(figsize=(15, 10))\n",
    "plt.title(\"lead_time Column\")\n",
    "sns.barplot(x=full_data['is_canceled'], y=full_data['lead_time'])\n",
    "plt.show()\n",
    "\n",
    "print( full_data[[\"lead_time\",\"is_canceled\"]].groupby([\"is_canceled\"], as_index = False).mean() )"
   ]
  },
  {
   "cell_type": "markdown",
   "metadata": {
    "papermill": {
     "duration": 0.084238,
     "end_time": "2020-12-23T12:19:00.642010",
     "exception": false,
     "start_time": "2020-12-23T12:19:00.557772",
     "status": "completed"
    },
    "tags": []
   },
   "source": [
    "**total_of_special_requests**\n",
    "\n",
    "We see that the more requests the customer makes, the less likely he will cancel the reservation"
   ]
  },
  {
   "cell_type": "code",
   "execution_count": 36,
   "metadata": {
    "execution": {
     "iopub.execute_input": "2020-12-23T12:19:00.820657Z",
     "iopub.status.busy": "2020-12-23T12:19:00.819438Z",
     "iopub.status.idle": "2020-12-23T12:19:02.009330Z",
     "shell.execute_reply": "2020-12-23T12:19:02.009883Z"
    },
    "papermill": {
     "duration": 1.282627,
     "end_time": "2020-12-23T12:19:02.010054",
     "exception": false,
     "start_time": "2020-12-23T12:19:00.727427",
     "status": "completed"
    },
    "tags": []
   },
   "outputs": [
    {
     "data": {
      "image/png": "[encoded data removed]",
      "text/plain": [
       "<Figure size 1080x720 with 1 Axes>"
      ]
     },
     "metadata": {
      "needs_background": "light"
     },
     "output_type": "display_data"
    },
    {
     "name": "stdout",
     "output_type": "stream",
     "text": [
      "   total_of_special_requests  is_canceled\n",
      "0                          0     0.477204\n",
      "1                          1     0.220249\n",
      "2                          2     0.220989\n",
      "3                          3     0.178614\n",
      "4                          4     0.105882\n",
      "5                          5     0.050000\n"
     ]
    }
   ],
   "source": [
    "plt.figure(figsize=(15, 10))\n",
    "plt.title(\"total_of_special_requests Column\")\n",
    "sns.barplot(x=full_data['total_of_special_requests'], y=full_data['is_canceled'])\n",
    "plt.show()\n",
    "\n",
    "print( full_data[[\"total_of_special_requests\",\"is_canceled\"]].groupby([\"total_of_special_requests\"], as_index = False).mean() )"
   ]
  },
  {
   "cell_type": "markdown",
   "metadata": {
    "papermill": {
     "duration": 0.085329,
     "end_time": "2020-12-23T12:19:02.180670",
     "exception": false,
     "start_time": "2020-12-23T12:19:02.095341",
     "status": "completed"
    },
    "tags": []
   },
   "source": [
    "**required_car_parking_spaces**"
   ]
  },
  {
   "cell_type": "code",
   "execution_count": 37,
   "metadata": {
    "execution": {
     "iopub.execute_input": "2020-12-23T12:19:02.360891Z",
     "iopub.status.busy": "2020-12-23T12:19:02.360105Z",
     "iopub.status.idle": "2020-12-23T12:19:02.525886Z",
     "shell.execute_reply": "2020-12-23T12:19:02.525369Z"
    },
    "papermill": {
     "duration": 0.257757,
     "end_time": "2020-12-23T12:19:02.526032",
     "exception": false,
     "start_time": "2020-12-23T12:19:02.268275",
     "status": "completed"
    },
    "tags": []
   },
   "outputs": [
    {
     "data": {
      "image/png": "[encoded data removed]",
      "text/plain": [
       "<Figure size 1080x720 with 1 Axes>"
      ]
     },
     "metadata": {
      "needs_background": "light"
     },
     "output_type": "display_data"
    },
    {
     "name": "stdout",
     "output_type": "stream",
     "text": [
      "0    93.788424\n",
      "1     6.183935\n",
      "2     0.023453\n",
      "3     0.002513\n",
      "8     0.001675\n",
      "Name: required_car_parking_spaces, dtype: float64\n"
     ]
    }
   ],
   "source": [
    "plt.figure(figsize=(15, 10))\n",
    "plt.title(\"required_car_parking_spaces Column\")\n",
    "sns.countplot(x=full_data['required_car_parking_spaces'])\n",
    "plt.show()\n",
    "\n",
    "print(full_data['required_car_parking_spaces'].value_counts() / full_data.shape[0] * 100)"
   ]
  },
  {
   "cell_type": "code",
   "execution_count": 38,
   "metadata": {
    "execution": {
     "iopub.execute_input": "2020-12-23T12:19:02.709013Z",
     "iopub.status.busy": "2020-12-23T12:19:02.708302Z",
     "iopub.status.idle": "2020-12-23T12:19:03.974281Z",
     "shell.execute_reply": "2020-12-23T12:19:03.973387Z"
    },
    "papermill": {
     "duration": 1.361269,
     "end_time": "2020-12-23T12:19:03.974462",
     "exception": false,
     "start_time": "2020-12-23T12:19:02.613193",
     "status": "completed"
    },
    "tags": []
   },
   "outputs": [
    {
     "data": {
      "image/png": "[encoded data removed]",
      "text/plain": [
       "<Figure size 1080x720 with 1 Axes>"
      ]
     },
     "metadata": {
      "needs_background": "light"
     },
     "output_type": "display_data"
    },
    {
     "name": "stdout",
     "output_type": "stream",
     "text": [
      "   required_car_parking_spaces  is_canceled\n",
      "0                            0     0.394949\n",
      "1                            1     0.000000\n",
      "2                            2     0.000000\n",
      "3                            3     0.000000\n",
      "4                            8     0.000000\n"
     ]
    }
   ],
   "source": [
    "plt.figure(figsize=(15, 10))\n",
    "plt.title(\"required_car_parking_spaces Column\")\n",
    "sns.barplot(x=full_data['required_car_parking_spaces'], y=full_data['is_canceled'])\n",
    "plt.show()\n",
    "\n",
    "print( full_data[[\"required_car_parking_spaces\",\"is_canceled\"]].groupby([\"required_car_parking_spaces\"], as_index = False).mean() )"
   ]
  },
  {
   "cell_type": "markdown",
   "metadata": {
    "papermill": {
     "duration": 0.091518,
     "end_time": "2020-12-23T12:19:04.162913",
     "exception": false,
     "start_time": "2020-12-23T12:19:04.071395",
     "status": "completed"
    },
    "tags": []
   },
   "source": [
    "So we see that if the customer requires at least one car parking space, the chance to cancel the reservation is very small. I say we can actually modify this column to only show if a customer makes a requirement(denoted as 1) or not(denoted as 0), which perhaps is more straightforward to our model?"
   ]
  },
  {
   "cell_type": "code",
   "execution_count": 39,
   "metadata": {
    "execution": {
     "iopub.execute_input": "2020-12-23T12:19:04.357456Z",
     "iopub.status.busy": "2020-12-23T12:19:04.356774Z",
     "iopub.status.idle": "2020-12-23T12:19:04.362216Z",
     "shell.execute_reply": "2020-12-23T12:19:04.361532Z"
    },
    "papermill": {
     "duration": 0.099224,
     "end_time": "2020-12-23T12:19:04.362329",
     "exception": false,
     "start_time": "2020-12-23T12:19:04.263105",
     "status": "completed"
    },
    "tags": []
   },
   "outputs": [],
   "source": [
    "full_data.loc[full_data['required_car_parking_spaces'] != 0, 'required_car_parking_spaces'] = 1"
   ]
  },
  {
   "cell_type": "markdown",
   "metadata": {
    "papermill": {
     "duration": 0.087955,
     "end_time": "2020-12-23T12:19:04.541654",
     "exception": false,
     "start_time": "2020-12-23T12:19:04.453699",
     "status": "completed"
    },
    "tags": []
   },
   "source": [
    "After the change:"
   ]
  },
  {
   "cell_type": "code",
   "execution_count": 40,
   "metadata": {
    "execution": {
     "iopub.execute_input": "2020-12-23T12:19:04.723091Z",
     "iopub.status.busy": "2020-12-23T12:19:04.722340Z",
     "iopub.status.idle": "2020-12-23T12:19:04.889210Z",
     "shell.execute_reply": "2020-12-23T12:19:04.888323Z"
    },
    "papermill": {
     "duration": 0.259181,
     "end_time": "2020-12-23T12:19:04.889378",
     "exception": false,
     "start_time": "2020-12-23T12:19:04.630197",
     "status": "completed"
    },
    "tags": []
   },
   "outputs": [
    {
     "data": {
      "image/png": "[encoded data removed]",
      "text/plain": [
       "<Figure size 1080x720 with 1 Axes>"
      ]
     },
     "metadata": {
      "needs_background": "light"
     },
     "output_type": "display_data"
    },
    {
     "name": "stdout",
     "output_type": "stream",
     "text": [
      "0    93.788424\n",
      "1     6.211576\n",
      "Name: required_car_parking_spaces, dtype: float64\n"
     ]
    }
   ],
   "source": [
    "plt.figure(figsize=(15, 10))\n",
    "plt.title(\"required_car_parking_spaces Column\")\n",
    "sns.countplot(x=full_data['required_car_parking_spaces'])\n",
    "plt.show()\n",
    "\n",
    "print(full_data['required_car_parking_spaces'].value_counts() / full_data.shape[0] * 100)"
   ]
  },
  {
   "cell_type": "code",
   "execution_count": 41,
   "metadata": {
    "execution": {
     "iopub.execute_input": "2020-12-23T12:19:05.075255Z",
     "iopub.status.busy": "2020-12-23T12:19:05.074220Z",
     "iopub.status.idle": "2020-12-23T12:19:06.182550Z",
     "shell.execute_reply": "2020-12-23T12:19:06.181973Z"
    },
    "papermill": {
     "duration": 1.203234,
     "end_time": "2020-12-23T12:19:06.182672",
     "exception": false,
     "start_time": "2020-12-23T12:19:04.979438",
     "status": "completed"
    },
    "tags": []
   },
   "outputs": [
    {
     "data": {
      "image/png": "[encoded data removed]",
      "text/plain": [
       "<Figure size 1080x720 with 1 Axes>"
      ]
     },
     "metadata": {
      "needs_background": "light"
     },
     "output_type": "display_data"
    },
    {
     "name": "stdout",
     "output_type": "stream",
     "text": [
      "   required_car_parking_spaces  is_canceled\n",
      "0                            0     0.394949\n",
      "1                            1     0.000000\n"
     ]
    }
   ],
   "source": [
    "plt.figure(figsize=(15, 10))\n",
    "plt.title(\"required_car_parking_spaces Column\")\n",
    "sns.barplot(x=full_data['required_car_parking_spaces'], y=full_data['is_canceled'])\n",
    "plt.show()\n",
    "\n",
    "print( full_data[[\"required_car_parking_spaces\",\"is_canceled\"]].groupby([\"required_car_parking_spaces\"], as_index = False).mean() )"
   ]
  },
  {
   "cell_type": "markdown",
   "metadata": {
    "papermill": {
     "duration": 0.091847,
     "end_time": "2020-12-23T12:19:06.369087",
     "exception": false,
     "start_time": "2020-12-23T12:19:06.277240",
     "status": "completed"
    },
    "tags": []
   },
   "source": [
    "Let's see if this would make any difference to our model's prediction score."
   ]
  },
  {
   "cell_type": "code",
   "execution_count": 42,
   "metadata": {
    "execution": {
     "iopub.execute_input": "2020-12-23T12:19:06.563808Z",
     "iopub.status.busy": "2020-12-23T12:19:06.563089Z",
     "iopub.status.idle": "2020-12-23T12:20:07.624752Z",
     "shell.execute_reply": "2020-12-23T12:20:07.625712Z"
    },
    "papermill": {
     "duration": 61.165012,
     "end_time": "2020-12-23T12:20:07.625934",
     "exception": false,
     "start_time": "2020-12-23T12:19:06.460922",
     "status": "completed"
    },
    "tags": []
   },
   "outputs": [
    {
     "name": "stdout",
     "output_type": "stream",
     "text": [
      "RF Model cross validation accuarcy score: 0.8696 +/- 0.0011 (std) min: 0.8678, max: 0.8703\n"
     ]
    }
   ],
   "source": [
    "X = full_data.drop([\"is_canceled\"], axis=1)[features]\n",
    "y = full_data[\"is_canceled\"]\n",
    "\n",
    "model_steps = Pipeline(steps=[('preprocessor', preprocessor),\n",
    "                              ('model', RandomForestClassifier(random_state=42,n_jobs=-1))])\n",
    "    \n",
    "cv_results = cross_val_score(model_steps, \n",
    "                             X, y, \n",
    "                             cv=split,\n",
    "                             scoring=\"accuracy\",\n",
    "                             n_jobs=-1)\n",
    "\n",
    "min_score = round(min(cv_results), 4)\n",
    "max_score = round(max(cv_results), 4)\n",
    "mean_score = round(np.mean(cv_results), 4)\n",
    "std_dev = round(np.std(cv_results), 4)\n",
    "print(f\"RF Model cross validation accuarcy score: {mean_score} +/- {std_dev} (std) min: {min_score}, max: {max_score}\")"
   ]
  },
  {
   "cell_type": "markdown",
   "metadata": {
    "papermill": {
     "duration": 0.0935,
     "end_time": "2020-12-23T12:20:07.813350",
     "exception": false,
     "start_time": "2020-12-23T12:20:07.719850",
     "status": "completed"
    },
    "tags": []
   },
   "source": [
    "Nice! We see an improvement in accuracy, which means this modification actually works!"
   ]
  },
  {
   "cell_type": "markdown",
   "metadata": {
    "papermill": {
     "duration": 0.094316,
     "end_time": "2020-12-23T12:20:08.005305",
     "exception": false,
     "start_time": "2020-12-23T12:20:07.910989",
     "status": "completed"
    },
    "tags": []
   },
   "source": [
    "**previous_cancellations**"
   ]
  },
  {
   "cell_type": "code",
   "execution_count": 43,
   "metadata": {
    "execution": {
     "iopub.execute_input": "2020-12-23T12:20:08.197660Z",
     "iopub.status.busy": "2020-12-23T12:20:08.196614Z",
     "iopub.status.idle": "2020-12-23T12:20:08.439185Z",
     "shell.execute_reply": "2020-12-23T12:20:08.440023Z"
    },
    "papermill": {
     "duration": 0.340621,
     "end_time": "2020-12-23T12:20:08.440268",
     "exception": false,
     "start_time": "2020-12-23T12:20:08.099647",
     "status": "completed"
    },
    "tags": []
   },
   "outputs": [
    {
     "data": {
      "image/png": "[encoded data removed]",
      "text/plain": [
       "<Figure size 1080x720 with 1 Axes>"
      ]
     },
     "metadata": {
      "needs_background": "light"
     },
     "output_type": "display_data"
    },
    {
     "name": "stdout",
     "output_type": "stream",
     "text": [
      "0     94.569059\n",
      "1      5.068264\n",
      "2      0.097161\n",
      "3      0.054443\n",
      "24     0.040204\n",
      "11     0.029316\n",
      "4      0.025965\n",
      "26     0.021777\n",
      "25     0.020940\n",
      "6      0.018427\n",
      "19     0.015914\n",
      "5      0.015914\n",
      "14     0.011726\n",
      "13     0.010051\n",
      "21     0.000838\n",
      "Name: previous_cancellations, dtype: float64\n"
     ]
    }
   ],
   "source": [
    "plt.figure(figsize=(15, 10))\n",
    "plt.title(\"previous_cancellations Column\")\n",
    "sns.countplot(x=full_data['previous_cancellations'])\n",
    "plt.show()\n",
    "\n",
    "print(full_data['previous_cancellations'].value_counts() / full_data.shape[0] * 100)"
   ]
  },
  {
   "cell_type": "code",
   "execution_count": 44,
   "metadata": {
    "execution": {
     "iopub.execute_input": "2020-12-23T12:20:08.634455Z",
     "iopub.status.busy": "2020-12-23T12:20:08.633744Z",
     "iopub.status.idle": "2020-12-23T12:20:10.240567Z",
     "shell.execute_reply": "2020-12-23T12:20:10.239735Z"
    },
    "papermill": {
     "duration": 1.705243,
     "end_time": "2020-12-23T12:20:10.240729",
     "exception": false,
     "start_time": "2020-12-23T12:20:08.535486",
     "status": "completed"
    },
    "tags": []
   },
   "outputs": [
    {
     "data": {
      "image/png": "[encoded data removed]",
      "text/plain": [
       "<Figure size 1080x720 with 1 Axes>"
      ]
     },
     "metadata": {
      "needs_background": "light"
     },
     "output_type": "display_data"
    },
    {
     "name": "stdout",
     "output_type": "stream",
     "text": [
      "    previous_cancellations  is_canceled\n",
      "0                        0     0.339061\n",
      "1                        1     0.944307\n",
      "2                        2     0.327586\n",
      "3                        3     0.307692\n",
      "4                        4     0.225806\n",
      "5                        5     0.105263\n",
      "6                        6     0.318182\n",
      "7                       11     0.285714\n",
      "8                       13     0.916667\n",
      "9                       14     1.000000\n",
      "10                      19     1.000000\n",
      "11                      21     1.000000\n",
      "12                      24     1.000000\n",
      "13                      25     1.000000\n",
      "14                      26     1.000000\n"
     ]
    }
   ],
   "source": [
    "plt.figure(figsize=(15, 10))\n",
    "plt.title(\"previous_cancellations Column\")\n",
    "sns.barplot(x=full_data['previous_cancellations'], y=full_data['is_canceled'])\n",
    "plt.show()\n",
    "\n",
    "print( full_data[[\"previous_cancellations\",\"is_canceled\"]].groupby([\"previous_cancellations\"], as_index = False).mean() )"
   ]
  },
  {
   "cell_type": "markdown",
   "metadata": {
    "papermill": {
     "duration": 0.095893,
     "end_time": "2020-12-23T12:20:10.433074",
     "exception": false,
     "start_time": "2020-12-23T12:20:10.337181",
     "status": "completed"
    },
    "tags": []
   },
   "source": [
    "So we see that if the number of previous_cancellations is 1 or above 12, the chance of canceling the reservation is very high. This makes me wonder that will the prediction be better if I apply the same modification as parking space. Let's find out"
   ]
  },
  {
   "cell_type": "code",
   "execution_count": 45,
   "metadata": {
    "execution": {
     "iopub.execute_input": "2020-12-23T12:20:10.643150Z",
     "iopub.status.busy": "2020-12-23T12:20:10.641133Z",
     "iopub.status.idle": "2020-12-23T12:20:10.649456Z",
     "shell.execute_reply": "2020-12-23T12:20:10.649990Z"
    },
    "papermill": {
     "duration": 0.116906,
     "end_time": "2020-12-23T12:20:10.650212",
     "exception": false,
     "start_time": "2020-12-23T12:20:10.533306",
     "status": "completed"
    },
    "tags": []
   },
   "outputs": [],
   "source": [
    "temp_previous_cancel = full_data['previous_cancellations'].copy()"
   ]
  },
  {
   "cell_type": "code",
   "execution_count": 46,
   "metadata": {
    "execution": {
     "iopub.execute_input": "2020-12-23T12:20:10.849435Z",
     "iopub.status.busy": "2020-12-23T12:20:10.848278Z",
     "iopub.status.idle": "2020-12-23T12:20:10.866399Z",
     "shell.execute_reply": "2020-12-23T12:20:10.867433Z"
    },
    "papermill": {
     "duration": 0.119779,
     "end_time": "2020-12-23T12:20:10.867683",
     "exception": false,
     "start_time": "2020-12-23T12:20:10.747904",
     "status": "completed"
    },
    "tags": []
   },
   "outputs": [],
   "source": [
    "full_data.loc[(full_data['previous_cancellations'] == 1) | (full_data['previous_cancellations'] >= 13), 'previous_cancellations'] = 1\n",
    "full_data.loc[(full_data['previous_cancellations'] != 1) & (full_data['previous_cancellations'] < 13), 'previous_cancellations'] = 0"
   ]
  },
  {
   "cell_type": "code",
   "execution_count": 47,
   "metadata": {
    "execution": {
     "iopub.execute_input": "2020-12-23T12:20:11.107174Z",
     "iopub.status.busy": "2020-12-23T12:20:11.106070Z",
     "iopub.status.idle": "2020-12-23T12:20:11.265314Z",
     "shell.execute_reply": "2020-12-23T12:20:11.264721Z"
    },
    "papermill": {
     "duration": 0.272309,
     "end_time": "2020-12-23T12:20:11.265445",
     "exception": false,
     "start_time": "2020-12-23T12:20:10.993136",
     "status": "completed"
    },
    "tags": []
   },
   "outputs": [
    {
     "data": {
      "image/png": "[encoded data removed]",
      "text/plain": [
       "<Figure size 1080x720 with 1 Axes>"
      ]
     },
     "metadata": {
      "needs_background": "light"
     },
     "output_type": "display_data"
    },
    {
     "name": "stdout",
     "output_type": "stream",
     "text": [
      "0    94.810286\n",
      "1     5.189714\n",
      "Name: previous_cancellations, dtype: float64\n"
     ]
    }
   ],
   "source": [
    "plt.figure(figsize=(15, 10))\n",
    "plt.title(\"previous_cancellations Column\")\n",
    "sns.countplot(x=full_data['previous_cancellations'])\n",
    "plt.show()\n",
    "\n",
    "print(full_data['previous_cancellations'].value_counts() / full_data.shape[0] * 100)"
   ]
  },
  {
   "cell_type": "code",
   "execution_count": 48,
   "metadata": {
    "execution": {
     "iopub.execute_input": "2020-12-23T12:20:11.504291Z",
     "iopub.status.busy": "2020-12-23T12:20:11.501721Z",
     "iopub.status.idle": "2020-12-23T12:20:12.621021Z",
     "shell.execute_reply": "2020-12-23T12:20:12.620242Z"
    },
    "papermill": {
     "duration": 1.252556,
     "end_time": "2020-12-23T12:20:12.621196",
     "exception": false,
     "start_time": "2020-12-23T12:20:11.368640",
     "status": "completed"
    },
    "tags": []
   },
   "outputs": [
    {
     "data": {
      "image/png": "[encoded data removed]",
      "text/plain": [
       "<Figure size 1080x720 with 1 Axes>"
      ]
     },
     "metadata": {
      "needs_background": "light"
     },
     "output_type": "display_data"
    },
    {
     "name": "stdout",
     "output_type": "stream",
     "text": [
      "   previous_cancellations  is_canceled\n",
      "0                       0     0.338940\n",
      "1                       1     0.945449\n"
     ]
    }
   ],
   "source": [
    "plt.figure(figsize=(15, 10))\n",
    "plt.title(\"previous_cancellations Column\")\n",
    "sns.barplot(x=full_data['previous_cancellations'], y=full_data['is_canceled'])\n",
    "plt.show()\n",
    "\n",
    "print( full_data[[\"previous_cancellations\",\"is_canceled\"]].groupby([\"previous_cancellations\"], as_index = False).mean() )"
   ]
  },
  {
   "cell_type": "markdown",
   "metadata": {
    "papermill": {
     "duration": 0.102696,
     "end_time": "2020-12-23T12:20:12.829417",
     "exception": false,
     "start_time": "2020-12-23T12:20:12.726721",
     "status": "completed"
    },
    "tags": []
   },
   "source": [
    "Now our model's performance is:"
   ]
  },
  {
   "cell_type": "code",
   "execution_count": 49,
   "metadata": {
    "execution": {
     "iopub.execute_input": "2020-12-23T12:20:13.045694Z",
     "iopub.status.busy": "2020-12-23T12:20:13.044123Z",
     "iopub.status.idle": "2020-12-23T12:21:09.259490Z",
     "shell.execute_reply": "2020-12-23T12:21:09.260081Z"
    },
    "papermill": {
     "duration": 56.328362,
     "end_time": "2020-12-23T12:21:09.260251",
     "exception": false,
     "start_time": "2020-12-23T12:20:12.931889",
     "status": "completed"
    },
    "tags": []
   },
   "outputs": [
    {
     "name": "stdout",
     "output_type": "stream",
     "text": [
      "RF Model cross validation accuarcy score: 0.8694 +/- 0.0013 (std) min: 0.8682, max: 0.8711\n"
     ]
    }
   ],
   "source": [
    "X = full_data.drop([\"is_canceled\"], axis=1)[features]\n",
    "y = full_data[\"is_canceled\"]\n",
    "\n",
    "model_steps = Pipeline(steps=[('preprocessor', preprocessor),\n",
    "                              ('model', RandomForestClassifier(random_state=42,n_jobs=-1))])\n",
    "    \n",
    "cv_results = cross_val_score(model_steps, \n",
    "                             X, y, \n",
    "                             cv=split,\n",
    "                             scoring=\"accuracy\",\n",
    "                             n_jobs=-1)\n",
    "\n",
    "min_score = round(min(cv_results), 4)\n",
    "max_score = round(max(cv_results), 4)\n",
    "mean_score = round(np.mean(cv_results), 4)\n",
    "std_dev = round(np.std(cv_results), 4)\n",
    "print(f\"RF Model cross validation accuarcy score: {mean_score} +/- {std_dev} (std) min: {min_score}, max: {max_score}\")"
   ]
  },
  {
   "cell_type": "markdown",
   "metadata": {
    "papermill": {
     "duration": 0.101196,
     "end_time": "2020-12-23T12:21:09.461016",
     "exception": false,
     "start_time": "2020-12-23T12:21:09.359820",
     "status": "completed"
    },
    "tags": []
   },
   "source": [
    "Sadly, this actually makes the performance worse, so let's undo this change. "
   ]
  },
  {
   "cell_type": "code",
   "execution_count": 50,
   "metadata": {
    "execution": {
     "iopub.execute_input": "2020-12-23T12:21:09.664129Z",
     "iopub.status.busy": "2020-12-23T12:21:09.663361Z",
     "iopub.status.idle": "2020-12-23T12:21:09.668465Z",
     "shell.execute_reply": "2020-12-23T12:21:09.669095Z"
    },
    "papermill": {
     "duration": 0.108673,
     "end_time": "2020-12-23T12:21:09.669250",
     "exception": false,
     "start_time": "2020-12-23T12:21:09.560577",
     "status": "completed"
    },
    "tags": []
   },
   "outputs": [],
   "source": [
    "full_data['previous_cancellations'] = temp_previous_cancel"
   ]
  },
  {
   "cell_type": "code",
   "execution_count": 51,
   "metadata": {
    "execution": {
     "iopub.execute_input": "2020-12-23T12:21:09.891554Z",
     "iopub.status.busy": "2020-12-23T12:21:09.882400Z",
     "iopub.status.idle": "2020-12-23T12:21:11.464727Z",
     "shell.execute_reply": "2020-12-23T12:21:11.465659Z"
    },
    "papermill": {
     "duration": 1.696606,
     "end_time": "2020-12-23T12:21:11.465874",
     "exception": false,
     "start_time": "2020-12-23T12:21:09.769268",
     "status": "completed"
    },
    "tags": []
   },
   "outputs": [
    {
     "data": {
      "image/png": "[encoded data removed]",
      "text/plain": [
       "<Figure size 1080x720 with 1 Axes>"
      ]
     },
     "metadata": {
      "needs_background": "light"
     },
     "output_type": "display_data"
    },
    {
     "name": "stdout",
     "output_type": "stream",
     "text": [
      "    previous_cancellations  is_canceled\n",
      "0                        0     0.339061\n",
      "1                        1     0.944307\n",
      "2                        2     0.327586\n",
      "3                        3     0.307692\n",
      "4                        4     0.225806\n",
      "5                        5     0.105263\n",
      "6                        6     0.318182\n",
      "7                       11     0.285714\n",
      "8                       13     0.916667\n",
      "9                       14     1.000000\n",
      "10                      19     1.000000\n",
      "11                      21     1.000000\n",
      "12                      24     1.000000\n",
      "13                      25     1.000000\n",
      "14                      26     1.000000\n"
     ]
    }
   ],
   "source": [
    "plt.figure(figsize=(15, 10))\n",
    "plt.title(\"previous_cancellations Column\")\n",
    "sns.barplot(x=full_data['previous_cancellations'], y=full_data['is_canceled'])\n",
    "plt.show()\n",
    "\n",
    "print( full_data[[\"previous_cancellations\",\"is_canceled\"]].groupby([\"previous_cancellations\"], as_index = False).mean() )"
   ]
  },
  {
   "cell_type": "code",
   "execution_count": 52,
   "metadata": {
    "execution": {
     "iopub.execute_input": "2020-12-23T12:21:11.682813Z",
     "iopub.status.busy": "2020-12-23T12:21:11.681502Z",
     "iopub.status.idle": "2020-12-23T12:22:10.420227Z",
     "shell.execute_reply": "2020-12-23T12:22:10.420766Z"
    },
    "papermill": {
     "duration": 58.852414,
     "end_time": "2020-12-23T12:22:10.420915",
     "exception": false,
     "start_time": "2020-12-23T12:21:11.568501",
     "status": "completed"
    },
    "tags": []
   },
   "outputs": [
    {
     "name": "stdout",
     "output_type": "stream",
     "text": [
      "RF Model cross validation accuarcy score: 0.8696 +/- 0.0011 (std) min: 0.8678, max: 0.8703\n"
     ]
    }
   ],
   "source": [
    "X = full_data.drop([\"is_canceled\"], axis=1)[features]\n",
    "y = full_data[\"is_canceled\"]\n",
    "\n",
    "model_steps = Pipeline(steps=[('preprocessor', preprocessor),\n",
    "                              ('model', RandomForestClassifier(random_state=42,n_jobs=-1))])\n",
    "    \n",
    "cv_results = cross_val_score(model_steps, \n",
    "                             X, y, \n",
    "                             cv=split,\n",
    "                             scoring=\"accuracy\",\n",
    "                             n_jobs=-1)\n",
    "\n",
    "min_score = round(min(cv_results), 4)\n",
    "max_score = round(max(cv_results), 4)\n",
    "mean_score = round(np.mean(cv_results), 4)\n",
    "std_dev = round(np.std(cv_results), 4)\n",
    "print(f\"RF Model cross validation accuarcy score: {mean_score} +/- {std_dev} (std) min: {min_score}, max: {max_score}\")"
   ]
  },
  {
   "cell_type": "markdown",
   "metadata": {
    "papermill": {
     "duration": 0.100307,
     "end_time": "2020-12-23T12:22:10.622387",
     "exception": false,
     "start_time": "2020-12-23T12:22:10.522080",
     "status": "completed"
    },
    "tags": []
   },
   "source": [
    "# Final Tuning\n",
    "\n",
    "Now we have done all the modifications. Let's finally adjust the hyperparameters and make the final predictions."
   ]
  },
  {
   "cell_type": "code",
   "execution_count": 53,
   "metadata": {
    "execution": {
     "iopub.execute_input": "2020-12-23T12:22:10.833199Z",
     "iopub.status.busy": "2020-12-23T12:22:10.832431Z",
     "iopub.status.idle": "2020-12-23T12:24:28.246485Z",
     "shell.execute_reply": "2020-12-23T12:24:28.247160Z"
    },
    "papermill": {
     "duration": 137.524478,
     "end_time": "2020-12-23T12:24:28.247348",
     "exception": false,
     "start_time": "2020-12-23T12:22:10.722870",
     "status": "completed"
    },
    "tags": []
   },
   "outputs": [
    {
     "name": "stdout",
     "output_type": "stream",
     "text": [
      "Enhanced RF model cross validation accuarcy score: 0.8712 +/- 0.0019 (std) min: 0.8689, max: 0.8742\n"
     ]
    }
   ],
   "source": [
    "rf_model_enh = RandomForestClassifier(n_estimators=160,\n",
    "                               max_features=0.4,\n",
    "                               min_samples_split=2,\n",
    "                               n_jobs=-1,\n",
    "                               random_state=0)\n",
    "\n",
    "split = KFold(n_splits=kfolds, shuffle=True, random_state=42)\n",
    "model_pipe = Pipeline(steps=[('preprocessor', preprocessor),\n",
    "                              ('model', rf_model_enh)])\n",
    "cv_results = cross_val_score(model_pipe, \n",
    "                                 X, y, \n",
    "                                 cv=split,\n",
    "                                 scoring=\"accuracy\",\n",
    "                                 n_jobs=-1)\n",
    "# output:\n",
    "min_score = round(min(cv_results), 4)\n",
    "max_score = round(max(cv_results), 4)\n",
    "mean_score = round(np.mean(cv_results), 4)\n",
    "std_dev = round(np.std(cv_results), 4)\n",
    "print(f\"Enhanced RF model cross validation accuarcy score: {mean_score} +/- {std_dev} (std) min: {min_score}, max: {max_score}\")"
   ]
  },
  {
   "cell_type": "markdown",
   "metadata": {
    "papermill": {
     "duration": 0.103145,
     "end_time": "2020-12-23T12:24:28.453126",
     "exception": false,
     "start_time": "2020-12-23T12:24:28.349981",
     "status": "completed"
    },
    "tags": []
   },
   "source": [
    "So our final perdiction accyracy is 87.12%."
   ]
  }
 ],
 "metadata": {
  "kernelspec": {
   "display_name": "Python 3",
   "language": "python",
   "name": "python3"
  },
  "language_info": {
   "codemirror_mode": {
    "name": "ipython",
    "version": 3
   },
   "file_extension": ".py",
   "mimetype": "text/x-python",
   "name": "python",
   "nbconvert_exporter": "python",
   "pygments_lexer": "ipython3",
   "version": "3.7.6"
  },
  "papermill": {
   "duration": 362.636334,
   "end_time": "2020-12-23T12:24:28.662440",
   "environment_variables": {},
   "exception": null,
   "input_path": "__notebook__.ipynb",
   "output_path": "__notebook__.ipynb",
   "parameters": {},
   "start_time": "2020-12-23T12:18:26.026106",
   "version": "2.1.0"
  }
 },
 "nbformat": 4,
 "nbformat_minor": 4
}
